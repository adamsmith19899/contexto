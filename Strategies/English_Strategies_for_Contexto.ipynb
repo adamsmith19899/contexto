{
  "cells": [
    {
      "cell_type": "markdown",
      "id": "a3bdae8a",
      "metadata": {
        "id": "a3bdae8a"
      },
      "source": [
        "# Project. Contexto for popular words. Basic strategies\n",
        "\n",
        "Prepared by Grigoriy Kryukov"
      ]
    },
    {
      "cell_type": "code",
      "execution_count": null,
      "id": "dfe3f311",
      "metadata": {
        "id": "dfe3f311"
      },
      "outputs": [],
      "source": [
        "import numpy as np\n",
        "import pandas as pd\n",
        "from gensim.test.utils import common_texts\n",
        "from gensim.models import Word2Vec\n",
        "import gensim.downloader\n",
        "from nltk import pos_tag\n",
        "from nltk.corpus import wordnet as wn\n",
        "from time import sleep\n",
        "from tqdm import tqdm\n",
        "import matplotlib.pyplot as plt"
      ]
    },
    {
      "cell_type": "code",
      "execution_count": null,
      "id": "6531842c",
      "metadata": {
        "id": "6531842c",
        "colab": {
          "base_uri": "https://localhost:8080/"
        },
        "outputId": "bac18cfb-3912-47c3-de26-f3b6b509a85d"
      },
      "outputs": [
        {
          "output_type": "stream",
          "name": "stdout",
          "text": [
            "[==================================================] 100.0% 128.1/128.1MB downloaded\n"
          ]
        }
      ],
      "source": [
        "# model\n",
        "model = gensim.downloader.load('glove-wiki-gigaword-100')"
      ]
    },
    {
      "cell_type": "markdown",
      "id": "786fd5c7",
      "metadata": {
        "id": "786fd5c7"
      },
      "source": [
        "## Building a game\n",
        "\n",
        "Anwar Ibrahim helped to select the most popular nouns in English.\n",
        "\n",
        "We will create a game in which only these 1522 words will be used.\n",
        "\n",
        "The purpose of this laptop is to analyze the game and strategies, and not to make a user-friendly interface. Therefore, we will assume that all 1522 words are numbered and the game takes place by entering a number."
      ]
    },
    {
      "cell_type": "code",
      "execution_count": null,
      "id": "021666c6",
      "metadata": {
        "id": "021666c6",
        "outputId": "2b27bf5f-03c7-434d-89fb-55141d80e22b",
        "colab": {
          "base_uri": "https://localhost:8080/"
        }
      },
      "outputs": [
        {
          "output_type": "execute_result",
          "data": {
            "text/plain": [
              "1522"
            ]
          },
          "metadata": {},
          "execution_count": 3
        }
      ],
      "source": [
        "f = open(\"nouns.txt\")\n",
        "lines = f.readlines()\n",
        "f.close()\n",
        "nouns = [line[:-1] for line in lines]\n",
        "N = len(nouns)\n",
        "nouns[N-1] = 'history'\n",
        "N"
      ]
    },
    {
      "cell_type": "markdown",
      "id": "d71d2145",
      "metadata": {
        "id": "d71d2145"
      },
      "source": [
        "Let's construct the sim matrix so that $sim[i][j]$ will show the cosine distance between words with numbers i and j."
      ]
    },
    {
      "cell_type": "code",
      "execution_count": null,
      "id": "c0cb5d23",
      "metadata": {
        "id": "c0cb5d23",
        "outputId": "0fd6bc78-d4d8-41f0-8fcc-e536c5949150",
        "colab": {
          "base_uri": "https://localhost:8080/"
        }
      },
      "outputs": [
        {
          "output_type": "stream",
          "name": "stderr",
          "text": [
            "100%|██████████| 1522/1522 [00:38<00:00, 39.79it/s]\n"
          ]
        },
        {
          "output_type": "execute_result",
          "data": {
            "text/plain": [
              "array([[ 0.99999994, -0.12505347,  0.38884488, ...,  0.05184942,\n",
              "         0.21734822,  0.12177171],\n",
              "       [-0.12505347,  1.        ,  0.20680518, ...,  0.29121757,\n",
              "         0.37107003,  0.29006228],\n",
              "       [ 0.38884488,  0.20680518,  1.        , ...,  0.33986238,\n",
              "         0.39261425,  0.54904616],\n",
              "       ...,\n",
              "       [ 0.05184942,  0.29121757,  0.33986238, ...,  1.        ,\n",
              "         0.44234431,  0.3665705 ],\n",
              "       [ 0.21734822,  0.37107003,  0.39261425, ...,  0.44234431,\n",
              "         1.        ,  0.33748928],\n",
              "       [ 0.12177171,  0.29006228,  0.54904616, ...,  0.3665705 ,\n",
              "         0.33748928,  1.        ]])"
            ]
          },
          "metadata": {},
          "execution_count": 4
        }
      ],
      "source": [
        "N = len(nouns)\n",
        "sim = np.zeros((N, N))\n",
        "for i in tqdm(range(N)):\n",
        "    for j in range(N):\n",
        "        sim[i][j] = model.similarity(nouns[i], nouns[j])\n",
        "\n",
        "sim"
      ]
    },
    {
      "cell_type": "code",
      "execution_count": null,
      "id": "8913baca",
      "metadata": {
        "id": "8913baca",
        "outputId": "d5207450-2b28-418e-b2ad-005754ece169",
        "colab": {
          "base_uri": "https://localhost:8080/"
        }
      },
      "outputs": [
        {
          "output_type": "execute_result",
          "data": {
            "text/plain": [
              "array([   0,  123, 1008, ...,  446,  445, 1298])"
            ]
          },
          "metadata": {},
          "execution_count": 5
        }
      ],
      "source": [
        "# argsort in descending order\n",
        "np.argsort(sim[0])[::-1]"
      ]
    },
    {
      "cell_type": "code",
      "execution_count": null,
      "id": "2b58dd99",
      "metadata": {
        "id": "2b58dd99",
        "outputId": "b14eb699-d74f-4144-cf7d-f3db4b8911ff",
        "colab": {
          "base_uri": "https://localhost:8080/"
        }
      },
      "outputs": [
        {
          "output_type": "execute_result",
          "data": {
            "text/plain": [
              "array([   0, 1517,  109, ..., 1328,  609, 1061])"
            ]
          },
          "metadata": {},
          "execution_count": 6
        }
      ],
      "source": [
        "np.argsort(np.argsort(sim[0])[::-1])"
      ]
    },
    {
      "cell_type": "markdown",
      "id": "ab4d22c9",
      "metadata": {
        "id": "ab4d22c9"
      },
      "source": [
        "For each word i, we can rank all the words from the closest (0, the word itself) to the farthest (1521). Let $game_rank[i][j]$ be the rank of the word $j$ in the rating for the word $i$."
      ]
    },
    {
      "cell_type": "code",
      "execution_count": null,
      "id": "781e3efb",
      "metadata": {
        "id": "781e3efb",
        "outputId": "e660aa75-c263-40ab-f640-3089865fc2cb",
        "colab": {
          "base_uri": "https://localhost:8080/"
        }
      },
      "outputs": [
        {
          "output_type": "stream",
          "name": "stderr",
          "text": [
            "100%|██████████| 1522/1522 [00:00<00:00, 4680.37it/s]\n"
          ]
        }
      ],
      "source": [
        "game_rank = np.zeros((N, N))\n",
        "for i in tqdm(range(N)):\n",
        "    game_rank[i] = np.argsort(np.argsort(sim[i])[::-1])"
      ]
    },
    {
      "cell_type": "code",
      "execution_count": null,
      "id": "30594d26",
      "metadata": {
        "id": "30594d26",
        "outputId": "1898b71e-824c-42f4-a4b1-0aff9f0ac9ff",
        "colab": {
          "base_uri": "https://localhost:8080/"
        }
      },
      "outputs": [
        {
          "output_type": "execute_result",
          "data": {
            "text/plain": [
              "array([[   0., 1517.,  109., ..., 1328.,  609., 1061.],\n",
              "       [1519.,    0.,  904., ...,  549.,  247.,  559.],\n",
              "       [ 691., 1437.,    0., ...,  960.,  670.,  131.],\n",
              "       ...,\n",
              "       [1501.,  610.,  403., ...,    0.,  133.,  303.],\n",
              "       [1356.,  681.,  567., ...,  348.,    0.,  847.],\n",
              "       [1466., 1020.,   90., ...,  700.,  824.,    0.]])"
            ]
          },
          "metadata": {},
          "execution_count": 8
        }
      ],
      "source": [
        "assert np.diag(game_rank).sum() == 0\n",
        "game_rank"
      ]
    },
    {
      "cell_type": "markdown",
      "id": "5bffbeef",
      "metadata": {
        "id": "5bffbeef"
      },
      "source": [
        "Using this table, we can build a minimally viable game."
      ]
    },
    {
      "cell_type": "code",
      "execution_count": null,
      "id": "fc618764",
      "metadata": {
        "id": "fc618764"
      },
      "outputs": [],
      "source": [
        "def simple_game():\n",
        "    target = np.random.randint(N)\n",
        "    win_flag = False\n",
        "    attempts = 0\n",
        "    while True:\n",
        "        print(\"Input the number\")\n",
        "        attempt = int(input())\n",
        "        rank = int(game_rank[target][attempt])\n",
        "        if attempt == -1:\n",
        "            break\n",
        "        print(\"The rank of your word is \" + str(rank))\n",
        "        attempts += 1\n",
        "        if rank == 0:\n",
        "            win_flag = True\n",
        "            break\n",
        "    print(\"Number of attempts is \" + str(attempts))\n",
        "    print(\"answer is \" + str(target))"
      ]
    },
    {
      "cell_type": "code",
      "execution_count": null,
      "id": "b2de90ff",
      "metadata": {
        "id": "b2de90ff",
        "outputId": "95b253d9-704e-454c-d1d7-e4331b35250c",
        "colab": {
          "base_uri": "https://localhost:8080/"
        }
      },
      "outputs": [
        {
          "output_type": "stream",
          "name": "stdout",
          "text": [
            "Input the number\n",
            "1\n",
            "The rank of your word is 1308\n",
            "Input the number\n",
            "2\n",
            "The rank of your word is 102\n",
            "Input the number\n",
            "3\n",
            "The rank of your word is 918\n",
            "Input the number\n",
            "4\n",
            "The rank of your word is 438\n",
            "Input the number\n",
            "-1\n",
            "Number of attempts is 4\n",
            "answer is 366\n"
          ]
        }
      ],
      "source": [
        "simple_game()"
      ]
    },
    {
      "cell_type": "markdown",
      "id": "a865087e",
      "metadata": {
        "id": "a865087e"
      },
      "source": [
        "Let's randomly call the words in some order (without repetition). Then at least on the nth attempt we will guess. It is not difficult to calculate that the expectation of the number of attempts is equal to\n",
        "$$E[attempts] = \\frac{1+2+...+N}{N} = \\frac{N(N+1)}{2N} = \\frac{N+1}{2} = 761.5$$\n",
        "\n",
        "Can a meaningful strategy reduce for us the expectation of the number of attempts to win?\n",
        "\n",
        "First of all, let's assume that we have some idea of our own about the proximity of words. For simplicity, let's use another model as a \"player's view of the world\". Similarly, we will rank all the words $j$ for the player relative to the proximity to the word $i$."
      ]
    },
    {
      "cell_type": "markdown",
      "id": "c26f23b4",
      "metadata": {
        "id": "c26f23b4"
      },
      "source": [
        "## Adding a player with own believes about the closeness of words"
      ]
    },
    {
      "cell_type": "code",
      "execution_count": null,
      "id": "899326f8",
      "metadata": {
        "id": "899326f8",
        "colab": {
          "base_uri": "https://localhost:8080/"
        },
        "outputId": "8c98c171-8d97-4e08-89a9-7e2f6990e338"
      },
      "outputs": [
        {
          "output_type": "stream",
          "name": "stdout",
          "text": [
            "[==================================================] 100.0% 387.1/387.1MB downloaded\n"
          ]
        }
      ],
      "source": [
        "# model\n",
        "model2 = gensim.downloader.load('glove-twitter-100')"
      ]
    },
    {
      "cell_type": "code",
      "execution_count": null,
      "id": "4b6079d1",
      "metadata": {
        "id": "4b6079d1",
        "outputId": "12534fe9-9c60-4b95-d5df-fbb02033b50b",
        "colab": {
          "base_uri": "https://localhost:8080/"
        }
      },
      "outputs": [
        {
          "output_type": "stream",
          "name": "stderr",
          "text": [
            "100%|██████████| 1522/1522 [00:39<00:00, 38.53it/s]\n"
          ]
        },
        {
          "output_type": "execute_result",
          "data": {
            "text/plain": [
              "array([[ 0.99999994, -0.03954951,  0.43833688, ...,  0.24595916,\n",
              "         0.44524619,  0.2986683 ],\n",
              "       [-0.03954951,  1.        ,  0.16166672, ...,  0.27183193,\n",
              "         0.30649003,  0.26748785],\n",
              "       [ 0.43833688,  0.16166672,  1.00000012, ...,  0.44572788,\n",
              "         0.5112415 ,  0.49220368],\n",
              "       ...,\n",
              "       [ 0.24595916,  0.27183193,  0.44572788, ...,  1.        ,\n",
              "         0.34110686,  0.48637834],\n",
              "       [ 0.44524619,  0.30649003,  0.5112415 , ...,  0.34110686,\n",
              "         1.00000012,  0.5377754 ],\n",
              "       [ 0.2986683 ,  0.26748785,  0.49220368, ...,  0.48637834,\n",
              "         0.5377754 ,  0.99999994]])"
            ]
          },
          "metadata": {},
          "execution_count": 12
        }
      ],
      "source": [
        "N = len(nouns)\n",
        "sim_player = np.zeros((N, N))\n",
        "for i in tqdm(range(N)):\n",
        "    for j in range(N):\n",
        "        sim_player[i][j] = model2.similarity(nouns[i], nouns[j])\n",
        "\n",
        "sim_player"
      ]
    },
    {
      "cell_type": "code",
      "execution_count": null,
      "id": "b54a8c16",
      "metadata": {
        "id": "b54a8c16",
        "outputId": "ea48e721-220f-4f6a-ab1c-69a2c44321cd",
        "colab": {
          "base_uri": "https://localhost:8080/"
        }
      },
      "outputs": [
        {
          "output_type": "stream",
          "name": "stderr",
          "text": [
            "100%|██████████| 1522/1522 [00:00<00:00, 4769.00it/s]\n"
          ]
        }
      ],
      "source": [
        "player_rank = np.zeros((N, N))\n",
        "for i in tqdm(range(N)):\n",
        "    player_rank[i] = np.argsort(np.argsort(sim_player[i])[::-1])"
      ]
    },
    {
      "cell_type": "markdown",
      "id": "80f9aa07",
      "metadata": {
        "id": "80f9aa07"
      },
      "source": [
        "Note that on average, the difference between the ranks of the player model and the game model is $284$. This suggests that the representations of different models about the proximity of words can be quite different."
      ]
    },
    {
      "cell_type": "code",
      "execution_count": null,
      "id": "053fb940",
      "metadata": {
        "id": "053fb940",
        "outputId": "239a2004-c9b3-4bed-e649-8703b86fd300",
        "colab": {
          "base_uri": "https://localhost:8080/"
        }
      },
      "outputs": [
        {
          "output_type": "execute_result",
          "data": {
            "text/plain": [
              "284.35493273426454"
            ]
          },
          "metadata": {},
          "execution_count": 14
        }
      ],
      "source": [
        "np.abs(game_rank - player_rank).mean()"
      ]
    },
    {
      "cell_type": "code",
      "execution_count": null,
      "id": "99db1af6",
      "metadata": {
        "id": "99db1af6",
        "outputId": "8d72b476-5b5f-454c-e562-a435ae6847db",
        "colab": {
          "base_uri": "https://localhost:8080/"
        }
      },
      "outputs": [
        {
          "output_type": "execute_result",
          "data": {
            "text/plain": [
              "0.0"
            ]
          },
          "metadata": {},
          "execution_count": 15
        }
      ],
      "source": [
        "(game_rank - player_rank).mean()"
      ]
    },
    {
      "cell_type": "code",
      "execution_count": null,
      "id": "d8775edb",
      "metadata": {
        "id": "d8775edb",
        "outputId": "f7184a36-15a0-4962-c4d6-105788801c70",
        "colab": {
          "base_uri": "https://localhost:8080/"
        }
      },
      "outputs": [
        {
          "output_type": "execute_result",
          "data": {
            "text/plain": [
              "array([[   0., 1513.,  375., ..., 1043.,  355.,  852.],\n",
              "       [1519.,    0., 1264., ...,  765.,  630.,  780.],\n",
              "       [ 504., 1467.,    0., ...,  470.,  240.,  305.],\n",
              "       ...,\n",
              "       [1326., 1216.,  251., ...,    0.,  817.,  128.],\n",
              "       [ 768., 1312.,  456., ..., 1202.,    0.,  368.],\n",
              "       [1275., 1363.,  407., ...,  438.,  238.,    0.]])"
            ]
          },
          "metadata": {},
          "execution_count": 16
        }
      ],
      "source": [
        "player_rank"
      ]
    },
    {
      "cell_type": "code",
      "execution_count": null,
      "id": "8fa9e263",
      "metadata": {
        "id": "8fa9e263",
        "outputId": "ba0db449-5341-48d0-f14b-b54ce7969840",
        "colab": {
          "base_uri": "https://localhost:8080/"
        }
      },
      "outputs": [
        {
          "output_type": "execute_result",
          "data": {
            "text/plain": [
              "array([[   0., 1517.,  109., ..., 1328.,  609., 1061.],\n",
              "       [1519.,    0.,  904., ...,  549.,  247.,  559.],\n",
              "       [ 691., 1437.,    0., ...,  960.,  670.,  131.],\n",
              "       ...,\n",
              "       [1501.,  610.,  403., ...,    0.,  133.,  303.],\n",
              "       [1356.,  681.,  567., ...,  348.,    0.,  847.],\n",
              "       [1466., 1020.,   90., ...,  700.,  824.,    0.]])"
            ]
          },
          "metadata": {},
          "execution_count": 17
        }
      ],
      "source": [
        "game_rank"
      ]
    },
    {
      "cell_type": "markdown",
      "id": "6a8df121",
      "metadata": {
        "id": "6a8df121"
      },
      "source": [
        "Now let's look at the difference in ranks in more detail. Let's fix the rank of $k$ from the \"game\" model and calculate what the average deviation from $k$ is shown by the ranks of the \"player\" model."
      ]
    },
    {
      "cell_type": "code",
      "execution_count": null,
      "id": "46ba928f",
      "metadata": {
        "id": "46ba928f",
        "outputId": "583ca044-00a7-45c9-ed07-7ccd97344616",
        "colab": {
          "base_uri": "https://localhost:8080/"
        }
      },
      "outputs": [
        {
          "output_type": "stream",
          "name": "stderr",
          "text": [
            "100%|██████████| 1522/1522 [00:07<00:00, 203.11it/s]\n"
          ]
        }
      ],
      "source": [
        "rank_difference = np.zeros(N)\n",
        "for i in tqdm(range(N)):\n",
        "    for j in range(N):\n",
        "        r = game_rank[i][j]\n",
        "        rank_difference[int(r)] += np.abs(game_rank[i][j] - player_rank[i][j])\n",
        "rank_difference /= N"
      ]
    },
    {
      "cell_type": "code",
      "execution_count": null,
      "id": "137bef8a",
      "metadata": {
        "id": "137bef8a",
        "outputId": "042fdb16-fc51-4c9f-9a22-75c7a7f23376",
        "colab": {
          "base_uri": "https://localhost:8080/"
        }
      },
      "outputs": [
        {
          "output_type": "execute_result",
          "data": {
            "text/plain": [
              "array([  0.        ,  69.36399474,  75.0847569 , ..., 192.45269382,\n",
              "       193.14388962, 204.82785808])"
            ]
          },
          "metadata": {},
          "execution_count": 19
        }
      ],
      "source": [
        "rank_difference"
      ]
    },
    {
      "cell_type": "code",
      "execution_count": null,
      "id": "caf6868b",
      "metadata": {
        "id": "caf6868b",
        "outputId": "d0d52b41-61a1-4c77-89d9-a5c2a5cfc8b8",
        "colab": {
          "base_uri": "https://localhost:8080/"
        }
      },
      "outputs": [
        {
          "output_type": "execute_result",
          "data": {
            "text/plain": [
              "284.35493273426454"
            ]
          },
          "metadata": {},
          "execution_count": 20
        }
      ],
      "source": [
        "rank_difference.mean()"
      ]
    },
    {
      "cell_type": "code",
      "execution_count": null,
      "id": "b13cb54f",
      "metadata": {
        "id": "b13cb54f",
        "outputId": "9a78db2b-65aa-4f04-8672-3bd307e71f37",
        "colab": {
          "base_uri": "https://localhost:8080/",
          "height": 449
        }
      },
      "outputs": [
        {
          "output_type": "display_data",
          "data": {
            "text/plain": [
              "<Figure size 640x480 with 1 Axes>"
            ],
            "image/png": "[encoded data removed]"
          },
          "metadata": {}
        }
      ],
      "source": [
        "plt.scatter(np.arange(N), rank_difference, s=1)\n",
        "plt.xlabel('rank by game')\n",
        "plt.ylabel('abs diff between player and game ranks')\n",
        "plt.show()"
      ]
    },
    {
      "cell_type": "markdown",
      "id": "19687e59",
      "metadata": {
        "id": "19687e59"
      },
      "source": [
        "We can see that the differences in the forecast of close words are much smaller than in the forecast of distant ones. This seems logical: all models will say that the word \"mother\" is close to the word \"father\". However, the models may differ in what is closer to the word \"mother\": \"guitar\" or \"basketball\"."
      ]
    },
    {
      "cell_type": "markdown",
      "id": "34b746e2",
      "metadata": {
        "id": "34b746e2"
      },
      "source": [
        "## Player rank using Algorithm\n",
        "\n",
        "Let's implement the following algorithm.\n",
        "The word for the first move is chosen randomly. The game returns how close this word is to the target word (rank $k$). The player looks at his matrix, which word is at the position $k$ from the hidden one and uses this word for the next move. Etc. If the player at some point previously called a word that is at the position $k$ from the hidden one, then he calls the word at the position $k-1$ ($k+1$, $k-2$, $k+2$ e.t.c.).\n",
        "This happens until the player guesses the target word."
      ]
    },
    {
      "cell_type": "code",
      "execution_count": null,
      "id": "07c5a94b",
      "metadata": {
        "id": "07c5a94b"
      },
      "outputs": [],
      "source": [
        "# Auxiliary function. Determining the closest number to the number num that has not been used before\n",
        "\n",
        "def get_nearest_num(num, used, num_set=np.arange(N)):\n",
        "    if num not in used:\n",
        "        return num\n",
        "    min_diff = np.inf\n",
        "    nearest = np.nan\n",
        "    for i in num_set:\n",
        "        if i not in used:\n",
        "            diff = np.abs(num - i)\n",
        "            if diff < min_diff:\n",
        "                min_diff = diff\n",
        "                nearest = i\n",
        "    return nearest"
      ]
    },
    {
      "cell_type": "code",
      "execution_count": null,
      "id": "cc321038",
      "metadata": {
        "id": "cc321038",
        "outputId": "b8ded3ba-dd45-40e2-840c-1f247b4fb1fa",
        "colab": {
          "base_uri": "https://localhost:8080/"
        }
      },
      "outputs": [
        {
          "output_type": "execute_result",
          "data": {
            "text/plain": [
              "7"
            ]
          },
          "metadata": {},
          "execution_count": 23
        }
      ],
      "source": [
        "get_nearest_num(5, [3,4,5,6,111])"
      ]
    },
    {
      "cell_type": "code",
      "execution_count": null,
      "id": "03b6425e",
      "metadata": {
        "id": "03b6425e"
      },
      "outputs": [],
      "source": [
        "def player_rank_using(target, first_move):\n",
        "    attempts = 1\n",
        "    move = first_move\n",
        "    used = []\n",
        "    while target != move:\n",
        "        attempts += 1\n",
        "        game_output = int(game_rank[target][move])\n",
        "        used.append(move)\n",
        "        next_move = -1\n",
        "        curr_used = []\n",
        "        while next_move == -1:\n",
        "            output = get_nearest_num(game_output, curr_used)\n",
        "            for k in range(N):\n",
        "                if player_rank[move][k] == output:\n",
        "                    next_move = k\n",
        "            if next_move in used:\n",
        "                curr_used.append(output)\n",
        "                next_move = -1\n",
        "        move = next_move\n",
        "    return attempts"
      ]
    },
    {
      "cell_type": "markdown",
      "id": "ef2afd8c",
      "metadata": {
        "id": "ef2afd8c"
      },
      "source": [
        "Let's run 1000 simulations of games where the player uses this algorithm.\n",
        "Let's look at the various parameters."
      ]
    },
    {
      "cell_type": "code",
      "execution_count": null,
      "id": "3e557ad4",
      "metadata": {
        "id": "3e557ad4",
        "outputId": "00f09e11-ca46-4d6c-e24e-d9e2c3903ae9",
        "colab": {
          "base_uri": "https://localhost:8080/"
        }
      },
      "outputs": [
        {
          "output_type": "stream",
          "name": "stderr",
          "text": [
            "100%|██████████| 100/100 [02:52<00:00,  1.73s/it]\n"
          ]
        }
      ],
      "source": [
        "np.random.seed(42)\n",
        "M = 100\n",
        "PRU_num_moves_to_win = np.zeros(M)\n",
        "for k in tqdm(range(M)):\n",
        "    i = np.random.choice(N)\n",
        "    j = np.random.choice(N)\n",
        "    PRU_num_moves_to_win[k] = player_rank_using(i, j)"
      ]
    },
    {
      "cell_type": "code",
      "execution_count": null,
      "id": "634458e6",
      "metadata": {
        "id": "634458e6",
        "outputId": "aaf07bf8-711b-4a06-f3ec-313f63157d75",
        "colab": {
          "base_uri": "https://localhost:8080/"
        }
      },
      "outputs": [
        {
          "output_type": "execute_result",
          "data": {
            "text/plain": [
              "467.73"
            ]
          },
          "metadata": {},
          "execution_count": 26
        }
      ],
      "source": [
        "PRU_num_moves_to_win.mean()"
      ]
    },
    {
      "cell_type": "code",
      "execution_count": null,
      "id": "e6f45704",
      "metadata": {
        "id": "e6f45704",
        "outputId": "a4ff64ca-ed68-43f2-8288-0cf75f54dbcf",
        "colab": {
          "base_uri": "https://localhost:8080/"
        }
      },
      "outputs": [
        {
          "output_type": "execute_result",
          "data": {
            "text/plain": [
              "421.9663696315146"
            ]
          },
          "metadata": {},
          "execution_count": 27
        }
      ],
      "source": [
        "PRU_num_moves_to_win.std()"
      ]
    },
    {
      "cell_type": "code",
      "execution_count": null,
      "id": "4344bdfb",
      "metadata": {
        "id": "4344bdfb",
        "outputId": "d3d34d97-635e-475a-a3cd-f559fa42fbb5",
        "colab": {
          "base_uri": "https://localhost:8080/"
        }
      },
      "outputs": [
        {
          "output_type": "execute_result",
          "data": {
            "text/plain": [
              "305.0"
            ]
          },
          "metadata": {},
          "execution_count": 28
        }
      ],
      "source": [
        "np.median(PRU_num_moves_to_win)"
      ]
    },
    {
      "cell_type": "code",
      "execution_count": null,
      "id": "ad4c0bd2",
      "metadata": {
        "id": "ad4c0bd2",
        "outputId": "17ae725f-550b-4c25-a365-5e8d7fe1f08a",
        "colab": {
          "base_uri": "https://localhost:8080/"
        }
      },
      "outputs": [
        {
          "output_type": "execute_result",
          "data": {
            "text/plain": [
              "0.38"
            ]
          },
          "metadata": {},
          "execution_count": 29
        }
      ],
      "source": [
        "(PRU_num_moves_to_win < 200).mean()"
      ]
    },
    {
      "cell_type": "code",
      "execution_count": null,
      "id": "36bca0ab",
      "metadata": {
        "id": "36bca0ab",
        "outputId": "63c9f07b-6db4-4219-b5b5-7551fabf8e6d",
        "colab": {
          "base_uri": "https://localhost:8080/",
          "height": 449
        }
      },
      "outputs": [
        {
          "output_type": "display_data",
          "data": {
            "text/plain": [
              "<Figure size 640x480 with 1 Axes>"
            ],
            "image/png": "[encoded data removed]"
          },
          "metadata": {}
        }
      ],
      "source": [
        "plt.hist(PRU_num_moves_to_win, bins=25)\n",
        "plt.xlabel('attempts for win')\n",
        "plt.show()"
      ]
    },
    {
      "cell_type": "markdown",
      "id": "408278b5",
      "metadata": {
        "id": "408278b5"
      },
      "source": [
        "The estimated expectation of the number of moves is $461$. This is significantly less than $761$ with a random choice of words.\n",
        "\n",
        "The standard deviation for random word selection is approximately equal to $\\sqrt{\\frac{(N-1)^2}{12}} \\approx 439$.\n",
        "\n",
        "The estimated standard deviation when using the PRU algorithm is $365$. That's less than $439$.\n",
        "\n",
        "Finally, let's look at the empirical distribution function of the number of attempts. We see that it is decreasing. In almost 30% of cases, 200 attempts are enough to guess the word."
      ]
    },
    {
      "cell_type": "markdown",
      "id": "e78bcaf7",
      "metadata": {
        "id": "e78bcaf7"
      },
      "source": [
        "## Further ideas\n",
        "\n",
        "You can try another model as a player's faith and study how the proximity of the player and game matrices affects the average number of moves to guess the target word.\n",
        "\n",
        "You can improve the algorithm by teaching it to take into account all the information, not just the previous move."
      ]
    },
    {
      "cell_type": "code",
      "execution_count": null,
      "id": "5d326f0f",
      "metadata": {
        "id": "5d326f0f"
      },
      "outputs": [],
      "source": [
        "def maximum_likelihood_using(target, first_move):\n",
        "    attempts = 1\n",
        "    move = first_move\n",
        "    used = np.array([False for _ in range(N)])\n",
        "    sum_diff = np.zeros(N)\n",
        "    while target != move:\n",
        "        attempts += 1\n",
        "        game_output = int(game_rank[target][move])\n",
        "        used[move] = True\n",
        "        for k in range(N):\n",
        "            sum_diff[k] += np.abs(player_rank[k][move] - game_output)\n",
        "        available_sumdiff = np.where(used, np.inf, sum_diff)\n",
        "        move = np.argmin(available_sumdiff)\n",
        "    return attempts"
      ]
    },
    {
      "cell_type": "code",
      "execution_count": null,
      "id": "bc737201",
      "metadata": {
        "id": "bc737201",
        "outputId": "d4210dca-bb40-4c0d-eca9-086a024a2da6",
        "colab": {
          "base_uri": "https://localhost:8080/"
        }
      },
      "outputs": [
        {
          "output_type": "execute_result",
          "data": {
            "text/plain": [
              "6"
            ]
          },
          "metadata": {},
          "execution_count": 32
        }
      ],
      "source": [
        "maximum_likelihood_using(0, 1)"
      ]
    },
    {
      "cell_type": "code",
      "execution_count": null,
      "id": "95708466",
      "metadata": {
        "id": "95708466",
        "outputId": "ba348270-82a0-4029-b901-1ace5381ee84",
        "colab": {
          "base_uri": "https://localhost:8080/"
        }
      },
      "outputs": [
        {
          "output_type": "stream",
          "name": "stderr",
          "text": [
            "100%|██████████| 1000/1000 [04:08<00:00,  4.03it/s]\n"
          ]
        }
      ],
      "source": [
        "np.random.seed(42)\n",
        "M = 1000\n",
        "MLU_num_moves_to_win = np.zeros(M)\n",
        "for k in tqdm(range(M)):\n",
        "    i = np.random.choice(N)\n",
        "    j = np.random.choice(N)\n",
        "    MLU_num_moves_to_win[k] = maximum_likelihood_using(i, j)"
      ]
    },
    {
      "cell_type": "code",
      "execution_count": null,
      "id": "c338264b",
      "metadata": {
        "id": "c338264b",
        "outputId": "1a426f82-cc55-4656-bb9d-06dcdd0232c3",
        "colab": {
          "base_uri": "https://localhost:8080/"
        }
      },
      "outputs": [
        {
          "output_type": "execute_result",
          "data": {
            "text/plain": [
              "57.484"
            ]
          },
          "metadata": {},
          "execution_count": 34
        }
      ],
      "source": [
        "MLU_num_moves_to_win.mean()"
      ]
    },
    {
      "cell_type": "code",
      "execution_count": null,
      "id": "41a04731",
      "metadata": {
        "id": "41a04731",
        "outputId": "94384693-d5bd-4d54-8573-77f9e8c6f58f",
        "colab": {
          "base_uri": "https://localhost:8080/"
        }
      },
      "outputs": [
        {
          "output_type": "execute_result",
          "data": {
            "text/plain": [
              "86.79688787047608"
            ]
          },
          "metadata": {},
          "execution_count": 35
        }
      ],
      "source": [
        "MLU_num_moves_to_win.std()"
      ]
    },
    {
      "cell_type": "code",
      "execution_count": null,
      "id": "5d330870",
      "metadata": {
        "id": "5d330870",
        "outputId": "6f6d5da6-0ee5-4854-a17b-43d03ca4beb1",
        "colab": {
          "base_uri": "https://localhost:8080/"
        }
      },
      "outputs": [
        {
          "output_type": "execute_result",
          "data": {
            "text/plain": [
              "27.0"
            ]
          },
          "metadata": {},
          "execution_count": 36
        }
      ],
      "source": [
        "np.median(MLU_num_moves_to_win)"
      ]
    },
    {
      "cell_type": "code",
      "execution_count": null,
      "id": "93b2735f",
      "metadata": {
        "id": "93b2735f",
        "outputId": "33f7c6cc-7199-4fd5-d396-088f20757b13",
        "colab": {
          "base_uri": "https://localhost:8080/",
          "height": 449
        }
      },
      "outputs": [
        {
          "output_type": "display_data",
          "data": {
            "text/plain": [
              "<Figure size 640x480 with 1 Axes>"
            ],
            "image/png": "[encoded data removed]"
          },
          "metadata": {}
        }
      ],
      "source": [
        "plt.hist(MLU_num_moves_to_win, bins=25)\n",
        "plt.xlabel('attempts for win')\n",
        "plt.show()"
      ]
    },
    {
      "cell_type": "code",
      "execution_count": null,
      "id": "3ee718a2",
      "metadata": {
        "id": "3ee718a2"
      },
      "outputs": [],
      "source": []
    },
    {
      "cell_type": "markdown",
      "source": [
        "Further experiments"
      ],
      "metadata": {
        "id": "rQobLzNuOsC1"
      },
      "id": "rQobLzNuOsC1"
    },
    {
      "cell_type": "code",
      "source": [
        "pip install transformers"
      ],
      "metadata": {
        "colab": {
          "base_uri": "https://localhost:8080/"
        },
        "id": "kIz11uXqO_Uq",
        "outputId": "178a4480-51d2-4fca-b3fc-6a9096cb7705"
      },
      "id": "kIz11uXqO_Uq",
      "execution_count": null,
      "outputs": [
        {
          "output_type": "stream",
          "name": "stdout",
          "text": [
            "Looking in indexes: https://pypi.org/simple, https://us-python.pkg.dev/colab-wheels/public/simple/\n",
            "Collecting transformers\n",
            "  Downloading transformers-4.27.4-py3-none-any.whl (6.8 MB)\n",
            "\u001b[2K     \u001b[90m━━━━━━━━━━━━━━━━━━━━━━━━━━━━━━━━━━━━━━━━\u001b[0m \u001b[32m6.8/6.8 MB\u001b[0m \u001b[31m36.1 MB/s\u001b[0m eta \u001b[36m0:00:00\u001b[0m\n",
            "\u001b[?25hCollecting huggingface-hub<1.0,>=0.11.0\n",
            "  Downloading huggingface_hub-0.13.3-py3-none-any.whl (199 kB)\n",
            "\u001b[2K     \u001b[90m━━━━━━━━━━━━━━━━━━━━━━━━━━━━━━━━━━━━━━\u001b[0m \u001b[32m199.8/199.8 KB\u001b[0m \u001b[31m24.4 MB/s\u001b[0m eta \u001b[36m0:00:00\u001b[0m\n",
            "\u001b[?25hRequirement already satisfied: requests in /usr/local/lib/python3.9/dist-packages (from transformers) (2.27.1)\n",
            "Requirement already satisfied: tqdm>=4.27 in /usr/local/lib/python3.9/dist-packages (from transformers) (4.65.0)\n",
            "Requirement already satisfied: numpy>=1.17 in /usr/local/lib/python3.9/dist-packages (from transformers) (1.22.4)\n",
            "Requirement already satisfied: packaging>=20.0 in /usr/local/lib/python3.9/dist-packages (from transformers) (23.0)\n",
            "Requirement already satisfied: pyyaml>=5.1 in /usr/local/lib/python3.9/dist-packages (from transformers) (6.0)\n",
            "Requirement already satisfied: regex!=2019.12.17 in /usr/local/lib/python3.9/dist-packages (from transformers) (2022.10.31)\n",
            "Requirement already satisfied: filelock in /usr/local/lib/python3.9/dist-packages (from transformers) (3.10.7)\n",
            "Collecting tokenizers!=0.11.3,<0.14,>=0.11.1\n",
            "  Downloading tokenizers-0.13.2-cp39-cp39-manylinux_2_17_x86_64.manylinux2014_x86_64.whl (7.6 MB)\n",
            "\u001b[2K     \u001b[90m━━━━━━━━━━━━━━━━━━━━━━━━━━━━━━━━━━━━━━━━\u001b[0m \u001b[32m7.6/7.6 MB\u001b[0m \u001b[31m51.0 MB/s\u001b[0m eta \u001b[36m0:00:00\u001b[0m\n",
            "\u001b[?25hRequirement already satisfied: typing-extensions>=3.7.4.3 in /usr/local/lib/python3.9/dist-packages (from huggingface-hub<1.0,>=0.11.0->transformers) (4.5.0)\n",
            "Requirement already satisfied: urllib3<1.27,>=1.21.1 in /usr/local/lib/python3.9/dist-packages (from requests->transformers) (1.26.15)\n",
            "Requirement already satisfied: idna<4,>=2.5 in /usr/local/lib/python3.9/dist-packages (from requests->transformers) (3.4)\n",
            "Requirement already satisfied: certifi>=2017.4.17 in /usr/local/lib/python3.9/dist-packages (from requests->transformers) (2022.12.7)\n",
            "Requirement already satisfied: charset-normalizer~=2.0.0 in /usr/local/lib/python3.9/dist-packages (from requests->transformers) (2.0.12)\n",
            "Installing collected packages: tokenizers, huggingface-hub, transformers\n",
            "Successfully installed huggingface-hub-0.13.3 tokenizers-0.13.2 transformers-4.27.4\n"
          ]
        }
      ]
    },
    {
      "cell_type": "code",
      "source": [
        "import numpy as np\n",
        "\n",
        "import torch\n",
        "import torch.nn.functional as f\n",
        "\n",
        "from transformers import BertModel, BertTokenizer\n",
        "\n",
        "from time import sleep\n",
        "\n",
        "device = torch.device('cuda' if torch.cuda.is_available() else 'cpu')\n",
        "print(device)"
      ],
      "metadata": {
        "colab": {
          "base_uri": "https://localhost:8080/"
        },
        "id": "kD8N-HwLO58c",
        "outputId": "bacc0934-af76-401f-e4bc-194265c5a04b"
      },
      "id": "kD8N-HwLO58c",
      "execution_count": null,
      "outputs": [
        {
          "output_type": "stream",
          "name": "stdout",
          "text": [
            "cpu\n"
          ]
        }
      ]
    },
    {
      "cell_type": "code",
      "source": [
        "from abc import ABC\n",
        "class Analyzer(ABC):\n",
        "  def __init__(\n",
        "      self,\n",
        "      similarity_func,\n",
        "      bert_version : str,\n",
        "      device,\n",
        "      ):\n",
        "      self.similarity_func = similarity_func\n",
        "\n",
        "      self.bert_version = bert_version\n",
        "      self.tokenizer = BertTokenizer.from_pretrained(bert_version)\n",
        "      self.model = BertModel.from_pretrained(bert_version)\n",
        "\n",
        "      self.device=device\n",
        "\n",
        "      self.model = self.model.eval()\n",
        "\n",
        "  def get_word_emb(\n",
        "      self,\n",
        "      token : str\n",
        "      ):\n",
        "      encoding = self.tokenizer(\n",
        "          token,\n",
        "          padding=True,\n",
        "          return_tensors='pt'\n",
        "          ).to(self.device)\n",
        "\n",
        "      for tokens in encoding['input_ids']:\n",
        "        self.tokenizer.convert_ids_to_tokens(tokens)\n",
        "\n",
        "      with torch.no_grad():\n",
        "        embed = self.model(**encoding)[0]\n",
        "\n",
        "      avg_embed = embed.mean(dim=1)\n",
        "\n",
        "      return avg_embed\n",
        "\n",
        "  def get_similarity(self, embed1, embed2):\n",
        "      return self.similarity_func(embed1, embed2)[0]"
      ],
      "metadata": {
        "id": "BQphOdkfOt89"
      },
      "id": "BQphOdkfOt89",
      "execution_count": null,
      "outputs": []
    },
    {
      "cell_type": "code",
      "source": [
        "embed_calc = Analyzer(\n",
        "  similarity_func=torch.nn.CosineSimilarity(),\n",
        "  bert_version='bert-base-cased',\n",
        "  device=device\n",
        ")"
      ],
      "metadata": {
        "colab": {
          "base_uri": "https://localhost:8080/",
          "height": 216,
          "referenced_widgets": [
            "c090482ec0d0469b8cf2005496f88695",
            "186e37be761d420d8835ab9f5c9858be",
            "47df5842ef3140d2bcee3e484b330efb",
            "54ad31dd8ec643eebbdd7e25a2f82d89",
            "ad07a6aecc0b4cf199a6145b0af61343",
            "6eccfc0a13d540dbbf45690b9bcb1f6e",
            "ff7a924ed6cb4edeb017fec332c503a7",
            "205e6b001c6a416187ed6a4346ff2f4f",
            "7ef4f4f49d434497870e6b922403a8a9",
            "bb4bb17b5b2c425596d92ee1b68d1767",
            "6a74e3dd1ccf486e8085360943fbdb54",
            "e46341fb7674482e858bbbfc54fcc0f3",
            "82a01f7b569944659edcc573543b1503",
            "d11b07f51cae49c1bb631a41567fb35c",
            "2b811d3dfd324213bfee35aac7288fad",
            "bafde204343841388a95d592a01a8401",
            "f1dff157704346cba1c83d588fb93e33",
            "e4d0a1cae95044ecb6a0d30bcd083170",
            "9d79d09a4bb34138854add4cf175dc9a",
            "4651cc2b0f89489f95446eec44a0b6ce",
            "3b9989af98c94b5a9f2e3e2fc41b693f",
            "ef5c7d696d5243fbb95165351ea624e1",
            "9a42839d9f4549aaa22b182b76f65600",
            "19f3656c2bde4b5e8df7ac830a86e028",
            "23c49339c72242c1a70a4217dd5e0d20",
            "514e6931d6d74b1fbfa91397622fa6cb",
            "345ede1eed6e4e5e9a1e7d03ef9cc0da",
            "c4128355a1254d5ea166a029631e1bca",
            "f71cbe80f6c046a184d4e5e18ab06c70",
            "c5c943f24aa447518530226047778aa1",
            "ed49601fc30b47789af5e7e2cf0ef656",
            "1d32e2701bed47d287fc72957e264b72",
            "999a3007f073417ea5056bd29697e37b",
            "feb59656236f474f97b7cf3b04683233",
            "1b7659c50eb74a18af35eef3250b2a35",
            "42d8b400f01340c4bdc6e1609fc3cfaa",
            "b392cc6e2680415f9b6e68cc7526b074",
            "f1230576c8f5490986d2b9930dd54aec",
            "adebf644d27f4835904c94276f8de2aa",
            "6701fcf2a6cf425baaa06c73749316ea",
            "083e619ea985400491899ab5144f8544",
            "de93017a0ffb4c7fb65d16b307baedb8",
            "4dc30051100d4171bdcce924496abb59",
            "5fdab5fc78254ae2b45a9a6a641f8f2c"
          ]
        },
        "id": "pqNuD59-PT53",
        "outputId": "a38bc042-f35b-4671-b51c-82d6e1585d7b"
      },
      "id": "pqNuD59-PT53",
      "execution_count": null,
      "outputs": [
        {
          "output_type": "display_data",
          "data": {
            "text/plain": [
              "Downloading (…)solve/main/vocab.txt:   0%|          | 0.00/213k [00:00<?, ?B/s]"
            ],
            "application/vnd.jupyter.widget-view+json": {
              "version_major": 2,
              "version_minor": 0,
              "model_id": "c090482ec0d0469b8cf2005496f88695"
            }
          },
          "metadata": {}
        },
        {
          "output_type": "display_data",
          "data": {
            "text/plain": [
              "Downloading (…)okenizer_config.json:   0%|          | 0.00/29.0 [00:00<?, ?B/s]"
            ],
            "application/vnd.jupyter.widget-view+json": {
              "version_major": 2,
              "version_minor": 0,
              "model_id": "e46341fb7674482e858bbbfc54fcc0f3"
            }
          },
          "metadata": {}
        },
        {
          "output_type": "display_data",
          "data": {
            "text/plain": [
              "Downloading (…)lve/main/config.json:   0%|          | 0.00/570 [00:00<?, ?B/s]"
            ],
            "application/vnd.jupyter.widget-view+json": {
              "version_major": 2,
              "version_minor": 0,
              "model_id": "9a42839d9f4549aaa22b182b76f65600"
            }
          },
          "metadata": {}
        },
        {
          "output_type": "display_data",
          "data": {
            "text/plain": [
              "Downloading pytorch_model.bin:   0%|          | 0.00/436M [00:00<?, ?B/s]"
            ],
            "application/vnd.jupyter.widget-view+json": {
              "version_major": 2,
              "version_minor": 0,
              "model_id": "feb59656236f474f97b7cf3b04683233"
            }
          },
          "metadata": {}
        },
        {
          "output_type": "stream",
          "name": "stderr",
          "text": [
            "Some weights of the model checkpoint at bert-base-cased were not used when initializing BertModel: ['cls.seq_relationship.weight', 'cls.predictions.transform.dense.weight', 'cls.predictions.bias', 'cls.predictions.transform.LayerNorm.bias', 'cls.predictions.decoder.weight', 'cls.predictions.transform.dense.bias', 'cls.predictions.transform.LayerNorm.weight', 'cls.seq_relationship.bias']\n",
            "- This IS expected if you are initializing BertModel from the checkpoint of a model trained on another task or with another architecture (e.g. initializing a BertForSequenceClassification model from a BertForPreTraining model).\n",
            "- This IS NOT expected if you are initializing BertModel from the checkpoint of a model that you expect to be exactly identical (initializing a BertForSequenceClassification model from a BertForSequenceClassification model).\n"
          ]
        }
      ]
    },
    {
      "cell_type": "code",
      "source": [
        "N = len(nouns)\n",
        "emb_dict = dict()\n",
        "for noun in tqdm(nouns):\n",
        "  emb_dict[noun] = embed_calc.get_word_emb(token=noun)\n",
        "\n",
        "sim = np.zeros((N, N))\n",
        "for i in tqdm(range(N)):\n",
        "    for j in range(N):\n",
        "        sim[i][j] = embed_calc.get_similarity(embed1=emb_dict[nouns[i]], embed2=emb_dict[nouns[j]])\n",
        "\n",
        "sim"
      ],
      "metadata": {
        "colab": {
          "base_uri": "https://localhost:8080/"
        },
        "id": "IvGhmEQYO1Hy",
        "outputId": "45b0d195-072e-4dcf-ee6e-a7be944373c8"
      },
      "id": "IvGhmEQYO1Hy",
      "execution_count": null,
      "outputs": [
        {
          "output_type": "stream",
          "name": "stderr",
          "text": [
            "100%|██████████| 1522/1522 [01:42<00:00, 14.89it/s]\n",
            "100%|██████████| 1522/1522 [01:44<00:00, 14.60it/s]\n"
          ]
        },
        {
          "output_type": "execute_result",
          "data": {
            "text/plain": [
              "array([[1.00000012, 0.81332028, 0.8856914 , ..., 0.7811842 , 0.853266  ,\n",
              "        0.80579859],\n",
              "       [0.81332028, 1.00000012, 0.83177865, ..., 0.80395412, 0.80477798,\n",
              "        0.86534268],\n",
              "       [0.8856914 , 0.83177865, 0.99999994, ..., 0.80946112, 0.8548736 ,\n",
              "        0.84284598],\n",
              "       ...,\n",
              "       [0.7811842 , 0.80395412, 0.80946112, ..., 0.99999994, 0.83667254,\n",
              "        0.80629098],\n",
              "       [0.853266  , 0.80477798, 0.8548736 , ..., 0.83667254, 1.        ,\n",
              "        0.83477962],\n",
              "       [0.80579859, 0.86534268, 0.84284598, ..., 0.80629098, 0.83477962,\n",
              "        0.99999982]])"
            ]
          },
          "metadata": {},
          "execution_count": 46
        }
      ]
    },
    {
      "cell_type": "code",
      "source": [
        "game_rank = np.zeros((N, N))\n",
        "for i in tqdm(range(N)):\n",
        "    game_rank[i] = np.argsort(np.argsort(sim[i])[::-1])"
      ],
      "metadata": {
        "colab": {
          "base_uri": "https://localhost:8080/"
        },
        "id": "d7FVWgZnT-JY",
        "outputId": "97714071-3826-4403-fc00-38a97d6def78"
      },
      "id": "d7FVWgZnT-JY",
      "execution_count": null,
      "outputs": [
        {
          "output_type": "stream",
          "name": "stderr",
          "text": [
            "100%|██████████| 1522/1522 [00:00<00:00, 4927.47it/s]\n"
          ]
        }
      ]
    },
    {
      "cell_type": "code",
      "source": [],
      "metadata": {
        "id": "cl5U1xaxQTnK"
      },
      "id": "cl5U1xaxQTnK",
      "execution_count": null,
      "outputs": []
    },
    {
      "cell_type": "code",
      "source": [
        "embed_calc_2 = Analyzer(\n",
        "  similarity_func=torch.nn.CosineSimilarity(),\n",
        "  bert_version='bert-base-multilingual-cased',\n",
        "  device=device\n",
        ")"
      ],
      "metadata": {
        "colab": {
          "base_uri": "https://localhost:8080/",
          "height": 216,
          "referenced_widgets": [
            "7241b4bdf6274ef6a76aba584d1d5261",
            "d38b0a558a8443e98bb684e3ceb65e93",
            "7ee643551f8c40edbcb46c4008f01978",
            "11f25279f6a74dedbe1ea8b9d7dd1883",
            "251b5536df584c71ac8a8f6a584cfba8",
            "ef6239246d994a0491bfd129b8474a5f",
            "600293b0dd5948d79fc8737d9d9845f6",
            "03d30fa1b5344f27bce7a824d5a4d841",
            "0fcfa4611aa9485c95d1fa12f5a4b7c6",
            "f94416a2a8394efca75375440b1865c7",
            "5609f4b377424550b5c10940473f04db",
            "1b155044a20b4afda336851a598845f8",
            "1b8d7721c6794d9480ab3242b03e4b6b",
            "517b170e69f44a43acf35328f0317e7f",
            "1bca6d68c66841bbab4c33d84c3cff8f",
            "b75cf60c657945939dc7bd441c9ac078",
            "bb4e35a3ac5c485d9b6336fe55df8a9a",
            "9212ab28921246fab96464e6185786da",
            "285bdbbf319947ca904306412b15f5ad",
            "64d136ae344346b3ae3c5e2ffd6f77bf",
            "5193f4163cf946e094b8da6af8c65031",
            "f622788ae666484abc91d5e944a19959",
            "783d55f0281e48c39c8436cdd000acbf",
            "7185b6d551094e209de59d29e937b804",
            "945fe345cd0c4ba5ae2358ee2aababde",
            "2dc529996e804450907c5f393af6e561",
            "f6239e94b627414ebd58cd9839bf5653",
            "2ee9d604082d4d80948c209ebd89ea51",
            "ca00d0620caf46169dd3cee5c3e3c329",
            "80eb5a4c50124315b00bc7363b56d722",
            "09fa0779e23c482dbd9665937e1b17fe",
            "a9a4053cc152491ab76561368b8b7b4b",
            "5f6bd882b7544bd58425fdef09419fa5",
            "a620de3207524fdda579c034b0af6250",
            "4150b76eb1614201be88b8a7acba9872",
            "16d1cc67a40c4dcea2d9dbe9419e558b",
            "0423023db3c64fb997a5254ddaf91bbf",
            "627d0e86dbee4f418f6cc3a07894cffe",
            "d2d5bc07c304456190b7a04b5cad432f",
            "9345c92b5b5c49d5a57d691e61cdb503",
            "4b57e63d869e4dfcbe864e195b17739f",
            "5794a5beb42145c49836c3abc13092d5",
            "9f700f77a18f4ae59eef69a741bc9f98",
            "6392505e317a40939488b6a392992a3a"
          ]
        },
        "id": "5ipO_OCXSZti",
        "outputId": "e6de7b15-ce41-4e44-b5b8-b1f99ed14388"
      },
      "id": "5ipO_OCXSZti",
      "execution_count": null,
      "outputs": [
        {
          "output_type": "display_data",
          "data": {
            "text/plain": [
              "Downloading (…)solve/main/vocab.txt:   0%|          | 0.00/996k [00:00<?, ?B/s]"
            ],
            "application/vnd.jupyter.widget-view+json": {
              "version_major": 2,
              "version_minor": 0,
              "model_id": "7241b4bdf6274ef6a76aba584d1d5261"
            }
          },
          "metadata": {}
        },
        {
          "output_type": "display_data",
          "data": {
            "text/plain": [
              "Downloading (…)okenizer_config.json:   0%|          | 0.00/29.0 [00:00<?, ?B/s]"
            ],
            "application/vnd.jupyter.widget-view+json": {
              "version_major": 2,
              "version_minor": 0,
              "model_id": "1b155044a20b4afda336851a598845f8"
            }
          },
          "metadata": {}
        },
        {
          "output_type": "display_data",
          "data": {
            "text/plain": [
              "Downloading (…)lve/main/config.json:   0%|          | 0.00/625 [00:00<?, ?B/s]"
            ],
            "application/vnd.jupyter.widget-view+json": {
              "version_major": 2,
              "version_minor": 0,
              "model_id": "783d55f0281e48c39c8436cdd000acbf"
            }
          },
          "metadata": {}
        },
        {
          "output_type": "display_data",
          "data": {
            "text/plain": [
              "Downloading pytorch_model.bin:   0%|          | 0.00/714M [00:00<?, ?B/s]"
            ],
            "application/vnd.jupyter.widget-view+json": {
              "version_major": 2,
              "version_minor": 0,
              "model_id": "a620de3207524fdda579c034b0af6250"
            }
          },
          "metadata": {}
        },
        {
          "output_type": "stream",
          "name": "stderr",
          "text": [
            "Some weights of the model checkpoint at bert-base-multilingual-cased were not used when initializing BertModel: ['cls.seq_relationship.weight', 'cls.predictions.transform.dense.weight', 'cls.predictions.bias', 'cls.predictions.transform.LayerNorm.bias', 'cls.predictions.decoder.weight', 'cls.predictions.transform.dense.bias', 'cls.predictions.transform.LayerNorm.weight', 'cls.seq_relationship.bias']\n",
            "- This IS expected if you are initializing BertModel from the checkpoint of a model trained on another task or with another architecture (e.g. initializing a BertForSequenceClassification model from a BertForPreTraining model).\n",
            "- This IS NOT expected if you are initializing BertModel from the checkpoint of a model that you expect to be exactly identical (initializing a BertForSequenceClassification model from a BertForSequenceClassification model).\n"
          ]
        }
      ]
    },
    {
      "cell_type": "code",
      "source": [
        "emb_dict_2 = dict()\n",
        "for noun in tqdm(nouns):\n",
        "  emb_dict_2[noun] = embed_calc_2.get_word_emb(token=noun)\n",
        "\n",
        "N = len(nouns)\n",
        "sim_player = np.zeros((N, N))\n",
        "for i in tqdm(range(N)):\n",
        "    for j in range(N):\n",
        "        sim_player[i][j] = embed_calc_2.get_similarity(embed1=emb_dict_2[nouns[i]], embed2=emb_dict_2[nouns[j]])\n",
        "\n",
        "sim_player"
      ],
      "metadata": {
        "colab": {
          "base_uri": "https://localhost:8080/"
        },
        "id": "G82tt2hcSXs-",
        "outputId": "7ca7e5d7-54f9-4b80-ff7c-ec288c2b9996"
      },
      "id": "G82tt2hcSXs-",
      "execution_count": null,
      "outputs": [
        {
          "output_type": "stream",
          "name": "stderr",
          "text": [
            "100%|██████████| 1522/1522 [01:50<00:00, 13.73it/s]\n",
            "100%|██████████| 1522/1522 [01:44<00:00, 14.56it/s]\n"
          ]
        },
        {
          "output_type": "execute_result",
          "data": {
            "text/plain": [
              "array([[1.        , 0.51946557, 0.64499462, ..., 0.51973492, 0.63035846,\n",
              "        0.56273776],\n",
              "       [0.51946557, 1.00000012, 0.53727967, ..., 0.5609529 , 0.55786639,\n",
              "        0.70961928],\n",
              "       [0.64499462, 0.53727967, 1.        , ..., 0.6877808 , 0.65552384,\n",
              "        0.60472906],\n",
              "       ...,\n",
              "       [0.51973492, 0.5609529 , 0.6877808 , ..., 1.00000012, 0.59895444,\n",
              "        0.59058654],\n",
              "       [0.63035846, 0.55786639, 0.65552384, ..., 0.59895444, 1.        ,\n",
              "        0.5952974 ],\n",
              "       [0.56273776, 0.70961928, 0.60472906, ..., 0.59058654, 0.5952974 ,\n",
              "        1.        ]])"
            ]
          },
          "metadata": {},
          "execution_count": 48
        }
      ]
    },
    {
      "cell_type": "code",
      "source": [
        "player_rank = np.zeros((N, N))\n",
        "for i in tqdm(range(N)):\n",
        "    player_rank[i] = np.argsort(np.argsort(sim_player[i])[::-1])"
      ],
      "metadata": {
        "id": "J3gzcdFcUEia",
        "outputId": "eeed4e9c-1946-421d-823e-af6b8c3edd36",
        "colab": {
          "base_uri": "https://localhost:8080/"
        }
      },
      "id": "J3gzcdFcUEia",
      "execution_count": null,
      "outputs": [
        {
          "output_type": "stream",
          "name": "stderr",
          "text": [
            "100%|██████████| 1522/1522 [00:00<00:00, 4282.22it/s]\n"
          ]
        }
      ]
    },
    {
      "cell_type": "code",
      "source": [
        "np.abs(game_rank - player_rank).mean()"
      ],
      "metadata": {
        "id": "XOK0RpiKUFWt",
        "colab": {
          "base_uri": "https://localhost:8080/"
        },
        "outputId": "68c52122-a3f3-4cd5-da49-01777b8cb7cd"
      },
      "id": "XOK0RpiKUFWt",
      "execution_count": null,
      "outputs": [
        {
          "output_type": "execute_result",
          "data": {
            "text/plain": [
              "447.10922846866197"
            ]
          },
          "metadata": {},
          "execution_count": 51
        }
      ]
    },
    {
      "cell_type": "code",
      "source": [
        "rank_difference = np.zeros(N)\n",
        "for i in tqdm(range(N)):\n",
        "    for j in range(N):\n",
        "        r = game_rank[i][j]\n",
        "        rank_difference[int(r)] += np.abs(game_rank[i][j] - player_rank[i][j])\n",
        "rank_difference /= N"
      ],
      "metadata": {
        "colab": {
          "base_uri": "https://localhost:8080/"
        },
        "id": "QspVPVClUR1M",
        "outputId": "48361952-44d5-45cb-9786-d387478ab86e"
      },
      "id": "QspVPVClUR1M",
      "execution_count": null,
      "outputs": [
        {
          "output_type": "stream",
          "name": "stderr",
          "text": [
            "100%|██████████| 1522/1522 [00:18<00:00, 82.67it/s]\n"
          ]
        }
      ]
    },
    {
      "cell_type": "code",
      "source": [
        "rank_difference.mean()"
      ],
      "metadata": {
        "colab": {
          "base_uri": "https://localhost:8080/"
        },
        "id": "UDDrDmEHUWEw",
        "outputId": "98fd6625-8ecd-4b1f-8c9c-221e9c9b6cc4"
      },
      "id": "UDDrDmEHUWEw",
      "execution_count": null,
      "outputs": [
        {
          "output_type": "execute_result",
          "data": {
            "text/plain": [
              "447.109228468662"
            ]
          },
          "metadata": {},
          "execution_count": 53
        }
      ]
    },
    {
      "cell_type": "code",
      "source": [
        "plt.scatter(np.arange(N), rank_difference, s=1)\n",
        "plt.xlabel('rank by game')\n",
        "plt.ylabel('abs diff between player and game ranks')\n",
        "plt.show()"
      ],
      "metadata": {
        "colab": {
          "base_uri": "https://localhost:8080/",
          "height": 449
        },
        "id": "hbUJZYuOUapN",
        "outputId": "82c977b7-8913-4b03-9f79-69341b45d862"
      },
      "id": "hbUJZYuOUapN",
      "execution_count": null,
      "outputs": [
        {
          "output_type": "display_data",
          "data": {
            "text/plain": [
              "<Figure size 640x480 with 1 Axes>"
            ],
            "image/png": "[encoded data removed]"
          },
          "metadata": {}
        }
      ]
    },
    {
      "cell_type": "code",
      "source": [
        "np.random.seed(42)\n",
        "M = 100\n",
        "PRU_num_moves_to_win = np.zeros(M)\n",
        "for k in tqdm(range(M)):\n",
        "    i = np.random.choice(N)\n",
        "    j = np.random.choice(N)\n",
        "    PRU_num_moves_to_win[k] = player_rank_using(i, j)"
      ],
      "metadata": {
        "colab": {
          "base_uri": "https://localhost:8080/"
        },
        "id": "-pSp2RwtUeI4",
        "outputId": "c28e26f8-01c1-4557-e15b-fd2f3f8863a0"
      },
      "id": "-pSp2RwtUeI4",
      "execution_count": null,
      "outputs": [
        {
          "output_type": "stream",
          "name": "stderr",
          "text": [
            "100%|██████████| 100/100 [05:46<00:00,  3.47s/it]\n"
          ]
        }
      ]
    },
    {
      "cell_type": "code",
      "source": [
        "PRU_num_moves_to_win.mean()"
      ],
      "metadata": {
        "colab": {
          "base_uri": "https://localhost:8080/"
        },
        "id": "qrFxNKH2U13T",
        "outputId": "08d42513-9473-4608-db09-858e5620db40"
      },
      "id": "qrFxNKH2U13T",
      "execution_count": null,
      "outputs": [
        {
          "output_type": "execute_result",
          "data": {
            "text/plain": [
              "621.25"
            ]
          },
          "metadata": {},
          "execution_count": 56
        }
      ]
    },
    {
      "cell_type": "code",
      "source": [
        "PRU_num_moves_to_win.std()"
      ],
      "metadata": {
        "colab": {
          "base_uri": "https://localhost:8080/"
        },
        "id": "s2BFBDJGU4Sx",
        "outputId": "e0e6a250-9c3d-48b0-b5c6-f97c5f06bd43"
      },
      "id": "s2BFBDJGU4Sx",
      "execution_count": null,
      "outputs": [
        {
          "output_type": "execute_result",
          "data": {
            "text/plain": [
              "399.60493928378816"
            ]
          },
          "metadata": {},
          "execution_count": 57
        }
      ]
    },
    {
      "cell_type": "code",
      "source": [
        "np.median(PRU_num_moves_to_win)"
      ],
      "metadata": {
        "colab": {
          "base_uri": "https://localhost:8080/"
        },
        "id": "6UdKlMC4U6fh",
        "outputId": "6333f17d-0707-446c-9acf-3ba857d20da0"
      },
      "id": "6UdKlMC4U6fh",
      "execution_count": null,
      "outputs": [
        {
          "output_type": "execute_result",
          "data": {
            "text/plain": [
              "575.5"
            ]
          },
          "metadata": {},
          "execution_count": 58
        }
      ]
    },
    {
      "cell_type": "code",
      "source": [
        "(PRU_num_moves_to_win < 200).mean()"
      ],
      "metadata": {
        "colab": {
          "base_uri": "https://localhost:8080/"
        },
        "id": "JV__o2GaU_Qv",
        "outputId": "6f456082-6453-40f4-8386-4a5870a67f03"
      },
      "id": "JV__o2GaU_Qv",
      "execution_count": null,
      "outputs": [
        {
          "output_type": "execute_result",
          "data": {
            "text/plain": [
              "0.16"
            ]
          },
          "metadata": {},
          "execution_count": 59
        }
      ]
    },
    {
      "cell_type": "code",
      "source": [
        "plt.hist(PRU_num_moves_to_win, bins=25)\n",
        "plt.xlabel('attempts for win')\n",
        "plt.show()"
      ],
      "metadata": {
        "colab": {
          "base_uri": "https://localhost:8080/",
          "height": 449
        },
        "id": "4_VnPgHgVBRu",
        "outputId": "f7e33c2f-e2b8-44f1-c45a-9c726e09fcc3"
      },
      "id": "4_VnPgHgVBRu",
      "execution_count": null,
      "outputs": [
        {
          "output_type": "display_data",
          "data": {
            "text/plain": [
              "<Figure size 640x480 with 1 Axes>"
            ],
            "image/png": "[encoded data removed]"
          },
          "metadata": {}
        }
      ]
    },
    {
      "cell_type": "code",
      "source": [
        "np.random.seed(42)\n",
        "M = 100\n",
        "MLU_num_moves_to_win = np.zeros(M)\n",
        "for k in tqdm(range(M)):\n",
        "    i = np.random.choice(N)\n",
        "    j = np.random.choice(N)\n",
        "    MLU_num_moves_to_win[k] = maximum_likelihood_using(i, j)"
      ],
      "metadata": {
        "colab": {
          "base_uri": "https://localhost:8080/"
        },
        "id": "iIcjFK8iVGwY",
        "outputId": "311da573-d8fa-4b39-de10-526ba4558848"
      },
      "id": "iIcjFK8iVGwY",
      "execution_count": null,
      "outputs": [
        {
          "output_type": "stream",
          "name": "stderr",
          "text": [
            "100%|██████████| 100/100 [01:34<00:00,  1.06it/s]\n"
          ]
        }
      ]
    },
    {
      "cell_type": "code",
      "source": [
        "MLU_num_moves_to_win.mean()"
      ],
      "metadata": {
        "colab": {
          "base_uri": "https://localhost:8080/"
        },
        "id": "teQxGlWqVS4l",
        "outputId": "dc820e14-d681-44f8-f93a-2a623fc3b4fd"
      },
      "id": "teQxGlWqVS4l",
      "execution_count": null,
      "outputs": [
        {
          "output_type": "execute_result",
          "data": {
            "text/plain": [
              "197.45"
            ]
          },
          "metadata": {},
          "execution_count": 63
        }
      ]
    },
    {
      "cell_type": "code",
      "source": [
        "MLU_num_moves_to_win.std()"
      ],
      "metadata": {
        "colab": {
          "base_uri": "https://localhost:8080/"
        },
        "id": "Ra2GpfJ8VXND",
        "outputId": "a257c183-5ac6-40b8-ca01-adb231cc7722"
      },
      "id": "Ra2GpfJ8VXND",
      "execution_count": null,
      "outputs": [
        {
          "output_type": "execute_result",
          "data": {
            "text/plain": [
              "179.12025988145507"
            ]
          },
          "metadata": {},
          "execution_count": 64
        }
      ]
    },
    {
      "cell_type": "code",
      "source": [
        "np.median(MLU_num_moves_to_win)"
      ],
      "metadata": {
        "colab": {
          "base_uri": "https://localhost:8080/"
        },
        "id": "G_WMN347VbMU",
        "outputId": "790e1f1f-0e22-4cda-8a4a-304d846f763e"
      },
      "id": "G_WMN347VbMU",
      "execution_count": null,
      "outputs": [
        {
          "output_type": "execute_result",
          "data": {
            "text/plain": [
              "153.0"
            ]
          },
          "metadata": {},
          "execution_count": 65
        }
      ]
    },
    {
      "cell_type": "code",
      "source": [
        "plt.hist(MLU_num_moves_to_win, bins=25)\n",
        "plt.xlabel('attempts for win')\n",
        "plt.show()"
      ],
      "metadata": {
        "colab": {
          "base_uri": "https://localhost:8080/",
          "height": 449
        },
        "id": "k1ZL3xc9VgLX",
        "outputId": "ccd208ec-f4f9-4cf1-8b39-e931b187c2ca"
      },
      "id": "k1ZL3xc9VgLX",
      "execution_count": null,
      "outputs": [
        {
          "output_type": "display_data",
          "data": {
            "text/plain": [
              "<Figure size 640x480 with 1 Axes>"
            ],
            "image/png": "[encoded data removed]"
          },
          "metadata": {}
        }
      ]
    },
    {
      "cell_type": "code",
      "source": [
        "def get_nearest_num(num, used, num_set=np.arange(N)):\n",
        "    if num not in used:\n",
        "        return num\n",
        "    min_diff = np.inf\n",
        "    nearest = np.nan\n",
        "    for i in num_set:\n",
        "        if i not in used:\n",
        "            diff = np.abs(num - i)\n",
        "            if diff < min_diff:\n",
        "                min_diff = diff\n",
        "                nearest = i\n",
        "    return nearest\n",
        "\n",
        "def player_rank_using(target, first_move, game_rank, player_rank):\n",
        "    attempts = 1\n",
        "    move = first_move\n",
        "    used = []\n",
        "    while target != move:\n",
        "        attempts += 1\n",
        "        game_output = int(game_rank[target][move])\n",
        "        used.append(move)\n",
        "        next_move = -1\n",
        "        curr_used = []\n",
        "        while next_move == -1:\n",
        "            output = get_nearest_num(game_output, curr_used)\n",
        "            for k in range(N):\n",
        "                if player_rank[move][k] == output:\n",
        "                    next_move = k\n",
        "            if next_move in used:\n",
        "                curr_used.append(output)\n",
        "                next_move = -1\n",
        "        move = next_move\n",
        "    return attempts\n",
        "\n",
        "def maximum_likelihood_using(target, first_move, game_rank, player_rank):\n",
        "    attempts = 1\n",
        "    move = first_move\n",
        "    used = np.array([False for _ in range(N)])\n",
        "    sum_diff = np.zeros(N)\n",
        "    while target != move:\n",
        "        attempts += 1\n",
        "        game_output = int(game_rank[target][move])\n",
        "        used[move] = True\n",
        "        for k in range(N):\n",
        "            sum_diff[k] += np.abs(player_rank[k][move] - game_output)\n",
        "        available_sumdiff = np.where(used, np.inf, sum_diff)\n",
        "        move = np.argmin(available_sumdiff)\n",
        "    return attempts"
      ],
      "metadata": {
        "id": "-cpKBbAi0rAJ"
      },
      "id": "-cpKBbAi0rAJ",
      "execution_count": null,
      "outputs": []
    },
    {
      "cell_type": "code",
      "source": [
        "def experiment(sim, sim_player):\n",
        "  game_rank = np.zeros((N, N))\n",
        "  for i in tqdm(range(N)):\n",
        "      game_rank[i] = np.argsort(np.argsort(sim[i])[::-1])\n",
        "\n",
        "  player_rank = np.zeros((N, N))\n",
        "  for i in tqdm(range(N)):\n",
        "      player_rank[i] = np.argsort(np.argsort(sim_player[i])[::-1])\n",
        "\n",
        "  rank_difference = np.zeros(N)\n",
        "  for i in tqdm(range(N)):\n",
        "      for j in range(N):\n",
        "          r = game_rank[i][j]\n",
        "          rank_difference[int(r)] += np.abs(game_rank[i][j] - player_rank[i][j])\n",
        "  rank_difference /= N\n",
        "  print(f\"Average rank diffirence: {rank_difference.mean()}\")\n",
        "\n",
        "  plt.scatter(np.arange(N), rank_difference, s=1)\n",
        "  plt.xlabel('rank by game')\n",
        "  plt.ylabel('abs diff between player and game ranks')\n",
        "  plt.show()\n",
        "\n",
        "  print(\"-\"*25)\n",
        "  print(\"PRU\")\n",
        "  np.random.seed(42)\n",
        "  M = 200\n",
        "  PRU_num_moves_to_win = np.zeros(M)\n",
        "  for k in tqdm(range(M)):\n",
        "      i = np.random.choice(N)\n",
        "      j = np.random.choice(N)\n",
        "      PRU_num_moves_to_win[k] = player_rank_using(i, j, game_rank, player_rank)\n",
        "\n",
        "  print(f\"Average moves to win in PRU = {PRU_num_moves_to_win.mean()}\")\n",
        "  print(f\"Standard deviation of moves to win in PRU = {PRU_num_moves_to_win.std()}\")\n",
        "  print(f\"Median of moves to win in PRU = {np.median(PRU_num_moves_to_win)}\")\n",
        "\n",
        "  plt.hist(PRU_num_moves_to_win, bins=25)\n",
        "  plt.xlabel('attempts for win')\n",
        "  plt.show()\n",
        "\n",
        "  print(\"-\"*25)\n",
        "  print(\"MLU\")\n",
        "  np.random.seed(42)\n",
        "  M = 200\n",
        "  MLU_num_moves_to_win = np.zeros(M)\n",
        "  for k in tqdm(range(M)):\n",
        "      i = np.random.choice(N)\n",
        "      j = np.random.choice(N)\n",
        "      MLU_num_moves_to_win[k] = maximum_likelihood_using(i, j, game_rank, player_rank)\n",
        "\n",
        "  print(f\"Average moves to win in MLU = {MLU_num_moves_to_win.mean()}\")\n",
        "  print(f\"Standard deviation of moves to win in MLU = {MLU_num_moves_to_win.std()}\")\n",
        "  print(f\"Median of moves to win in MLU = {np.median(MLU_num_moves_to_win)}\")\n",
        "\n",
        "  plt.hist(MLU_num_moves_to_win, bins=25)\n",
        "  plt.xlabel('attempts for win')\n",
        "  plt.show()"
      ],
      "metadata": {
        "id": "fFaky-h-YgiU"
      },
      "id": "fFaky-h-YgiU",
      "execution_count": null,
      "outputs": []
    },
    {
      "cell_type": "code",
      "source": [
        "experiment(sim=sim, sim_player=sim_player)"
      ],
      "metadata": {
        "colab": {
          "base_uri": "https://localhost:8080/",
          "height": 1000
        },
        "id": "UvkYbeq0Vkqh",
        "outputId": "3d753591-0678-4063-bac6-3e90ebdc279a"
      },
      "id": "UvkYbeq0Vkqh",
      "execution_count": null,
      "outputs": [
        {
          "output_type": "stream",
          "name": "stderr",
          "text": [
            "100%|██████████| 1522/1522 [00:00<00:00, 1741.93it/s]\n",
            "100%|██████████| 1522/1522 [00:00<00:00, 2637.69it/s]\n",
            "100%|██████████| 1522/1522 [00:10<00:00, 142.30it/s]\n"
          ]
        },
        {
          "output_type": "stream",
          "name": "stdout",
          "text": [
            "Average rank diffirence: 447.109228468662\n"
          ]
        },
        {
          "output_type": "display_data",
          "data": {
            "text/plain": [
              "<Figure size 640x480 with 1 Axes>"
            ],
            "image/png": "[encoded data removed]"
          },
          "metadata": {}
        },
        {
          "output_type": "stream",
          "name": "stdout",
          "text": [
            "-------------------------\n",
            "PRU\n"
          ]
        },
        {
          "output_type": "stream",
          "name": "stderr",
          "text": [
            "100%|██████████| 25/25 [00:38<00:00,  1.52s/it]\n"
          ]
        },
        {
          "output_type": "stream",
          "name": "stdout",
          "text": [
            "Average moves to win in PRU = 558.6\n",
            "Standard deviation of moves to win in PRU = 318.11846849876537\n",
            "Median of moves to win in PRU = 584.0\n"
          ]
        },
        {
          "output_type": "display_data",
          "data": {
            "text/plain": [
              "<Figure size 640x480 with 1 Axes>"
            ],
            "image/png": "[encoded data removed]"
          },
          "metadata": {}
        },
        {
          "output_type": "stream",
          "name": "stdout",
          "text": [
            "-------------------------\n",
            "MLU\n"
          ]
        },
        {
          "output_type": "stream",
          "name": "stderr",
          "text": [
            "100%|██████████| 25/25 [00:21<00:00,  1.18it/s]\n"
          ]
        },
        {
          "output_type": "stream",
          "name": "stdout",
          "text": [
            "Average moves to win in MLU = 191.96\n",
            "Standard deviation of moves to win in MLU = 160.97788171050084\n",
            "Median of moves to win in MLU = 146.0\n"
          ]
        },
        {
          "output_type": "display_data",
          "data": {
            "text/plain": [
              "<Figure size 640x480 with 1 Axes>"
            ],
            "image/png": "[encoded data removed]"
          },
          "metadata": {}
        }
      ]
    },
    {
      "cell_type": "code",
      "source": [
        "def create_sim_setting(bert_version):\n",
        "  embed_calc = Analyzer(\n",
        "    similarity_func=torch.nn.CosineSimilarity(),\n",
        "    bert_version=bert_version,\n",
        "    device=device\n",
        "  )\n",
        "\n",
        "  N = len(nouns)\n",
        "  emb_dict = dict()\n",
        "  for noun in tqdm(nouns):\n",
        "    emb_dict[noun] = embed_calc.get_word_emb(token=noun)\n",
        "\n",
        "  sim = np.zeros((N, N))\n",
        "  for i in tqdm(range(N)):\n",
        "      for j in range(N):\n",
        "          sim[i][j] = embed_calc.get_similarity(embed1=emb_dict[nouns[i]], embed2=emb_dict[nouns[j]])\n",
        "\n",
        "  return sim"
      ],
      "metadata": {
        "id": "q5Zn0QZBb2PK"
      },
      "id": "q5Zn0QZBb2PK",
      "execution_count": null,
      "outputs": []
    },
    {
      "cell_type": "code",
      "source": [
        "sim_pref_2 = create_sim_setting(bert_version='digitalepidemiologylab/covid-twitter-bert')"
      ],
      "metadata": {
        "colab": {
          "base_uri": "https://localhost:8080/"
        },
        "id": "5NR1E82gbsM-",
        "outputId": "c609aba7-6d99-443a-be67-84eb0ff0ba64"
      },
      "id": "5NR1E82gbsM-",
      "execution_count": null,
      "outputs": [
        {
          "output_type": "stream",
          "name": "stderr",
          "text": [
            "Some weights of the model checkpoint at digitalepidemiologylab/covid-twitter-bert were not used when initializing BertModel: ['cls.seq_relationship.weight', 'cls.predictions.transform.dense.weight', 'cls.predictions.transform.LayerNorm.bias', 'cls.predictions.decoder.weight', 'cls.predictions.transform.dense.bias', 'cls.seq_relationship.bias', 'cls.predictions.transform.LayerNorm.weight', 'cls.predictions.bias', 'cls.predictions.decoder.bias']\n",
            "- This IS expected if you are initializing BertModel from the checkpoint of a model trained on another task or with another architecture (e.g. initializing a BertForSequenceClassification model from a BertForPreTraining model).\n",
            "- This IS NOT expected if you are initializing BertModel from the checkpoint of a model that you expect to be exactly identical (initializing a BertForSequenceClassification model from a BertForSequenceClassification model).\n",
            "100%|██████████| 1522/1522 [09:11<00:00,  2.76it/s]\n",
            "100%|██████████| 1522/1522 [02:20<00:00, 10.80it/s]\n"
          ]
        }
      ]
    },
    {
      "cell_type": "code",
      "source": [
        "sim_pref_1 = create_sim_setting(bert_version='JungleLee/bert-toxic-comment-classification')"
      ],
      "metadata": {
        "colab": {
          "base_uri": "https://localhost:8080/",
          "height": 254,
          "referenced_widgets": [
            "f97a7b80818b4c57b40463ce3786d65c",
            "1742ecbbe63844beb08ab560a3425097",
            "05602a6eb9254824a9fd58c35eb385f2",
            "038925f884814070b6510567efadddf0",
            "43483fcf017e4ce6b2a46a171bef70bd",
            "decb3a65a89d4017a0584425df11141a",
            "3f1f93c351594fc79589e31ec79ce1c7",
            "a620f910facd4afd810fb48c30873c7c",
            "7b24f446ea4943efb205c3e4b7938718",
            "6c831fe11c854b639fc4a0e6ed439c79",
            "c3a762e63fe84da693f281d3899f0c14",
            "4f970d5d35a0442784e71b2fc8310ff1",
            "53c5a6a7df2e4a18a9bde6f3d171162f",
            "c8fea4a0921849a9b8cb631458ca3849",
            "30f260ac7c5e4d35bb30249f7c814528",
            "8778bf3779024c28a6b635b0042ad859",
            "3bba258785914387b907f474bcd5cd65",
            "1f4ccbf3dfc84b358e3ea0ac95c16d37",
            "cdd91c253d1f4b5f872ca73add0574a8",
            "abab2d10fe734adfb71180eafb700daf",
            "ead1868470554c0299fabda9b8716c7b",
            "38c743cb282a434ab2733e35d8d4ac3d",
            "3edb072b55004bd1863d076ecf986f63",
            "c2687a9c6d384b38a32f4bacb90b4015",
            "1386e942055448bda0de822ceb025f96",
            "ff070725a4434db2b00cb1cf765f7d82",
            "79639e21ba294c37819dba39d3ae853c",
            "d7d77ab433774c1fb72047534539e532",
            "257399c2df2d4c3dafdc0b8233461be7",
            "faa17654a8524d20ae5e61ccfc61e7fd",
            "90ea909e125a49f6a60946385f8f3e80",
            "ea288d02d152489cab152579fe1b8d3d",
            "cddf928e92ab48bfa410a6c2988c1449",
            "a0e1f7c17eca4f29b1afe9a86e01b4df",
            "358127796db242f88647afd568787445",
            "fd6a3ea4e0364e59a7b1278b561f8e7e",
            "742f164fd776493bb19e4e3ffc8d4722",
            "97777b34bcaa45149b1449b5fb35622e",
            "d41ae0477ea0414b8a641f652a44cde9",
            "c7c4ed68e63e4ae7bf2103f09f800abe",
            "89b429174c614441a7899d166e5f19d4",
            "993e39db224e4cbdbe962d8f6c64f13e",
            "e8a0537c129d4a8bb566678eb9d9062e",
            "40a4290652fb453b9632c363639d9d0c"
          ]
        },
        "id": "s1IG9cRZcaEF",
        "outputId": "2879895c-fa06-47fd-9f7c-d46155061cdd"
      },
      "id": "s1IG9cRZcaEF",
      "execution_count": null,
      "outputs": [
        {
          "output_type": "display_data",
          "data": {
            "text/plain": [
              "Downloading (…)solve/main/vocab.txt:   0%|          | 0.00/232k [00:00<?, ?B/s]"
            ],
            "application/vnd.jupyter.widget-view+json": {
              "version_major": 2,
              "version_minor": 0,
              "model_id": "f97a7b80818b4c57b40463ce3786d65c"
            }
          },
          "metadata": {}
        },
        {
          "output_type": "display_data",
          "data": {
            "text/plain": [
              "Downloading (…)okenizer_config.json:   0%|          | 0.00/160 [00:00<?, ?B/s]"
            ],
            "application/vnd.jupyter.widget-view+json": {
              "version_major": 2,
              "version_minor": 0,
              "model_id": "4f970d5d35a0442784e71b2fc8310ff1"
            }
          },
          "metadata": {}
        },
        {
          "output_type": "display_data",
          "data": {
            "text/plain": [
              "Downloading (…)lve/main/config.json:   0%|          | 0.00/833 [00:00<?, ?B/s]"
            ],
            "application/vnd.jupyter.widget-view+json": {
              "version_major": 2,
              "version_minor": 0,
              "model_id": "3edb072b55004bd1863d076ecf986f63"
            }
          },
          "metadata": {}
        },
        {
          "output_type": "display_data",
          "data": {
            "text/plain": [
              "Downloading pytorch_model.bin:   0%|          | 0.00/438M [00:00<?, ?B/s]"
            ],
            "application/vnd.jupyter.widget-view+json": {
              "version_major": 2,
              "version_minor": 0,
              "model_id": "a0e1f7c17eca4f29b1afe9a86e01b4df"
            }
          },
          "metadata": {}
        },
        {
          "output_type": "stream",
          "name": "stderr",
          "text": [
            "Some weights of the model checkpoint at JungleLee/bert-toxic-comment-classification were not used when initializing BertModel: ['classifier.weight', 'classifier.bias']\n",
            "- This IS expected if you are initializing BertModel from the checkpoint of a model trained on another task or with another architecture (e.g. initializing a BertForSequenceClassification model from a BertForPreTraining model).\n",
            "- This IS NOT expected if you are initializing BertModel from the checkpoint of a model that you expect to be exactly identical (initializing a BertForSequenceClassification model from a BertForSequenceClassification model).\n",
            "100%|██████████| 1522/1522 [02:36<00:00,  9.71it/s]\n",
            "100%|██████████| 1522/1522 [02:41<00:00,  9.42it/s]\n"
          ]
        }
      ]
    },
    {
      "cell_type": "code",
      "source": [
        "list_of_prefs = [\n",
        "    (sim, 'bert-base-cased'),\n",
        "    (sim_player, 'bert-base-multilingual-cased'),\n",
        "    (sim_pref_1, 'JungleLee/bert-toxic-comment-classification'),\n",
        "    (sim_pref_2, 'digitalepidemiologylab/covid-twitter-bert')\n",
        "    ]"
      ],
      "metadata": {
        "id": "E3vJ5Ol8gqTl"
      },
      "id": "E3vJ5Ol8gqTl",
      "execution_count": null,
      "outputs": []
    },
    {
      "cell_type": "code",
      "source": [
        "for id, (pref, model_name) in enumerate(list_of_prefs):\n",
        "  for player_pref, player_model_name in list_of_prefs[id+1:]:\n",
        "    print(f'game pref is {model_name}')\n",
        "    print(f'player pref is {player_model_name}')\n",
        "    experiment(sim=pref, sim_player=player_pref)\n",
        "    print('-'*50)"
      ],
      "metadata": {
        "colab": {
          "base_uri": "https://localhost:8080/",
          "height": 1000
        },
        "id": "T_xq14_Zj3g_",
        "outputId": "70fd571b-cf9d-4f31-b405-b7af0ec26be1"
      },
      "id": "T_xq14_Zj3g_",
      "execution_count": null,
      "outputs": [
        {
          "output_type": "stream",
          "name": "stdout",
          "text": [
            "game pref is bert-base-cased\n",
            "player pref is bert-base-multilingual-cased\n"
          ]
        },
        {
          "output_type": "stream",
          "name": "stderr",
          "text": [
            "100%|██████████| 1522/1522 [00:00<00:00, 4871.34it/s]\n",
            "100%|██████████| 1522/1522 [00:00<00:00, 4948.57it/s]\n",
            "100%|██████████| 1522/1522 [00:10<00:00, 151.97it/s]\n"
          ]
        },
        {
          "output_type": "stream",
          "name": "stdout",
          "text": [
            "Average rank diffirence: 447.109228468662\n"
          ]
        },
        {
          "output_type": "display_data",
          "data": {
            "text/plain": [
              "<Figure size 640x480 with 1 Axes>"
            ],
            "image/png": "[encoded data removed]"
          },
          "metadata": {}
        },
        {
          "output_type": "stream",
          "name": "stdout",
          "text": [
            "-------------------------\n",
            "PRU\n"
          ]
        },
        {
          "output_type": "stream",
          "name": "stderr",
          "text": [
            "100%|██████████| 200/200 [09:37<00:00,  2.89s/it]\n"
          ]
        },
        {
          "output_type": "stream",
          "name": "stdout",
          "text": [
            "Average moves to win in PRU = 647.19\n",
            "Standard deviation of moves to win in PRU = 410.4710146892226\n",
            "Median of moves to win in PRU = 570.5\n"
          ]
        },
        {
          "output_type": "display_data",
          "data": {
            "text/plain": [
              "<Figure size 640x480 with 1 Axes>"
            ],
            "image/png": "[encoded data removed]"
          },
          "metadata": {}
        },
        {
          "output_type": "stream",
          "name": "stdout",
          "text": [
            "-------------------------\n",
            "MLU\n"
          ]
        },
        {
          "output_type": "stream",
          "name": "stderr",
          "text": [
            "100%|██████████| 200/200 [03:13<00:00,  1.03it/s]\n"
          ]
        },
        {
          "output_type": "stream",
          "name": "stdout",
          "text": [
            "Average moves to win in MLU = 215.7\n",
            "Standard deviation of moves to win in MLU = 196.67963799031153\n",
            "Median of moves to win in MLU = 162.5\n"
          ]
        },
        {
          "output_type": "display_data",
          "data": {
            "text/plain": [
              "<Figure size 640x480 with 1 Axes>"
            ],
            "image/png": "[encoded data removed]"
          },
          "metadata": {}
        },
        {
          "output_type": "stream",
          "name": "stdout",
          "text": [
            "--------------------------------------------------\n",
            "game pref is bert-base-cased\n",
            "player pref is JungleLee/bert-toxic-comment-classification\n"
          ]
        },
        {
          "output_type": "stream",
          "name": "stderr",
          "text": [
            "100%|██████████| 1522/1522 [00:00<00:00, 4901.06it/s]\n",
            "100%|██████████| 1522/1522 [00:00<00:00, 5080.09it/s]\n",
            "100%|██████████| 1522/1522 [00:06<00:00, 223.06it/s]\n"
          ]
        },
        {
          "output_type": "stream",
          "name": "stdout",
          "text": [
            "Average rank diffirence: 459.23468584285496\n"
          ]
        },
        {
          "output_type": "display_data",
          "data": {
            "text/plain": [
              "<Figure size 640x480 with 1 Axes>"
            ],
            "image/png": "[encoded data removed]"
          },
          "metadata": {}
        },
        {
          "output_type": "stream",
          "name": "stdout",
          "text": [
            "-------------------------\n",
            "PRU\n"
          ]
        },
        {
          "output_type": "stream",
          "name": "stderr",
          "text": [
            "100%|██████████| 200/200 [09:01<00:00,  2.71s/it]\n"
          ]
        },
        {
          "output_type": "stream",
          "name": "stdout",
          "text": [
            "Average moves to win in PRU = 605.69\n",
            "Standard deviation of moves to win in PRU = 416.8861162236037\n",
            "Median of moves to win in PRU = 543.0\n"
          ]
        },
        {
          "output_type": "display_data",
          "data": {
            "text/plain": [
              "<Figure size 640x480 with 1 Axes>"
            ],
            "image/png": "[encoded data removed]"
          },
          "metadata": {}
        },
        {
          "output_type": "stream",
          "name": "stdout",
          "text": [
            "-------------------------\n",
            "MLU\n"
          ]
        },
        {
          "output_type": "stream",
          "name": "stderr",
          "text": [
            "100%|██████████| 200/200 [03:56<00:00,  1.18s/it]\n"
          ]
        },
        {
          "output_type": "stream",
          "name": "stdout",
          "text": [
            "Average moves to win in MLU = 266.075\n",
            "Standard deviation of moves to win in MLU = 166.26361410422908\n",
            "Median of moves to win in MLU = 262.0\n"
          ]
        },
        {
          "output_type": "display_data",
          "data": {
            "text/plain": [
              "<Figure size 640x480 with 1 Axes>"
            ],
            "image/png": "[encoded data removed]"
          },
          "metadata": {}
        },
        {
          "output_type": "stream",
          "name": "stdout",
          "text": [
            "--------------------------------------------------\n",
            "game pref is bert-base-cased\n",
            "player pref is digitalepidemiologylab/covid-twitter-bert\n"
          ]
        },
        {
          "output_type": "stream",
          "name": "stderr",
          "text": [
            "100%|██████████| 1522/1522 [00:00<00:00, 4891.37it/s]\n",
            "100%|██████████| 1522/1522 [00:00<00:00, 4918.03it/s]\n",
            "100%|██████████| 1522/1522 [00:09<00:00, 167.90it/s]\n"
          ]
        },
        {
          "output_type": "stream",
          "name": "stdout",
          "text": [
            "Average rank diffirence: 476.1521987632982\n"
          ]
        },
        {
          "output_type": "display_data",
          "data": {
            "text/plain": [
              "<Figure size 640x480 with 1 Axes>"
            ],
            "image/png": "[encoded data removed]"
          },
          "metadata": {}
        },
        {
          "output_type": "stream",
          "name": "stdout",
          "text": [
            "-------------------------\n",
            "PRU\n"
          ]
        },
        {
          "output_type": "stream",
          "name": "stderr",
          "text": [
            "100%|██████████| 200/200 [07:42<00:00,  2.31s/it]\n"
          ]
        },
        {
          "output_type": "stream",
          "name": "stdout",
          "text": [
            "Average moves to win in PRU = 639.86\n",
            "Standard deviation of moves to win in PRU = 411.881002718018\n",
            "Median of moves to win in PRU = 619.0\n"
          ]
        },
        {
          "output_type": "display_data",
          "data": {
            "text/plain": [
              "<Figure size 640x480 with 1 Axes>"
            ],
            "image/png": "[encoded data removed]"
          },
          "metadata": {}
        },
        {
          "output_type": "stream",
          "name": "stdout",
          "text": [
            "-------------------------\n",
            "MLU\n"
          ]
        },
        {
          "output_type": "stream",
          "name": "stderr",
          "text": [
            "100%|██████████| 200/200 [03:25<00:00,  1.03s/it]\n"
          ]
        },
        {
          "output_type": "stream",
          "name": "stdout",
          "text": [
            "Average moves to win in MLU = 230.39\n",
            "Standard deviation of moves to win in MLU = 196.8204204344661\n",
            "Median of moves to win in MLU = 179.0\n"
          ]
        },
        {
          "output_type": "display_data",
          "data": {
            "text/plain": [
              "<Figure size 640x480 with 1 Axes>"
            ],
            "image/png": "[encoded data removed]"
          },
          "metadata": {}
        },
        {
          "output_type": "stream",
          "name": "stdout",
          "text": [
            "--------------------------------------------------\n",
            "game pref is bert-base-multilingual-cased\n",
            "player pref is JungleLee/bert-toxic-comment-classification\n"
          ]
        },
        {
          "output_type": "stream",
          "name": "stderr",
          "text": [
            "100%|██████████| 1522/1522 [00:00<00:00, 4800.22it/s]\n",
            "100%|██████████| 1522/1522 [00:00<00:00, 4853.22it/s]\n",
            "100%|██████████| 1522/1522 [00:06<00:00, 218.64it/s]\n"
          ]
        },
        {
          "output_type": "stream",
          "name": "stdout",
          "text": [
            "Average rank diffirence: 476.3552452768938\n"
          ]
        },
        {
          "output_type": "display_data",
          "data": {
            "text/plain": [
              "<Figure size 640x480 with 1 Axes>"
            ],
            "image/png": "[encoded data removed]"
          },
          "metadata": {}
        },
        {
          "output_type": "stream",
          "name": "stdout",
          "text": [
            "-------------------------\n",
            "PRU\n"
          ]
        },
        {
          "output_type": "stream",
          "name": "stderr",
          "text": [
            "100%|██████████| 200/200 [08:36<00:00,  2.58s/it]\n"
          ]
        },
        {
          "output_type": "stream",
          "name": "stdout",
          "text": [
            "Average moves to win in PRU = 648.825\n",
            "Standard deviation of moves to win in PRU = 396.26542162419366\n",
            "Median of moves to win in PRU = 604.5\n"
          ]
        },
        {
          "output_type": "display_data",
          "data": {
            "text/plain": [
              "<Figure size 640x480 with 1 Axes>"
            ],
            "image/png": "[encoded data removed]"
          },
          "metadata": {}
        },
        {
          "output_type": "stream",
          "name": "stdout",
          "text": [
            "-------------------------\n",
            "MLU\n"
          ]
        },
        {
          "output_type": "stream",
          "name": "stderr",
          "text": [
            "100%|██████████| 200/200 [05:11<00:00,  1.56s/it]\n"
          ]
        },
        {
          "output_type": "stream",
          "name": "stdout",
          "text": [
            "Average moves to win in MLU = 353.86\n",
            "Standard deviation of moves to win in MLU = 212.47258740835252\n",
            "Median of moves to win in MLU = 333.0\n"
          ]
        },
        {
          "output_type": "display_data",
          "data": {
            "text/plain": [
              "<Figure size 640x480 with 1 Axes>"
            ],
            "image/png": "[encoded data removed]"
          },
          "metadata": {}
        },
        {
          "output_type": "stream",
          "name": "stdout",
          "text": [
            "--------------------------------------------------\n",
            "game pref is bert-base-multilingual-cased\n",
            "player pref is digitalepidemiologylab/covid-twitter-bert\n"
          ]
        },
        {
          "output_type": "stream",
          "name": "stderr",
          "text": [
            "100%|██████████| 1522/1522 [00:00<00:00, 3839.32it/s]\n",
            "100%|██████████| 1522/1522 [00:00<00:00, 4092.21it/s]\n",
            "100%|██████████| 1522/1522 [00:08<00:00, 185.01it/s]\n"
          ]
        },
        {
          "output_type": "stream",
          "name": "stdout",
          "text": [
            "Average rank diffirence: 492.4524771161813\n"
          ]
        },
        {
          "output_type": "display_data",
          "data": {
            "text/plain": [
              "<Figure size 640x480 with 1 Axes>"
            ],
            "image/png": "[encoded data removed]"
          },
          "metadata": {}
        },
        {
          "output_type": "stream",
          "name": "stdout",
          "text": [
            "-------------------------\n",
            "PRU\n"
          ]
        },
        {
          "output_type": "stream",
          "name": "stderr",
          "text": [
            "100%|██████████| 200/200 [14:35<00:00,  4.38s/it]\n"
          ]
        },
        {
          "output_type": "stream",
          "name": "stdout",
          "text": [
            "Average moves to win in PRU = 769.85\n",
            "Standard deviation of moves to win in PRU = 449.36661814157935\n",
            "Median of moves to win in PRU = 793.0\n"
          ]
        },
        {
          "output_type": "display_data",
          "data": {
            "text/plain": [
              "<Figure size 640x480 with 1 Axes>"
            ],
            "image/png": "[encoded data removed]"
          },
          "metadata": {}
        },
        {
          "output_type": "stream",
          "name": "stdout",
          "text": [
            "-------------------------\n",
            "MLU\n"
          ]
        },
        {
          "output_type": "stream",
          "name": "stderr",
          "text": [
            "100%|██████████| 200/200 [04:29<00:00,  1.35s/it]\n"
          ]
        },
        {
          "output_type": "stream",
          "name": "stdout",
          "text": [
            "Average moves to win in MLU = 306.225\n",
            "Standard deviation of moves to win in MLU = 232.12025843299418\n",
            "Median of moves to win in MLU = 260.5\n"
          ]
        },
        {
          "output_type": "display_data",
          "data": {
            "text/plain": [
              "<Figure size 640x480 with 1 Axes>"
            ],
            "image/png": "[encoded data removed]"
          },
          "metadata": {}
        },
        {
          "output_type": "stream",
          "name": "stdout",
          "text": [
            "--------------------------------------------------\n",
            "game pref is JungleLee/bert-toxic-comment-classification\n",
            "player pref is digitalepidemiologylab/covid-twitter-bert\n"
          ]
        },
        {
          "output_type": "stream",
          "name": "stderr",
          "text": [
            "100%|██████████| 1522/1522 [00:00<00:00, 4784.29it/s]\n",
            "100%|██████████| 1522/1522 [00:00<00:00, 4716.61it/s]\n",
            "100%|██████████| 1522/1522 [00:08<00:00, 171.47it/s]\n"
          ]
        },
        {
          "output_type": "stream",
          "name": "stdout",
          "text": [
            "Average rank diffirence: 450.6197029636294\n"
          ]
        },
        {
          "output_type": "display_data",
          "data": {
            "text/plain": [
              "<Figure size 640x480 with 1 Axes>"
            ],
            "image/png": "[encoded data removed]"
          },
          "metadata": {}
        },
        {
          "output_type": "stream",
          "name": "stdout",
          "text": [
            "-------------------------\n",
            "PRU\n"
          ]
        },
        {
          "output_type": "stream",
          "name": "stderr",
          "text": [
            "100%|██████████| 200/200 [09:25<00:00,  2.83s/it]\n"
          ]
        },
        {
          "output_type": "stream",
          "name": "stdout",
          "text": [
            "Average moves to win in PRU = 702.08\n",
            "Standard deviation of moves to win in PRU = 412.4683910313613\n",
            "Median of moves to win in PRU = 685.5\n"
          ]
        },
        {
          "output_type": "display_data",
          "data": {
            "text/plain": [
              "<Figure size 640x480 with 1 Axes>"
            ],
            "image/png": "[encoded data removed]"
          },
          "metadata": {}
        },
        {
          "output_type": "stream",
          "name": "stdout",
          "text": [
            "-------------------------\n",
            "MLU\n"
          ]
        },
        {
          "output_type": "stream",
          "name": "stderr",
          "text": [
            "100%|██████████| 200/200 [04:47<00:00,  1.44s/it]\n"
          ]
        },
        {
          "output_type": "stream",
          "name": "stdout",
          "text": [
            "Average moves to win in MLU = 326.285\n",
            "Standard deviation of moves to win in MLU = 264.0154612423295\n",
            "Median of moves to win in MLU = 268.0\n"
          ]
        },
        {
          "output_type": "display_data",
          "data": {
            "text/plain": [
              "<Figure size 640x480 with 1 Axes>"
            ],
            "image/png": "[encoded data removed]"
          },
          "metadata": {}
        },
        {
          "output_type": "stream",
          "name": "stdout",
          "text": [
            "--------------------------------------------------\n"
          ]
        }
      ]
    },
    {
      "cell_type": "code",
      "source": [],
      "metadata": {
        "id": "MWctAY8gkTUn"
      },
      "id": "MWctAY8gkTUn",
      "execution_count": null,
      "outputs": []
    }
  ],
  "metadata": {
    "kernelspec": {
      "display_name": "Python 3",
      "language": "python",
      "name": "python3"
    },
    "language_info": {
      "codemirror_mode": {
        "name": "ipython",
        "version": 3
      },
      "file_extension": ".py",
      "mimetype": "text/x-python",
      "name": "python",
      "nbconvert_exporter": "python",
      "pygments_lexer": "ipython3",
      "version": "3.8.8"
    },
    "colab": {
      "provenance": []
    },
    "widgets": {
      "application/vnd.jupyter.widget-state+json": {
        "c090482ec0d0469b8cf2005496f88695": {
          "model_module": "@jupyter-widgets/controls",
          "model_name": "HBoxModel",
          "model_module_version": "1.5.0",
          "state": {
            "_dom_classes": [],
            "_model_module": "@jupyter-widgets/controls",
            "_model_module_version": "1.5.0",
            "_model_name": "HBoxModel",
            "_view_count": null,
            "_view_module": "@jupyter-widgets/controls",
            "_view_module_version": "1.5.0",
            "_view_name": "HBoxView",
            "box_style": "",
            "children": [
              "IPY_MODEL_186e37be761d420d8835ab9f5c9858be",
              "IPY_MODEL_47df5842ef3140d2bcee3e484b330efb",
              "IPY_MODEL_54ad31dd8ec643eebbdd7e25a2f82d89"
            ],
            "layout": "IPY_MODEL_ad07a6aecc0b4cf199a6145b0af61343"
          }
        },
        "186e37be761d420d8835ab9f5c9858be": {
          "model_module": "@jupyter-widgets/controls",
          "model_name": "HTMLModel",
          "model_module_version": "1.5.0",
          "state": {
            "_dom_classes": [],
            "_model_module": "@jupyter-widgets/controls",
            "_model_module_version": "1.5.0",
            "_model_name": "HTMLModel",
            "_view_count": null,
            "_view_module": "@jupyter-widgets/controls",
            "_view_module_version": "1.5.0",
            "_view_name": "HTMLView",
            "description": "",
            "description_tooltip": null,
            "layout": "IPY_MODEL_6eccfc0a13d540dbbf45690b9bcb1f6e",
            "placeholder": "​",
            "style": "IPY_MODEL_ff7a924ed6cb4edeb017fec332c503a7",
            "value": "Downloading (…)solve/main/vocab.txt: 100%"
          }
        },
        "47df5842ef3140d2bcee3e484b330efb": {
          "model_module": "@jupyter-widgets/controls",
          "model_name": "FloatProgressModel",
          "model_module_version": "1.5.0",
          "state": {
            "_dom_classes": [],
            "_model_module": "@jupyter-widgets/controls",
            "_model_module_version": "1.5.0",
            "_model_name": "FloatProgressModel",
            "_view_count": null,
            "_view_module": "@jupyter-widgets/controls",
            "_view_module_version": "1.5.0",
            "_view_name": "ProgressView",
            "bar_style": "success",
            "description": "",
            "description_tooltip": null,
            "layout": "IPY_MODEL_205e6b001c6a416187ed6a4346ff2f4f",
            "max": 213450,
            "min": 0,
            "orientation": "horizontal",
            "style": "IPY_MODEL_7ef4f4f49d434497870e6b922403a8a9",
            "value": 213450
          }
        },
        "54ad31dd8ec643eebbdd7e25a2f82d89": {
          "model_module": "@jupyter-widgets/controls",
          "model_name": "HTMLModel",
          "model_module_version": "1.5.0",
          "state": {
            "_dom_classes": [],
            "_model_module": "@jupyter-widgets/controls",
            "_model_module_version": "1.5.0",
            "_model_name": "HTMLModel",
            "_view_count": null,
            "_view_module": "@jupyter-widgets/controls",
            "_view_module_version": "1.5.0",
            "_view_name": "HTMLView",
            "description": "",
            "description_tooltip": null,
            "layout": "IPY_MODEL_bb4bb17b5b2c425596d92ee1b68d1767",
            "placeholder": "​",
            "style": "IPY_MODEL_6a74e3dd1ccf486e8085360943fbdb54",
            "value": " 213k/213k [00:00&lt;00:00, 1.02MB/s]"
          }
        },
        "ad07a6aecc0b4cf199a6145b0af61343": {
          "model_module": "@jupyter-widgets/base",
          "model_name": "LayoutModel",
          "model_module_version": "1.2.0",
          "state": {
            "_model_module": "@jupyter-widgets/base",
            "_model_module_version": "1.2.0",
            "_model_name": "LayoutModel",
            "_view_count": null,
            "_view_module": "@jupyter-widgets/base",
            "_view_module_version": "1.2.0",
            "_view_name": "LayoutView",
            "align_content": null,
            "align_items": null,
            "align_self": null,
            "border": null,
            "bottom": null,
            "display": null,
            "flex": null,
            "flex_flow": null,
            "grid_area": null,
            "grid_auto_columns": null,
            "grid_auto_flow": null,
            "grid_auto_rows": null,
            "grid_column": null,
            "grid_gap": null,
            "grid_row": null,
            "grid_template_areas": null,
            "grid_template_columns": null,
            "grid_template_rows": null,
            "height": null,
            "justify_content": null,
            "justify_items": null,
            "left": null,
            "margin": null,
            "max_height": null,
            "max_width": null,
            "min_height": null,
            "min_width": null,
            "object_fit": null,
            "object_position": null,
            "order": null,
            "overflow": null,
            "overflow_x": null,
            "overflow_y": null,
            "padding": null,
            "right": null,
            "top": null,
            "visibility": null,
            "width": null
          }
        },
        "6eccfc0a13d540dbbf45690b9bcb1f6e": {
          "model_module": "@jupyter-widgets/base",
          "model_name": "LayoutModel",
          "model_module_version": "1.2.0",
          "state": {
            "_model_module": "@jupyter-widgets/base",
            "_model_module_version": "1.2.0",
            "_model_name": "LayoutModel",
            "_view_count": null,
            "_view_module": "@jupyter-widgets/base",
            "_view_module_version": "1.2.0",
            "_view_name": "LayoutView",
            "align_content": null,
            "align_items": null,
            "align_self": null,
            "border": null,
            "bottom": null,
            "display": null,
            "flex": null,
            "flex_flow": null,
            "grid_area": null,
            "grid_auto_columns": null,
            "grid_auto_flow": null,
            "grid_auto_rows": null,
            "grid_column": null,
            "grid_gap": null,
            "grid_row": null,
            "grid_template_areas": null,
            "grid_template_columns": null,
            "grid_template_rows": null,
            "height": null,
            "justify_content": null,
            "justify_items": null,
            "left": null,
            "margin": null,
            "max_height": null,
            "max_width": null,
            "min_height": null,
            "min_width": null,
            "object_fit": null,
            "object_position": null,
            "order": null,
            "overflow": null,
            "overflow_x": null,
            "overflow_y": null,
            "padding": null,
            "right": null,
            "top": null,
            "visibility": null,
            "width": null
          }
        },
        "ff7a924ed6cb4edeb017fec332c503a7": {
          "model_module": "@jupyter-widgets/controls",
          "model_name": "DescriptionStyleModel",
          "model_module_version": "1.5.0",
          "state": {
            "_model_module": "@jupyter-widgets/controls",
            "_model_module_version": "1.5.0",
            "_model_name": "DescriptionStyleModel",
            "_view_count": null,
            "_view_module": "@jupyter-widgets/base",
            "_view_module_version": "1.2.0",
            "_view_name": "StyleView",
            "description_width": ""
          }
        },
        "205e6b001c6a416187ed6a4346ff2f4f": {
          "model_module": "@jupyter-widgets/base",
          "model_name": "LayoutModel",
          "model_module_version": "1.2.0",
          "state": {
            "_model_module": "@jupyter-widgets/base",
            "_model_module_version": "1.2.0",
            "_model_name": "LayoutModel",
            "_view_count": null,
            "_view_module": "@jupyter-widgets/base",
            "_view_module_version": "1.2.0",
            "_view_name": "LayoutView",
            "align_content": null,
            "align_items": null,
            "align_self": null,
            "border": null,
            "bottom": null,
            "display": null,
            "flex": null,
            "flex_flow": null,
            "grid_area": null,
            "grid_auto_columns": null,
            "grid_auto_flow": null,
            "grid_auto_rows": null,
            "grid_column": null,
            "grid_gap": null,
            "grid_row": null,
            "grid_template_areas": null,
            "grid_template_columns": null,
            "grid_template_rows": null,
            "height": null,
            "justify_content": null,
            "justify_items": null,
            "left": null,
            "margin": null,
            "max_height": null,
            "max_width": null,
            "min_height": null,
            "min_width": null,
            "object_fit": null,
            "object_position": null,
            "order": null,
            "overflow": null,
            "overflow_x": null,
            "overflow_y": null,
            "padding": null,
            "right": null,
            "top": null,
            "visibility": null,
            "width": null
          }
        },
        "7ef4f4f49d434497870e6b922403a8a9": {
          "model_module": "@jupyter-widgets/controls",
          "model_name": "ProgressStyleModel",
          "model_module_version": "1.5.0",
          "state": {
            "_model_module": "@jupyter-widgets/controls",
            "_model_module_version": "1.5.0",
            "_model_name": "ProgressStyleModel",
            "_view_count": null,
            "_view_module": "@jupyter-widgets/base",
            "_view_module_version": "1.2.0",
            "_view_name": "StyleView",
            "bar_color": null,
            "description_width": ""
          }
        },
        "bb4bb17b5b2c425596d92ee1b68d1767": {
          "model_module": "@jupyter-widgets/base",
          "model_name": "LayoutModel",
          "model_module_version": "1.2.0",
          "state": {
            "_model_module": "@jupyter-widgets/base",
            "_model_module_version": "1.2.0",
            "_model_name": "LayoutModel",
            "_view_count": null,
            "_view_module": "@jupyter-widgets/base",
            "_view_module_version": "1.2.0",
            "_view_name": "LayoutView",
            "align_content": null,
            "align_items": null,
            "align_self": null,
            "border": null,
            "bottom": null,
            "display": null,
            "flex": null,
            "flex_flow": null,
            "grid_area": null,
            "grid_auto_columns": null,
            "grid_auto_flow": null,
            "grid_auto_rows": null,
            "grid_column": null,
            "grid_gap": null,
            "grid_row": null,
            "grid_template_areas": null,
            "grid_template_columns": null,
            "grid_template_rows": null,
            "height": null,
            "justify_content": null,
            "justify_items": null,
            "left": null,
            "margin": null,
            "max_height": null,
            "max_width": null,
            "min_height": null,
            "min_width": null,
            "object_fit": null,
            "object_position": null,
            "order": null,
            "overflow": null,
            "overflow_x": null,
            "overflow_y": null,
            "padding": null,
            "right": null,
            "top": null,
            "visibility": null,
            "width": null
          }
        },
        "6a74e3dd1ccf486e8085360943fbdb54": {
          "model_module": "@jupyter-widgets/controls",
          "model_name": "DescriptionStyleModel",
          "model_module_version": "1.5.0",
          "state": {
            "_model_module": "@jupyter-widgets/controls",
            "_model_module_version": "1.5.0",
            "_model_name": "DescriptionStyleModel",
            "_view_count": null,
            "_view_module": "@jupyter-widgets/base",
            "_view_module_version": "1.2.0",
            "_view_name": "StyleView",
            "description_width": ""
          }
        },
        "e46341fb7674482e858bbbfc54fcc0f3": {
          "model_module": "@jupyter-widgets/controls",
          "model_name": "HBoxModel",
          "model_module_version": "1.5.0",
          "state": {
            "_dom_classes": [],
            "_model_module": "@jupyter-widgets/controls",
            "_model_module_version": "1.5.0",
            "_model_name": "HBoxModel",
            "_view_count": null,
            "_view_module": "@jupyter-widgets/controls",
            "_view_module_version": "1.5.0",
            "_view_name": "HBoxView",
            "box_style": "",
            "children": [
              "IPY_MODEL_82a01f7b569944659edcc573543b1503",
              "IPY_MODEL_d11b07f51cae49c1bb631a41567fb35c",
              "IPY_MODEL_2b811d3dfd324213bfee35aac7288fad"
            ],
            "layout": "IPY_MODEL_bafde204343841388a95d592a01a8401"
          }
        },
        "82a01f7b569944659edcc573543b1503": {
          "model_module": "@jupyter-widgets/controls",
          "model_name": "HTMLModel",
          "model_module_version": "1.5.0",
          "state": {
            "_dom_classes": [],
            "_model_module": "@jupyter-widgets/controls",
            "_model_module_version": "1.5.0",
            "_model_name": "HTMLModel",
            "_view_count": null,
            "_view_module": "@jupyter-widgets/controls",
            "_view_module_version": "1.5.0",
            "_view_name": "HTMLView",
            "description": "",
            "description_tooltip": null,
            "layout": "IPY_MODEL_f1dff157704346cba1c83d588fb93e33",
            "placeholder": "​",
            "style": "IPY_MODEL_e4d0a1cae95044ecb6a0d30bcd083170",
            "value": "Downloading (…)okenizer_config.json: 100%"
          }
        },
        "d11b07f51cae49c1bb631a41567fb35c": {
          "model_module": "@jupyter-widgets/controls",
          "model_name": "FloatProgressModel",
          "model_module_version": "1.5.0",
          "state": {
            "_dom_classes": [],
            "_model_module": "@jupyter-widgets/controls",
            "_model_module_version": "1.5.0",
            "_model_name": "FloatProgressModel",
            "_view_count": null,
            "_view_module": "@jupyter-widgets/controls",
            "_view_module_version": "1.5.0",
            "_view_name": "ProgressView",
            "bar_style": "success",
            "description": "",
            "description_tooltip": null,
            "layout": "IPY_MODEL_9d79d09a4bb34138854add4cf175dc9a",
            "max": 29,
            "min": 0,
            "orientation": "horizontal",
            "style": "IPY_MODEL_4651cc2b0f89489f95446eec44a0b6ce",
            "value": 29
          }
        },
        "2b811d3dfd324213bfee35aac7288fad": {
          "model_module": "@jupyter-widgets/controls",
          "model_name": "HTMLModel",
          "model_module_version": "1.5.0",
          "state": {
            "_dom_classes": [],
            "_model_module": "@jupyter-widgets/controls",
            "_model_module_version": "1.5.0",
            "_model_name": "HTMLModel",
            "_view_count": null,
            "_view_module": "@jupyter-widgets/controls",
            "_view_module_version": "1.5.0",
            "_view_name": "HTMLView",
            "description": "",
            "description_tooltip": null,
            "layout": "IPY_MODEL_3b9989af98c94b5a9f2e3e2fc41b693f",
            "placeholder": "​",
            "style": "IPY_MODEL_ef5c7d696d5243fbb95165351ea624e1",
            "value": " 29.0/29.0 [00:00&lt;00:00, 1.15kB/s]"
          }
        },
        "bafde204343841388a95d592a01a8401": {
          "model_module": "@jupyter-widgets/base",
          "model_name": "LayoutModel",
          "model_module_version": "1.2.0",
          "state": {
            "_model_module": "@jupyter-widgets/base",
            "_model_module_version": "1.2.0",
            "_model_name": "LayoutModel",
            "_view_count": null,
            "_view_module": "@jupyter-widgets/base",
            "_view_module_version": "1.2.0",
            "_view_name": "LayoutView",
            "align_content": null,
            "align_items": null,
            "align_self": null,
            "border": null,
            "bottom": null,
            "display": null,
            "flex": null,
            "flex_flow": null,
            "grid_area": null,
            "grid_auto_columns": null,
            "grid_auto_flow": null,
            "grid_auto_rows": null,
            "grid_column": null,
            "grid_gap": null,
            "grid_row": null,
            "grid_template_areas": null,
            "grid_template_columns": null,
            "grid_template_rows": null,
            "height": null,
            "justify_content": null,
            "justify_items": null,
            "left": null,
            "margin": null,
            "max_height": null,
            "max_width": null,
            "min_height": null,
            "min_width": null,
            "object_fit": null,
            "object_position": null,
            "order": null,
            "overflow": null,
            "overflow_x": null,
            "overflow_y": null,
            "padding": null,
            "right": null,
            "top": null,
            "visibility": null,
            "width": null
          }
        },
        "f1dff157704346cba1c83d588fb93e33": {
          "model_module": "@jupyter-widgets/base",
          "model_name": "LayoutModel",
          "model_module_version": "1.2.0",
          "state": {
            "_model_module": "@jupyter-widgets/base",
            "_model_module_version": "1.2.0",
            "_model_name": "LayoutModel",
            "_view_count": null,
            "_view_module": "@jupyter-widgets/base",
            "_view_module_version": "1.2.0",
            "_view_name": "LayoutView",
            "align_content": null,
            "align_items": null,
            "align_self": null,
            "border": null,
            "bottom": null,
            "display": null,
            "flex": null,
            "flex_flow": null,
            "grid_area": null,
            "grid_auto_columns": null,
            "grid_auto_flow": null,
            "grid_auto_rows": null,
            "grid_column": null,
            "grid_gap": null,
            "grid_row": null,
            "grid_template_areas": null,
            "grid_template_columns": null,
            "grid_template_rows": null,
            "height": null,
            "justify_content": null,
            "justify_items": null,
            "left": null,
            "margin": null,
            "max_height": null,
            "max_width": null,
            "min_height": null,
            "min_width": null,
            "object_fit": null,
            "object_position": null,
            "order": null,
            "overflow": null,
            "overflow_x": null,
            "overflow_y": null,
            "padding": null,
            "right": null,
            "top": null,
            "visibility": null,
            "width": null
          }
        },
        "e4d0a1cae95044ecb6a0d30bcd083170": {
          "model_module": "@jupyter-widgets/controls",
          "model_name": "DescriptionStyleModel",
          "model_module_version": "1.5.0",
          "state": {
            "_model_module": "@jupyter-widgets/controls",
            "_model_module_version": "1.5.0",
            "_model_name": "DescriptionStyleModel",
            "_view_count": null,
            "_view_module": "@jupyter-widgets/base",
            "_view_module_version": "1.2.0",
            "_view_name": "StyleView",
            "description_width": ""
          }
        },
        "9d79d09a4bb34138854add4cf175dc9a": {
          "model_module": "@jupyter-widgets/base",
          "model_name": "LayoutModel",
          "model_module_version": "1.2.0",
          "state": {
            "_model_module": "@jupyter-widgets/base",
            "_model_module_version": "1.2.0",
            "_model_name": "LayoutModel",
            "_view_count": null,
            "_view_module": "@jupyter-widgets/base",
            "_view_module_version": "1.2.0",
            "_view_name": "LayoutView",
            "align_content": null,
            "align_items": null,
            "align_self": null,
            "border": null,
            "bottom": null,
            "display": null,
            "flex": null,
            "flex_flow": null,
            "grid_area": null,
            "grid_auto_columns": null,
            "grid_auto_flow": null,
            "grid_auto_rows": null,
            "grid_column": null,
            "grid_gap": null,
            "grid_row": null,
            "grid_template_areas": null,
            "grid_template_columns": null,
            "grid_template_rows": null,
            "height": null,
            "justify_content": null,
            "justify_items": null,
            "left": null,
            "margin": null,
            "max_height": null,
            "max_width": null,
            "min_height": null,
            "min_width": null,
            "object_fit": null,
            "object_position": null,
            "order": null,
            "overflow": null,
            "overflow_x": null,
            "overflow_y": null,
            "padding": null,
            "right": null,
            "top": null,
            "visibility": null,
            "width": null
          }
        },
        "4651cc2b0f89489f95446eec44a0b6ce": {
          "model_module": "@jupyter-widgets/controls",
          "model_name": "ProgressStyleModel",
          "model_module_version": "1.5.0",
          "state": {
            "_model_module": "@jupyter-widgets/controls",
            "_model_module_version": "1.5.0",
            "_model_name": "ProgressStyleModel",
            "_view_count": null,
            "_view_module": "@jupyter-widgets/base",
            "_view_module_version": "1.2.0",
            "_view_name": "StyleView",
            "bar_color": null,
            "description_width": ""
          }
        },
        "3b9989af98c94b5a9f2e3e2fc41b693f": {
          "model_module": "@jupyter-widgets/base",
          "model_name": "LayoutModel",
          "model_module_version": "1.2.0",
          "state": {
            "_model_module": "@jupyter-widgets/base",
            "_model_module_version": "1.2.0",
            "_model_name": "LayoutModel",
            "_view_count": null,
            "_view_module": "@jupyter-widgets/base",
            "_view_module_version": "1.2.0",
            "_view_name": "LayoutView",
            "align_content": null,
            "align_items": null,
            "align_self": null,
            "border": null,
            "bottom": null,
            "display": null,
            "flex": null,
            "flex_flow": null,
            "grid_area": null,
            "grid_auto_columns": null,
            "grid_auto_flow": null,
            "grid_auto_rows": null,
            "grid_column": null,
            "grid_gap": null,
            "grid_row": null,
            "grid_template_areas": null,
            "grid_template_columns": null,
            "grid_template_rows": null,
            "height": null,
            "justify_content": null,
            "justify_items": null,
            "left": null,
            "margin": null,
            "max_height": null,
            "max_width": null,
            "min_height": null,
            "min_width": null,
            "object_fit": null,
            "object_position": null,
            "order": null,
            "overflow": null,
            "overflow_x": null,
            "overflow_y": null,
            "padding": null,
            "right": null,
            "top": null,
            "visibility": null,
            "width": null
          }
        },
        "ef5c7d696d5243fbb95165351ea624e1": {
          "model_module": "@jupyter-widgets/controls",
          "model_name": "DescriptionStyleModel",
          "model_module_version": "1.5.0",
          "state": {
            "_model_module": "@jupyter-widgets/controls",
            "_model_module_version": "1.5.0",
            "_model_name": "DescriptionStyleModel",
            "_view_count": null,
            "_view_module": "@jupyter-widgets/base",
            "_view_module_version": "1.2.0",
            "_view_name": "StyleView",
            "description_width": ""
          }
        },
        "9a42839d9f4549aaa22b182b76f65600": {
          "model_module": "@jupyter-widgets/controls",
          "model_name": "HBoxModel",
          "model_module_version": "1.5.0",
          "state": {
            "_dom_classes": [],
            "_model_module": "@jupyter-widgets/controls",
            "_model_module_version": "1.5.0",
            "_model_name": "HBoxModel",
            "_view_count": null,
            "_view_module": "@jupyter-widgets/controls",
            "_view_module_version": "1.5.0",
            "_view_name": "HBoxView",
            "box_style": "",
            "children": [
              "IPY_MODEL_19f3656c2bde4b5e8df7ac830a86e028",
              "IPY_MODEL_23c49339c72242c1a70a4217dd5e0d20",
              "IPY_MODEL_514e6931d6d74b1fbfa91397622fa6cb"
            ],
            "layout": "IPY_MODEL_345ede1eed6e4e5e9a1e7d03ef9cc0da"
          }
        },
        "19f3656c2bde4b5e8df7ac830a86e028": {
          "model_module": "@jupyter-widgets/controls",
          "model_name": "HTMLModel",
          "model_module_version": "1.5.0",
          "state": {
            "_dom_classes": [],
            "_model_module": "@jupyter-widgets/controls",
            "_model_module_version": "1.5.0",
            "_model_name": "HTMLModel",
            "_view_count": null,
            "_view_module": "@jupyter-widgets/controls",
            "_view_module_version": "1.5.0",
            "_view_name": "HTMLView",
            "description": "",
            "description_tooltip": null,
            "layout": "IPY_MODEL_c4128355a1254d5ea166a029631e1bca",
            "placeholder": "​",
            "style": "IPY_MODEL_f71cbe80f6c046a184d4e5e18ab06c70",
            "value": "Downloading (…)lve/main/config.json: 100%"
          }
        },
        "23c49339c72242c1a70a4217dd5e0d20": {
          "model_module": "@jupyter-widgets/controls",
          "model_name": "FloatProgressModel",
          "model_module_version": "1.5.0",
          "state": {
            "_dom_classes": [],
            "_model_module": "@jupyter-widgets/controls",
            "_model_module_version": "1.5.0",
            "_model_name": "FloatProgressModel",
            "_view_count": null,
            "_view_module": "@jupyter-widgets/controls",
            "_view_module_version": "1.5.0",
            "_view_name": "ProgressView",
            "bar_style": "success",
            "description": "",
            "description_tooltip": null,
            "layout": "IPY_MODEL_c5c943f24aa447518530226047778aa1",
            "max": 570,
            "min": 0,
            "orientation": "horizontal",
            "style": "IPY_MODEL_ed49601fc30b47789af5e7e2cf0ef656",
            "value": 570
          }
        },
        "514e6931d6d74b1fbfa91397622fa6cb": {
          "model_module": "@jupyter-widgets/controls",
          "model_name": "HTMLModel",
          "model_module_version": "1.5.0",
          "state": {
            "_dom_classes": [],
            "_model_module": "@jupyter-widgets/controls",
            "_model_module_version": "1.5.0",
            "_model_name": "HTMLModel",
            "_view_count": null,
            "_view_module": "@jupyter-widgets/controls",
            "_view_module_version": "1.5.0",
            "_view_name": "HTMLView",
            "description": "",
            "description_tooltip": null,
            "layout": "IPY_MODEL_1d32e2701bed47d287fc72957e264b72",
            "placeholder": "​",
            "style": "IPY_MODEL_999a3007f073417ea5056bd29697e37b",
            "value": " 570/570 [00:00&lt;00:00, 16.6kB/s]"
          }
        },
        "345ede1eed6e4e5e9a1e7d03ef9cc0da": {
          "model_module": "@jupyter-widgets/base",
          "model_name": "LayoutModel",
          "model_module_version": "1.2.0",
          "state": {
            "_model_module": "@jupyter-widgets/base",
            "_model_module_version": "1.2.0",
            "_model_name": "LayoutModel",
            "_view_count": null,
            "_view_module": "@jupyter-widgets/base",
            "_view_module_version": "1.2.0",
            "_view_name": "LayoutView",
            "align_content": null,
            "align_items": null,
            "align_self": null,
            "border": null,
            "bottom": null,
            "display": null,
            "flex": null,
            "flex_flow": null,
            "grid_area": null,
            "grid_auto_columns": null,
            "grid_auto_flow": null,
            "grid_auto_rows": null,
            "grid_column": null,
            "grid_gap": null,
            "grid_row": null,
            "grid_template_areas": null,
            "grid_template_columns": null,
            "grid_template_rows": null,
            "height": null,
            "justify_content": null,
            "justify_items": null,
            "left": null,
            "margin": null,
            "max_height": null,
            "max_width": null,
            "min_height": null,
            "min_width": null,
            "object_fit": null,
            "object_position": null,
            "order": null,
            "overflow": null,
            "overflow_x": null,
            "overflow_y": null,
            "padding": null,
            "right": null,
            "top": null,
            "visibility": null,
            "width": null
          }
        },
        "c4128355a1254d5ea166a029631e1bca": {
          "model_module": "@jupyter-widgets/base",
          "model_name": "LayoutModel",
          "model_module_version": "1.2.0",
          "state": {
            "_model_module": "@jupyter-widgets/base",
            "_model_module_version": "1.2.0",
            "_model_name": "LayoutModel",
            "_view_count": null,
            "_view_module": "@jupyter-widgets/base",
            "_view_module_version": "1.2.0",
            "_view_name": "LayoutView",
            "align_content": null,
            "align_items": null,
            "align_self": null,
            "border": null,
            "bottom": null,
            "display": null,
            "flex": null,
            "flex_flow": null,
            "grid_area": null,
            "grid_auto_columns": null,
            "grid_auto_flow": null,
            "grid_auto_rows": null,
            "grid_column": null,
            "grid_gap": null,
            "grid_row": null,
            "grid_template_areas": null,
            "grid_template_columns": null,
            "grid_template_rows": null,
            "height": null,
            "justify_content": null,
            "justify_items": null,
            "left": null,
            "margin": null,
            "max_height": null,
            "max_width": null,
            "min_height": null,
            "min_width": null,
            "object_fit": null,
            "object_position": null,
            "order": null,
            "overflow": null,
            "overflow_x": null,
            "overflow_y": null,
            "padding": null,
            "right": null,
            "top": null,
            "visibility": null,
            "width": null
          }
        },
        "f71cbe80f6c046a184d4e5e18ab06c70": {
          "model_module": "@jupyter-widgets/controls",
          "model_name": "DescriptionStyleModel",
          "model_module_version": "1.5.0",
          "state": {
            "_model_module": "@jupyter-widgets/controls",
            "_model_module_version": "1.5.0",
            "_model_name": "DescriptionStyleModel",
            "_view_count": null,
            "_view_module": "@jupyter-widgets/base",
            "_view_module_version": "1.2.0",
            "_view_name": "StyleView",
            "description_width": ""
          }
        },
        "c5c943f24aa447518530226047778aa1": {
          "model_module": "@jupyter-widgets/base",
          "model_name": "LayoutModel",
          "model_module_version": "1.2.0",
          "state": {
            "_model_module": "@jupyter-widgets/base",
            "_model_module_version": "1.2.0",
            "_model_name": "LayoutModel",
            "_view_count": null,
            "_view_module": "@jupyter-widgets/base",
            "_view_module_version": "1.2.0",
            "_view_name": "LayoutView",
            "align_content": null,
            "align_items": null,
            "align_self": null,
            "border": null,
            "bottom": null,
            "display": null,
            "flex": null,
            "flex_flow": null,
            "grid_area": null,
            "grid_auto_columns": null,
            "grid_auto_flow": null,
            "grid_auto_rows": null,
            "grid_column": null,
            "grid_gap": null,
            "grid_row": null,
            "grid_template_areas": null,
            "grid_template_columns": null,
            "grid_template_rows": null,
            "height": null,
            "justify_content": null,
            "justify_items": null,
            "left": null,
            "margin": null,
            "max_height": null,
            "max_width": null,
            "min_height": null,
            "min_width": null,
            "object_fit": null,
            "object_position": null,
            "order": null,
            "overflow": null,
            "overflow_x": null,
            "overflow_y": null,
            "padding": null,
            "right": null,
            "top": null,
            "visibility": null,
            "width": null
          }
        },
        "ed49601fc30b47789af5e7e2cf0ef656": {
          "model_module": "@jupyter-widgets/controls",
          "model_name": "ProgressStyleModel",
          "model_module_version": "1.5.0",
          "state": {
            "_model_module": "@jupyter-widgets/controls",
            "_model_module_version": "1.5.0",
            "_model_name": "ProgressStyleModel",
            "_view_count": null,
            "_view_module": "@jupyter-widgets/base",
            "_view_module_version": "1.2.0",
            "_view_name": "StyleView",
            "bar_color": null,
            "description_width": ""
          }
        },
        "1d32e2701bed47d287fc72957e264b72": {
          "model_module": "@jupyter-widgets/base",
          "model_name": "LayoutModel",
          "model_module_version": "1.2.0",
          "state": {
            "_model_module": "@jupyter-widgets/base",
            "_model_module_version": "1.2.0",
            "_model_name": "LayoutModel",
            "_view_count": null,
            "_view_module": "@jupyter-widgets/base",
            "_view_module_version": "1.2.0",
            "_view_name": "LayoutView",
            "align_content": null,
            "align_items": null,
            "align_self": null,
            "border": null,
            "bottom": null,
            "display": null,
            "flex": null,
            "flex_flow": null,
            "grid_area": null,
            "grid_auto_columns": null,
            "grid_auto_flow": null,
            "grid_auto_rows": null,
            "grid_column": null,
            "grid_gap": null,
            "grid_row": null,
            "grid_template_areas": null,
            "grid_template_columns": null,
            "grid_template_rows": null,
            "height": null,
            "justify_content": null,
            "justify_items": null,
            "left": null,
            "margin": null,
            "max_height": null,
            "max_width": null,
            "min_height": null,
            "min_width": null,
            "object_fit": null,
            "object_position": null,
            "order": null,
            "overflow": null,
            "overflow_x": null,
            "overflow_y": null,
            "padding": null,
            "right": null,
            "top": null,
            "visibility": null,
            "width": null
          }
        },
        "999a3007f073417ea5056bd29697e37b": {
          "model_module": "@jupyter-widgets/controls",
          "model_name": "DescriptionStyleModel",
          "model_module_version": "1.5.0",
          "state": {
            "_model_module": "@jupyter-widgets/controls",
            "_model_module_version": "1.5.0",
            "_model_name": "DescriptionStyleModel",
            "_view_count": null,
            "_view_module": "@jupyter-widgets/base",
            "_view_module_version": "1.2.0",
            "_view_name": "StyleView",
            "description_width": ""
          }
        },
        "feb59656236f474f97b7cf3b04683233": {
          "model_module": "@jupyter-widgets/controls",
          "model_name": "HBoxModel",
          "model_module_version": "1.5.0",
          "state": {
            "_dom_classes": [],
            "_model_module": "@jupyter-widgets/controls",
            "_model_module_version": "1.5.0",
            "_model_name": "HBoxModel",
            "_view_count": null,
            "_view_module": "@jupyter-widgets/controls",
            "_view_module_version": "1.5.0",
            "_view_name": "HBoxView",
            "box_style": "",
            "children": [
              "IPY_MODEL_1b7659c50eb74a18af35eef3250b2a35",
              "IPY_MODEL_42d8b400f01340c4bdc6e1609fc3cfaa",
              "IPY_MODEL_b392cc6e2680415f9b6e68cc7526b074"
            ],
            "layout": "IPY_MODEL_f1230576c8f5490986d2b9930dd54aec"
          }
        },
        "1b7659c50eb74a18af35eef3250b2a35": {
          "model_module": "@jupyter-widgets/controls",
          "model_name": "HTMLModel",
          "model_module_version": "1.5.0",
          "state": {
            "_dom_classes": [],
            "_model_module": "@jupyter-widgets/controls",
            "_model_module_version": "1.5.0",
            "_model_name": "HTMLModel",
            "_view_count": null,
            "_view_module": "@jupyter-widgets/controls",
            "_view_module_version": "1.5.0",
            "_view_name": "HTMLView",
            "description": "",
            "description_tooltip": null,
            "layout": "IPY_MODEL_adebf644d27f4835904c94276f8de2aa",
            "placeholder": "​",
            "style": "IPY_MODEL_6701fcf2a6cf425baaa06c73749316ea",
            "value": "Downloading pytorch_model.bin: 100%"
          }
        },
        "42d8b400f01340c4bdc6e1609fc3cfaa": {
          "model_module": "@jupyter-widgets/controls",
          "model_name": "FloatProgressModel",
          "model_module_version": "1.5.0",
          "state": {
            "_dom_classes": [],
            "_model_module": "@jupyter-widgets/controls",
            "_model_module_version": "1.5.0",
            "_model_name": "FloatProgressModel",
            "_view_count": null,
            "_view_module": "@jupyter-widgets/controls",
            "_view_module_version": "1.5.0",
            "_view_name": "ProgressView",
            "bar_style": "success",
            "description": "",
            "description_tooltip": null,
            "layout": "IPY_MODEL_083e619ea985400491899ab5144f8544",
            "max": 435779157,
            "min": 0,
            "orientation": "horizontal",
            "style": "IPY_MODEL_de93017a0ffb4c7fb65d16b307baedb8",
            "value": 435779157
          }
        },
        "b392cc6e2680415f9b6e68cc7526b074": {
          "model_module": "@jupyter-widgets/controls",
          "model_name": "HTMLModel",
          "model_module_version": "1.5.0",
          "state": {
            "_dom_classes": [],
            "_model_module": "@jupyter-widgets/controls",
            "_model_module_version": "1.5.0",
            "_model_name": "HTMLModel",
            "_view_count": null,
            "_view_module": "@jupyter-widgets/controls",
            "_view_module_version": "1.5.0",
            "_view_name": "HTMLView",
            "description": "",
            "description_tooltip": null,
            "layout": "IPY_MODEL_4dc30051100d4171bdcce924496abb59",
            "placeholder": "​",
            "style": "IPY_MODEL_5fdab5fc78254ae2b45a9a6a641f8f2c",
            "value": " 436M/436M [00:03&lt;00:00, 90.4MB/s]"
          }
        },
        "f1230576c8f5490986d2b9930dd54aec": {
          "model_module": "@jupyter-widgets/base",
          "model_name": "LayoutModel",
          "model_module_version": "1.2.0",
          "state": {
            "_model_module": "@jupyter-widgets/base",
            "_model_module_version": "1.2.0",
            "_model_name": "LayoutModel",
            "_view_count": null,
            "_view_module": "@jupyter-widgets/base",
            "_view_module_version": "1.2.0",
            "_view_name": "LayoutView",
            "align_content": null,
            "align_items": null,
            "align_self": null,
            "border": null,
            "bottom": null,
            "display": null,
            "flex": null,
            "flex_flow": null,
            "grid_area": null,
            "grid_auto_columns": null,
            "grid_auto_flow": null,
            "grid_auto_rows": null,
            "grid_column": null,
            "grid_gap": null,
            "grid_row": null,
            "grid_template_areas": null,
            "grid_template_columns": null,
            "grid_template_rows": null,
            "height": null,
            "justify_content": null,
            "justify_items": null,
            "left": null,
            "margin": null,
            "max_height": null,
            "max_width": null,
            "min_height": null,
            "min_width": null,
            "object_fit": null,
            "object_position": null,
            "order": null,
            "overflow": null,
            "overflow_x": null,
            "overflow_y": null,
            "padding": null,
            "right": null,
            "top": null,
            "visibility": null,
            "width": null
          }
        },
        "adebf644d27f4835904c94276f8de2aa": {
          "model_module": "@jupyter-widgets/base",
          "model_name": "LayoutModel",
          "model_module_version": "1.2.0",
          "state": {
            "_model_module": "@jupyter-widgets/base",
            "_model_module_version": "1.2.0",
            "_model_name": "LayoutModel",
            "_view_count": null,
            "_view_module": "@jupyter-widgets/base",
            "_view_module_version": "1.2.0",
            "_view_name": "LayoutView",
            "align_content": null,
            "align_items": null,
            "align_self": null,
            "border": null,
            "bottom": null,
            "display": null,
            "flex": null,
            "flex_flow": null,
            "grid_area": null,
            "grid_auto_columns": null,
            "grid_auto_flow": null,
            "grid_auto_rows": null,
            "grid_column": null,
            "grid_gap": null,
            "grid_row": null,
            "grid_template_areas": null,
            "grid_template_columns": null,
            "grid_template_rows": null,
            "height": null,
            "justify_content": null,
            "justify_items": null,
            "left": null,
            "margin": null,
            "max_height": null,
            "max_width": null,
            "min_height": null,
            "min_width": null,
            "object_fit": null,
            "object_position": null,
            "order": null,
            "overflow": null,
            "overflow_x": null,
            "overflow_y": null,
            "padding": null,
            "right": null,
            "top": null,
            "visibility": null,
            "width": null
          }
        },
        "6701fcf2a6cf425baaa06c73749316ea": {
          "model_module": "@jupyter-widgets/controls",
          "model_name": "DescriptionStyleModel",
          "model_module_version": "1.5.0",
          "state": {
            "_model_module": "@jupyter-widgets/controls",
            "_model_module_version": "1.5.0",
            "_model_name": "DescriptionStyleModel",
            "_view_count": null,
            "_view_module": "@jupyter-widgets/base",
            "_view_module_version": "1.2.0",
            "_view_name": "StyleView",
            "description_width": ""
          }
        },
        "083e619ea985400491899ab5144f8544": {
          "model_module": "@jupyter-widgets/base",
          "model_name": "LayoutModel",
          "model_module_version": "1.2.0",
          "state": {
            "_model_module": "@jupyter-widgets/base",
            "_model_module_version": "1.2.0",
            "_model_name": "LayoutModel",
            "_view_count": null,
            "_view_module": "@jupyter-widgets/base",
            "_view_module_version": "1.2.0",
            "_view_name": "LayoutView",
            "align_content": null,
            "align_items": null,
            "align_self": null,
            "border": null,
            "bottom": null,
            "display": null,
            "flex": null,
            "flex_flow": null,
            "grid_area": null,
            "grid_auto_columns": null,
            "grid_auto_flow": null,
            "grid_auto_rows": null,
            "grid_column": null,
            "grid_gap": null,
            "grid_row": null,
            "grid_template_areas": null,
            "grid_template_columns": null,
            "grid_template_rows": null,
            "height": null,
            "justify_content": null,
            "justify_items": null,
            "left": null,
            "margin": null,
            "max_height": null,
            "max_width": null,
            "min_height": null,
            "min_width": null,
            "object_fit": null,
            "object_position": null,
            "order": null,
            "overflow": null,
            "overflow_x": null,
            "overflow_y": null,
            "padding": null,
            "right": null,
            "top": null,
            "visibility": null,
            "width": null
          }
        },
        "de93017a0ffb4c7fb65d16b307baedb8": {
          "model_module": "@jupyter-widgets/controls",
          "model_name": "ProgressStyleModel",
          "model_module_version": "1.5.0",
          "state": {
            "_model_module": "@jupyter-widgets/controls",
            "_model_module_version": "1.5.0",
            "_model_name": "ProgressStyleModel",
            "_view_count": null,
            "_view_module": "@jupyter-widgets/base",
            "_view_module_version": "1.2.0",
            "_view_name": "StyleView",
            "bar_color": null,
            "description_width": ""
          }
        },
        "4dc30051100d4171bdcce924496abb59": {
          "model_module": "@jupyter-widgets/base",
          "model_name": "LayoutModel",
          "model_module_version": "1.2.0",
          "state": {
            "_model_module": "@jupyter-widgets/base",
            "_model_module_version": "1.2.0",
            "_model_name": "LayoutModel",
            "_view_count": null,
            "_view_module": "@jupyter-widgets/base",
            "_view_module_version": "1.2.0",
            "_view_name": "LayoutView",
            "align_content": null,
            "align_items": null,
            "align_self": null,
            "border": null,
            "bottom": null,
            "display": null,
            "flex": null,
            "flex_flow": null,
            "grid_area": null,
            "grid_auto_columns": null,
            "grid_auto_flow": null,
            "grid_auto_rows": null,
            "grid_column": null,
            "grid_gap": null,
            "grid_row": null,
            "grid_template_areas": null,
            "grid_template_columns": null,
            "grid_template_rows": null,
            "height": null,
            "justify_content": null,
            "justify_items": null,
            "left": null,
            "margin": null,
            "max_height": null,
            "max_width": null,
            "min_height": null,
            "min_width": null,
            "object_fit": null,
            "object_position": null,
            "order": null,
            "overflow": null,
            "overflow_x": null,
            "overflow_y": null,
            "padding": null,
            "right": null,
            "top": null,
            "visibility": null,
            "width": null
          }
        },
        "5fdab5fc78254ae2b45a9a6a641f8f2c": {
          "model_module": "@jupyter-widgets/controls",
          "model_name": "DescriptionStyleModel",
          "model_module_version": "1.5.0",
          "state": {
            "_model_module": "@jupyter-widgets/controls",
            "_model_module_version": "1.5.0",
            "_model_name": "DescriptionStyleModel",
            "_view_count": null,
            "_view_module": "@jupyter-widgets/base",
            "_view_module_version": "1.2.0",
            "_view_name": "StyleView",
            "description_width": ""
          }
        },
        "7241b4bdf6274ef6a76aba584d1d5261": {
          "model_module": "@jupyter-widgets/controls",
          "model_name": "HBoxModel",
          "model_module_version": "1.5.0",
          "state": {
            "_dom_classes": [],
            "_model_module": "@jupyter-widgets/controls",
            "_model_module_version": "1.5.0",
            "_model_name": "HBoxModel",
            "_view_count": null,
            "_view_module": "@jupyter-widgets/controls",
            "_view_module_version": "1.5.0",
            "_view_name": "HBoxView",
            "box_style": "",
            "children": [
              "IPY_MODEL_d38b0a558a8443e98bb684e3ceb65e93",
              "IPY_MODEL_7ee643551f8c40edbcb46c4008f01978",
              "IPY_MODEL_11f25279f6a74dedbe1ea8b9d7dd1883"
            ],
            "layout": "IPY_MODEL_251b5536df584c71ac8a8f6a584cfba8"
          }
        },
        "d38b0a558a8443e98bb684e3ceb65e93": {
          "model_module": "@jupyter-widgets/controls",
          "model_name": "HTMLModel",
          "model_module_version": "1.5.0",
          "state": {
            "_dom_classes": [],
            "_model_module": "@jupyter-widgets/controls",
            "_model_module_version": "1.5.0",
            "_model_name": "HTMLModel",
            "_view_count": null,
            "_view_module": "@jupyter-widgets/controls",
            "_view_module_version": "1.5.0",
            "_view_name": "HTMLView",
            "description": "",
            "description_tooltip": null,
            "layout": "IPY_MODEL_ef6239246d994a0491bfd129b8474a5f",
            "placeholder": "​",
            "style": "IPY_MODEL_600293b0dd5948d79fc8737d9d9845f6",
            "value": "Downloading (…)solve/main/vocab.txt: 100%"
          }
        },
        "7ee643551f8c40edbcb46c4008f01978": {
          "model_module": "@jupyter-widgets/controls",
          "model_name": "FloatProgressModel",
          "model_module_version": "1.5.0",
          "state": {
            "_dom_classes": [],
            "_model_module": "@jupyter-widgets/controls",
            "_model_module_version": "1.5.0",
            "_model_name": "FloatProgressModel",
            "_view_count": null,
            "_view_module": "@jupyter-widgets/controls",
            "_view_module_version": "1.5.0",
            "_view_name": "ProgressView",
            "bar_style": "success",
            "description": "",
            "description_tooltip": null,
            "layout": "IPY_MODEL_03d30fa1b5344f27bce7a824d5a4d841",
            "max": 995526,
            "min": 0,
            "orientation": "horizontal",
            "style": "IPY_MODEL_0fcfa4611aa9485c95d1fa12f5a4b7c6",
            "value": 995526
          }
        },
        "11f25279f6a74dedbe1ea8b9d7dd1883": {
          "model_module": "@jupyter-widgets/controls",
          "model_name": "HTMLModel",
          "model_module_version": "1.5.0",
          "state": {
            "_dom_classes": [],
            "_model_module": "@jupyter-widgets/controls",
            "_model_module_version": "1.5.0",
            "_model_name": "HTMLModel",
            "_view_count": null,
            "_view_module": "@jupyter-widgets/controls",
            "_view_module_version": "1.5.0",
            "_view_name": "HTMLView",
            "description": "",
            "description_tooltip": null,
            "layout": "IPY_MODEL_f94416a2a8394efca75375440b1865c7",
            "placeholder": "​",
            "style": "IPY_MODEL_5609f4b377424550b5c10940473f04db",
            "value": " 996k/996k [00:00&lt;00:00, 3.23MB/s]"
          }
        },
        "251b5536df584c71ac8a8f6a584cfba8": {
          "model_module": "@jupyter-widgets/base",
          "model_name": "LayoutModel",
          "model_module_version": "1.2.0",
          "state": {
            "_model_module": "@jupyter-widgets/base",
            "_model_module_version": "1.2.0",
            "_model_name": "LayoutModel",
            "_view_count": null,
            "_view_module": "@jupyter-widgets/base",
            "_view_module_version": "1.2.0",
            "_view_name": "LayoutView",
            "align_content": null,
            "align_items": null,
            "align_self": null,
            "border": null,
            "bottom": null,
            "display": null,
            "flex": null,
            "flex_flow": null,
            "grid_area": null,
            "grid_auto_columns": null,
            "grid_auto_flow": null,
            "grid_auto_rows": null,
            "grid_column": null,
            "grid_gap": null,
            "grid_row": null,
            "grid_template_areas": null,
            "grid_template_columns": null,
            "grid_template_rows": null,
            "height": null,
            "justify_content": null,
            "justify_items": null,
            "left": null,
            "margin": null,
            "max_height": null,
            "max_width": null,
            "min_height": null,
            "min_width": null,
            "object_fit": null,
            "object_position": null,
            "order": null,
            "overflow": null,
            "overflow_x": null,
            "overflow_y": null,
            "padding": null,
            "right": null,
            "top": null,
            "visibility": null,
            "width": null
          }
        },
        "ef6239246d994a0491bfd129b8474a5f": {
          "model_module": "@jupyter-widgets/base",
          "model_name": "LayoutModel",
          "model_module_version": "1.2.0",
          "state": {
            "_model_module": "@jupyter-widgets/base",
            "_model_module_version": "1.2.0",
            "_model_name": "LayoutModel",
            "_view_count": null,
            "_view_module": "@jupyter-widgets/base",
            "_view_module_version": "1.2.0",
            "_view_name": "LayoutView",
            "align_content": null,
            "align_items": null,
            "align_self": null,
            "border": null,
            "bottom": null,
            "display": null,
            "flex": null,
            "flex_flow": null,
            "grid_area": null,
            "grid_auto_columns": null,
            "grid_auto_flow": null,
            "grid_auto_rows": null,
            "grid_column": null,
            "grid_gap": null,
            "grid_row": null,
            "grid_template_areas": null,
            "grid_template_columns": null,
            "grid_template_rows": null,
            "height": null,
            "justify_content": null,
            "justify_items": null,
            "left": null,
            "margin": null,
            "max_height": null,
            "max_width": null,
            "min_height": null,
            "min_width": null,
            "object_fit": null,
            "object_position": null,
            "order": null,
            "overflow": null,
            "overflow_x": null,
            "overflow_y": null,
            "padding": null,
            "right": null,
            "top": null,
            "visibility": null,
            "width": null
          }
        },
        "600293b0dd5948d79fc8737d9d9845f6": {
          "model_module": "@jupyter-widgets/controls",
          "model_name": "DescriptionStyleModel",
          "model_module_version": "1.5.0",
          "state": {
            "_model_module": "@jupyter-widgets/controls",
            "_model_module_version": "1.5.0",
            "_model_name": "DescriptionStyleModel",
            "_view_count": null,
            "_view_module": "@jupyter-widgets/base",
            "_view_module_version": "1.2.0",
            "_view_name": "StyleView",
            "description_width": ""
          }
        },
        "03d30fa1b5344f27bce7a824d5a4d841": {
          "model_module": "@jupyter-widgets/base",
          "model_name": "LayoutModel",
          "model_module_version": "1.2.0",
          "state": {
            "_model_module": "@jupyter-widgets/base",
            "_model_module_version": "1.2.0",
            "_model_name": "LayoutModel",
            "_view_count": null,
            "_view_module": "@jupyter-widgets/base",
            "_view_module_version": "1.2.0",
            "_view_name": "LayoutView",
            "align_content": null,
            "align_items": null,
            "align_self": null,
            "border": null,
            "bottom": null,
            "display": null,
            "flex": null,
            "flex_flow": null,
            "grid_area": null,
            "grid_auto_columns": null,
            "grid_auto_flow": null,
            "grid_auto_rows": null,
            "grid_column": null,
            "grid_gap": null,
            "grid_row": null,
            "grid_template_areas": null,
            "grid_template_columns": null,
            "grid_template_rows": null,
            "height": null,
            "justify_content": null,
            "justify_items": null,
            "left": null,
            "margin": null,
            "max_height": null,
            "max_width": null,
            "min_height": null,
            "min_width": null,
            "object_fit": null,
            "object_position": null,
            "order": null,
            "overflow": null,
            "overflow_x": null,
            "overflow_y": null,
            "padding": null,
            "right": null,
            "top": null,
            "visibility": null,
            "width": null
          }
        },
        "0fcfa4611aa9485c95d1fa12f5a4b7c6": {
          "model_module": "@jupyter-widgets/controls",
          "model_name": "ProgressStyleModel",
          "model_module_version": "1.5.0",
          "state": {
            "_model_module": "@jupyter-widgets/controls",
            "_model_module_version": "1.5.0",
            "_model_name": "ProgressStyleModel",
            "_view_count": null,
            "_view_module": "@jupyter-widgets/base",
            "_view_module_version": "1.2.0",
            "_view_name": "StyleView",
            "bar_color": null,
            "description_width": ""
          }
        },
        "f94416a2a8394efca75375440b1865c7": {
          "model_module": "@jupyter-widgets/base",
          "model_name": "LayoutModel",
          "model_module_version": "1.2.0",
          "state": {
            "_model_module": "@jupyter-widgets/base",
            "_model_module_version": "1.2.0",
            "_model_name": "LayoutModel",
            "_view_count": null,
            "_view_module": "@jupyter-widgets/base",
            "_view_module_version": "1.2.0",
            "_view_name": "LayoutView",
            "align_content": null,
            "align_items": null,
            "align_self": null,
            "border": null,
            "bottom": null,
            "display": null,
            "flex": null,
            "flex_flow": null,
            "grid_area": null,
            "grid_auto_columns": null,
            "grid_auto_flow": null,
            "grid_auto_rows": null,
            "grid_column": null,
            "grid_gap": null,
            "grid_row": null,
            "grid_template_areas": null,
            "grid_template_columns": null,
            "grid_template_rows": null,
            "height": null,
            "justify_content": null,
            "justify_items": null,
            "left": null,
            "margin": null,
            "max_height": null,
            "max_width": null,
            "min_height": null,
            "min_width": null,
            "object_fit": null,
            "object_position": null,
            "order": null,
            "overflow": null,
            "overflow_x": null,
            "overflow_y": null,
            "padding": null,
            "right": null,
            "top": null,
            "visibility": null,
            "width": null
          }
        },
        "5609f4b377424550b5c10940473f04db": {
          "model_module": "@jupyter-widgets/controls",
          "model_name": "DescriptionStyleModel",
          "model_module_version": "1.5.0",
          "state": {
            "_model_module": "@jupyter-widgets/controls",
            "_model_module_version": "1.5.0",
            "_model_name": "DescriptionStyleModel",
            "_view_count": null,
            "_view_module": "@jupyter-widgets/base",
            "_view_module_version": "1.2.0",
            "_view_name": "StyleView",
            "description_width": ""
          }
        },
        "1b155044a20b4afda336851a598845f8": {
          "model_module": "@jupyter-widgets/controls",
          "model_name": "HBoxModel",
          "model_module_version": "1.5.0",
          "state": {
            "_dom_classes": [],
            "_model_module": "@jupyter-widgets/controls",
            "_model_module_version": "1.5.0",
            "_model_name": "HBoxModel",
            "_view_count": null,
            "_view_module": "@jupyter-widgets/controls",
            "_view_module_version": "1.5.0",
            "_view_name": "HBoxView",
            "box_style": "",
            "children": [
              "IPY_MODEL_1b8d7721c6794d9480ab3242b03e4b6b",
              "IPY_MODEL_517b170e69f44a43acf35328f0317e7f",
              "IPY_MODEL_1bca6d68c66841bbab4c33d84c3cff8f"
            ],
            "layout": "IPY_MODEL_b75cf60c657945939dc7bd441c9ac078"
          }
        },
        "1b8d7721c6794d9480ab3242b03e4b6b": {
          "model_module": "@jupyter-widgets/controls",
          "model_name": "HTMLModel",
          "model_module_version": "1.5.0",
          "state": {
            "_dom_classes": [],
            "_model_module": "@jupyter-widgets/controls",
            "_model_module_version": "1.5.0",
            "_model_name": "HTMLModel",
            "_view_count": null,
            "_view_module": "@jupyter-widgets/controls",
            "_view_module_version": "1.5.0",
            "_view_name": "HTMLView",
            "description": "",
            "description_tooltip": null,
            "layout": "IPY_MODEL_bb4e35a3ac5c485d9b6336fe55df8a9a",
            "placeholder": "​",
            "style": "IPY_MODEL_9212ab28921246fab96464e6185786da",
            "value": "Downloading (…)okenizer_config.json: 100%"
          }
        },
        "517b170e69f44a43acf35328f0317e7f": {
          "model_module": "@jupyter-widgets/controls",
          "model_name": "FloatProgressModel",
          "model_module_version": "1.5.0",
          "state": {
            "_dom_classes": [],
            "_model_module": "@jupyter-widgets/controls",
            "_model_module_version": "1.5.0",
            "_model_name": "FloatProgressModel",
            "_view_count": null,
            "_view_module": "@jupyter-widgets/controls",
            "_view_module_version": "1.5.0",
            "_view_name": "ProgressView",
            "bar_style": "success",
            "description": "",
            "description_tooltip": null,
            "layout": "IPY_MODEL_285bdbbf319947ca904306412b15f5ad",
            "max": 29,
            "min": 0,
            "orientation": "horizontal",
            "style": "IPY_MODEL_64d136ae344346b3ae3c5e2ffd6f77bf",
            "value": 29
          }
        },
        "1bca6d68c66841bbab4c33d84c3cff8f": {
          "model_module": "@jupyter-widgets/controls",
          "model_name": "HTMLModel",
          "model_module_version": "1.5.0",
          "state": {
            "_dom_classes": [],
            "_model_module": "@jupyter-widgets/controls",
            "_model_module_version": "1.5.0",
            "_model_name": "HTMLModel",
            "_view_count": null,
            "_view_module": "@jupyter-widgets/controls",
            "_view_module_version": "1.5.0",
            "_view_name": "HTMLView",
            "description": "",
            "description_tooltip": null,
            "layout": "IPY_MODEL_5193f4163cf946e094b8da6af8c65031",
            "placeholder": "​",
            "style": "IPY_MODEL_f622788ae666484abc91d5e944a19959",
            "value": " 29.0/29.0 [00:00&lt;00:00, 853B/s]"
          }
        },
        "b75cf60c657945939dc7bd441c9ac078": {
          "model_module": "@jupyter-widgets/base",
          "model_name": "LayoutModel",
          "model_module_version": "1.2.0",
          "state": {
            "_model_module": "@jupyter-widgets/base",
            "_model_module_version": "1.2.0",
            "_model_name": "LayoutModel",
            "_view_count": null,
            "_view_module": "@jupyter-widgets/base",
            "_view_module_version": "1.2.0",
            "_view_name": "LayoutView",
            "align_content": null,
            "align_items": null,
            "align_self": null,
            "border": null,
            "bottom": null,
            "display": null,
            "flex": null,
            "flex_flow": null,
            "grid_area": null,
            "grid_auto_columns": null,
            "grid_auto_flow": null,
            "grid_auto_rows": null,
            "grid_column": null,
            "grid_gap": null,
            "grid_row": null,
            "grid_template_areas": null,
            "grid_template_columns": null,
            "grid_template_rows": null,
            "height": null,
            "justify_content": null,
            "justify_items": null,
            "left": null,
            "margin": null,
            "max_height": null,
            "max_width": null,
            "min_height": null,
            "min_width": null,
            "object_fit": null,
            "object_position": null,
            "order": null,
            "overflow": null,
            "overflow_x": null,
            "overflow_y": null,
            "padding": null,
            "right": null,
            "top": null,
            "visibility": null,
            "width": null
          }
        },
        "bb4e35a3ac5c485d9b6336fe55df8a9a": {
          "model_module": "@jupyter-widgets/base",
          "model_name": "LayoutModel",
          "model_module_version": "1.2.0",
          "state": {
            "_model_module": "@jupyter-widgets/base",
            "_model_module_version": "1.2.0",
            "_model_name": "LayoutModel",
            "_view_count": null,
            "_view_module": "@jupyter-widgets/base",
            "_view_module_version": "1.2.0",
            "_view_name": "LayoutView",
            "align_content": null,
            "align_items": null,
            "align_self": null,
            "border": null,
            "bottom": null,
            "display": null,
            "flex": null,
            "flex_flow": null,
            "grid_area": null,
            "grid_auto_columns": null,
            "grid_auto_flow": null,
            "grid_auto_rows": null,
            "grid_column": null,
            "grid_gap": null,
            "grid_row": null,
            "grid_template_areas": null,
            "grid_template_columns": null,
            "grid_template_rows": null,
            "height": null,
            "justify_content": null,
            "justify_items": null,
            "left": null,
            "margin": null,
            "max_height": null,
            "max_width": null,
            "min_height": null,
            "min_width": null,
            "object_fit": null,
            "object_position": null,
            "order": null,
            "overflow": null,
            "overflow_x": null,
            "overflow_y": null,
            "padding": null,
            "right": null,
            "top": null,
            "visibility": null,
            "width": null
          }
        },
        "9212ab28921246fab96464e6185786da": {
          "model_module": "@jupyter-widgets/controls",
          "model_name": "DescriptionStyleModel",
          "model_module_version": "1.5.0",
          "state": {
            "_model_module": "@jupyter-widgets/controls",
            "_model_module_version": "1.5.0",
            "_model_name": "DescriptionStyleModel",
            "_view_count": null,
            "_view_module": "@jupyter-widgets/base",
            "_view_module_version": "1.2.0",
            "_view_name": "StyleView",
            "description_width": ""
          }
        },
        "285bdbbf319947ca904306412b15f5ad": {
          "model_module": "@jupyter-widgets/base",
          "model_name": "LayoutModel",
          "model_module_version": "1.2.0",
          "state": {
            "_model_module": "@jupyter-widgets/base",
            "_model_module_version": "1.2.0",
            "_model_name": "LayoutModel",
            "_view_count": null,
            "_view_module": "@jupyter-widgets/base",
            "_view_module_version": "1.2.0",
            "_view_name": "LayoutView",
            "align_content": null,
            "align_items": null,
            "align_self": null,
            "border": null,
            "bottom": null,
            "display": null,
            "flex": null,
            "flex_flow": null,
            "grid_area": null,
            "grid_auto_columns": null,
            "grid_auto_flow": null,
            "grid_auto_rows": null,
            "grid_column": null,
            "grid_gap": null,
            "grid_row": null,
            "grid_template_areas": null,
            "grid_template_columns": null,
            "grid_template_rows": null,
            "height": null,
            "justify_content": null,
            "justify_items": null,
            "left": null,
            "margin": null,
            "max_height": null,
            "max_width": null,
            "min_height": null,
            "min_width": null,
            "object_fit": null,
            "object_position": null,
            "order": null,
            "overflow": null,
            "overflow_x": null,
            "overflow_y": null,
            "padding": null,
            "right": null,
            "top": null,
            "visibility": null,
            "width": null
          }
        },
        "64d136ae344346b3ae3c5e2ffd6f77bf": {
          "model_module": "@jupyter-widgets/controls",
          "model_name": "ProgressStyleModel",
          "model_module_version": "1.5.0",
          "state": {
            "_model_module": "@jupyter-widgets/controls",
            "_model_module_version": "1.5.0",
            "_model_name": "ProgressStyleModel",
            "_view_count": null,
            "_view_module": "@jupyter-widgets/base",
            "_view_module_version": "1.2.0",
            "_view_name": "StyleView",
            "bar_color": null,
            "description_width": ""
          }
        },
        "5193f4163cf946e094b8da6af8c65031": {
          "model_module": "@jupyter-widgets/base",
          "model_name": "LayoutModel",
          "model_module_version": "1.2.0",
          "state": {
            "_model_module": "@jupyter-widgets/base",
            "_model_module_version": "1.2.0",
            "_model_name": "LayoutModel",
            "_view_count": null,
            "_view_module": "@jupyter-widgets/base",
            "_view_module_version": "1.2.0",
            "_view_name": "LayoutView",
            "align_content": null,
            "align_items": null,
            "align_self": null,
            "border": null,
            "bottom": null,
            "display": null,
            "flex": null,
            "flex_flow": null,
            "grid_area": null,
            "grid_auto_columns": null,
            "grid_auto_flow": null,
            "grid_auto_rows": null,
            "grid_column": null,
            "grid_gap": null,
            "grid_row": null,
            "grid_template_areas": null,
            "grid_template_columns": null,
            "grid_template_rows": null,
            "height": null,
            "justify_content": null,
            "justify_items": null,
            "left": null,
            "margin": null,
            "max_height": null,
            "max_width": null,
            "min_height": null,
            "min_width": null,
            "object_fit": null,
            "object_position": null,
            "order": null,
            "overflow": null,
            "overflow_x": null,
            "overflow_y": null,
            "padding": null,
            "right": null,
            "top": null,
            "visibility": null,
            "width": null
          }
        },
        "f622788ae666484abc91d5e944a19959": {
          "model_module": "@jupyter-widgets/controls",
          "model_name": "DescriptionStyleModel",
          "model_module_version": "1.5.0",
          "state": {
            "_model_module": "@jupyter-widgets/controls",
            "_model_module_version": "1.5.0",
            "_model_name": "DescriptionStyleModel",
            "_view_count": null,
            "_view_module": "@jupyter-widgets/base",
            "_view_module_version": "1.2.0",
            "_view_name": "StyleView",
            "description_width": ""
          }
        },
        "783d55f0281e48c39c8436cdd000acbf": {
          "model_module": "@jupyter-widgets/controls",
          "model_name": "HBoxModel",
          "model_module_version": "1.5.0",
          "state": {
            "_dom_classes": [],
            "_model_module": "@jupyter-widgets/controls",
            "_model_module_version": "1.5.0",
            "_model_name": "HBoxModel",
            "_view_count": null,
            "_view_module": "@jupyter-widgets/controls",
            "_view_module_version": "1.5.0",
            "_view_name": "HBoxView",
            "box_style": "",
            "children": [
              "IPY_MODEL_7185b6d551094e209de59d29e937b804",
              "IPY_MODEL_945fe345cd0c4ba5ae2358ee2aababde",
              "IPY_MODEL_2dc529996e804450907c5f393af6e561"
            ],
            "layout": "IPY_MODEL_f6239e94b627414ebd58cd9839bf5653"
          }
        },
        "7185b6d551094e209de59d29e937b804": {
          "model_module": "@jupyter-widgets/controls",
          "model_name": "HTMLModel",
          "model_module_version": "1.5.0",
          "state": {
            "_dom_classes": [],
            "_model_module": "@jupyter-widgets/controls",
            "_model_module_version": "1.5.0",
            "_model_name": "HTMLModel",
            "_view_count": null,
            "_view_module": "@jupyter-widgets/controls",
            "_view_module_version": "1.5.0",
            "_view_name": "HTMLView",
            "description": "",
            "description_tooltip": null,
            "layout": "IPY_MODEL_2ee9d604082d4d80948c209ebd89ea51",
            "placeholder": "​",
            "style": "IPY_MODEL_ca00d0620caf46169dd3cee5c3e3c329",
            "value": "Downloading (…)lve/main/config.json: 100%"
          }
        },
        "945fe345cd0c4ba5ae2358ee2aababde": {
          "model_module": "@jupyter-widgets/controls",
          "model_name": "FloatProgressModel",
          "model_module_version": "1.5.0",
          "state": {
            "_dom_classes": [],
            "_model_module": "@jupyter-widgets/controls",
            "_model_module_version": "1.5.0",
            "_model_name": "FloatProgressModel",
            "_view_count": null,
            "_view_module": "@jupyter-widgets/controls",
            "_view_module_version": "1.5.0",
            "_view_name": "ProgressView",
            "bar_style": "success",
            "description": "",
            "description_tooltip": null,
            "layout": "IPY_MODEL_80eb5a4c50124315b00bc7363b56d722",
            "max": 625,
            "min": 0,
            "orientation": "horizontal",
            "style": "IPY_MODEL_09fa0779e23c482dbd9665937e1b17fe",
            "value": 625
          }
        },
        "2dc529996e804450907c5f393af6e561": {
          "model_module": "@jupyter-widgets/controls",
          "model_name": "HTMLModel",
          "model_module_version": "1.5.0",
          "state": {
            "_dom_classes": [],
            "_model_module": "@jupyter-widgets/controls",
            "_model_module_version": "1.5.0",
            "_model_name": "HTMLModel",
            "_view_count": null,
            "_view_module": "@jupyter-widgets/controls",
            "_view_module_version": "1.5.0",
            "_view_name": "HTMLView",
            "description": "",
            "description_tooltip": null,
            "layout": "IPY_MODEL_a9a4053cc152491ab76561368b8b7b4b",
            "placeholder": "​",
            "style": "IPY_MODEL_5f6bd882b7544bd58425fdef09419fa5",
            "value": " 625/625 [00:00&lt;00:00, 26.5kB/s]"
          }
        },
        "f6239e94b627414ebd58cd9839bf5653": {
          "model_module": "@jupyter-widgets/base",
          "model_name": "LayoutModel",
          "model_module_version": "1.2.0",
          "state": {
            "_model_module": "@jupyter-widgets/base",
            "_model_module_version": "1.2.0",
            "_model_name": "LayoutModel",
            "_view_count": null,
            "_view_module": "@jupyter-widgets/base",
            "_view_module_version": "1.2.0",
            "_view_name": "LayoutView",
            "align_content": null,
            "align_items": null,
            "align_self": null,
            "border": null,
            "bottom": null,
            "display": null,
            "flex": null,
            "flex_flow": null,
            "grid_area": null,
            "grid_auto_columns": null,
            "grid_auto_flow": null,
            "grid_auto_rows": null,
            "grid_column": null,
            "grid_gap": null,
            "grid_row": null,
            "grid_template_areas": null,
            "grid_template_columns": null,
            "grid_template_rows": null,
            "height": null,
            "justify_content": null,
            "justify_items": null,
            "left": null,
            "margin": null,
            "max_height": null,
            "max_width": null,
            "min_height": null,
            "min_width": null,
            "object_fit": null,
            "object_position": null,
            "order": null,
            "overflow": null,
            "overflow_x": null,
            "overflow_y": null,
            "padding": null,
            "right": null,
            "top": null,
            "visibility": null,
            "width": null
          }
        },
        "2ee9d604082d4d80948c209ebd89ea51": {
          "model_module": "@jupyter-widgets/base",
          "model_name": "LayoutModel",
          "model_module_version": "1.2.0",
          "state": {
            "_model_module": "@jupyter-widgets/base",
            "_model_module_version": "1.2.0",
            "_model_name": "LayoutModel",
            "_view_count": null,
            "_view_module": "@jupyter-widgets/base",
            "_view_module_version": "1.2.0",
            "_view_name": "LayoutView",
            "align_content": null,
            "align_items": null,
            "align_self": null,
            "border": null,
            "bottom": null,
            "display": null,
            "flex": null,
            "flex_flow": null,
            "grid_area": null,
            "grid_auto_columns": null,
            "grid_auto_flow": null,
            "grid_auto_rows": null,
            "grid_column": null,
            "grid_gap": null,
            "grid_row": null,
            "grid_template_areas": null,
            "grid_template_columns": null,
            "grid_template_rows": null,
            "height": null,
            "justify_content": null,
            "justify_items": null,
            "left": null,
            "margin": null,
            "max_height": null,
            "max_width": null,
            "min_height": null,
            "min_width": null,
            "object_fit": null,
            "object_position": null,
            "order": null,
            "overflow": null,
            "overflow_x": null,
            "overflow_y": null,
            "padding": null,
            "right": null,
            "top": null,
            "visibility": null,
            "width": null
          }
        },
        "ca00d0620caf46169dd3cee5c3e3c329": {
          "model_module": "@jupyter-widgets/controls",
          "model_name": "DescriptionStyleModel",
          "model_module_version": "1.5.0",
          "state": {
            "_model_module": "@jupyter-widgets/controls",
            "_model_module_version": "1.5.0",
            "_model_name": "DescriptionStyleModel",
            "_view_count": null,
            "_view_module": "@jupyter-widgets/base",
            "_view_module_version": "1.2.0",
            "_view_name": "StyleView",
            "description_width": ""
          }
        },
        "80eb5a4c50124315b00bc7363b56d722": {
          "model_module": "@jupyter-widgets/base",
          "model_name": "LayoutModel",
          "model_module_version": "1.2.0",
          "state": {
            "_model_module": "@jupyter-widgets/base",
            "_model_module_version": "1.2.0",
            "_model_name": "LayoutModel",
            "_view_count": null,
            "_view_module": "@jupyter-widgets/base",
            "_view_module_version": "1.2.0",
            "_view_name": "LayoutView",
            "align_content": null,
            "align_items": null,
            "align_self": null,
            "border": null,
            "bottom": null,
            "display": null,
            "flex": null,
            "flex_flow": null,
            "grid_area": null,
            "grid_auto_columns": null,
            "grid_auto_flow": null,
            "grid_auto_rows": null,
            "grid_column": null,
            "grid_gap": null,
            "grid_row": null,
            "grid_template_areas": null,
            "grid_template_columns": null,
            "grid_template_rows": null,
            "height": null,
            "justify_content": null,
            "justify_items": null,
            "left": null,
            "margin": null,
            "max_height": null,
            "max_width": null,
            "min_height": null,
            "min_width": null,
            "object_fit": null,
            "object_position": null,
            "order": null,
            "overflow": null,
            "overflow_x": null,
            "overflow_y": null,
            "padding": null,
            "right": null,
            "top": null,
            "visibility": null,
            "width": null
          }
        },
        "09fa0779e23c482dbd9665937e1b17fe": {
          "model_module": "@jupyter-widgets/controls",
          "model_name": "ProgressStyleModel",
          "model_module_version": "1.5.0",
          "state": {
            "_model_module": "@jupyter-widgets/controls",
            "_model_module_version": "1.5.0",
            "_model_name": "ProgressStyleModel",
            "_view_count": null,
            "_view_module": "@jupyter-widgets/base",
            "_view_module_version": "1.2.0",
            "_view_name": "StyleView",
            "bar_color": null,
            "description_width": ""
          }
        },
        "a9a4053cc152491ab76561368b8b7b4b": {
          "model_module": "@jupyter-widgets/base",
          "model_name": "LayoutModel",
          "model_module_version": "1.2.0",
          "state": {
            "_model_module": "@jupyter-widgets/base",
            "_model_module_version": "1.2.0",
            "_model_name": "LayoutModel",
            "_view_count": null,
            "_view_module": "@jupyter-widgets/base",
            "_view_module_version": "1.2.0",
            "_view_name": "LayoutView",
            "align_content": null,
            "align_items": null,
            "align_self": null,
            "border": null,
            "bottom": null,
            "display": null,
            "flex": null,
            "flex_flow": null,
            "grid_area": null,
            "grid_auto_columns": null,
            "grid_auto_flow": null,
            "grid_auto_rows": null,
            "grid_column": null,
            "grid_gap": null,
            "grid_row": null,
            "grid_template_areas": null,
            "grid_template_columns": null,
            "grid_template_rows": null,
            "height": null,
            "justify_content": null,
            "justify_items": null,
            "left": null,
            "margin": null,
            "max_height": null,
            "max_width": null,
            "min_height": null,
            "min_width": null,
            "object_fit": null,
            "object_position": null,
            "order": null,
            "overflow": null,
            "overflow_x": null,
            "overflow_y": null,
            "padding": null,
            "right": null,
            "top": null,
            "visibility": null,
            "width": null
          }
        },
        "5f6bd882b7544bd58425fdef09419fa5": {
          "model_module": "@jupyter-widgets/controls",
          "model_name": "DescriptionStyleModel",
          "model_module_version": "1.5.0",
          "state": {
            "_model_module": "@jupyter-widgets/controls",
            "_model_module_version": "1.5.0",
            "_model_name": "DescriptionStyleModel",
            "_view_count": null,
            "_view_module": "@jupyter-widgets/base",
            "_view_module_version": "1.2.0",
            "_view_name": "StyleView",
            "description_width": ""
          }
        },
        "a620de3207524fdda579c034b0af6250": {
          "model_module": "@jupyter-widgets/controls",
          "model_name": "HBoxModel",
          "model_module_version": "1.5.0",
          "state": {
            "_dom_classes": [],
            "_model_module": "@jupyter-widgets/controls",
            "_model_module_version": "1.5.0",
            "_model_name": "HBoxModel",
            "_view_count": null,
            "_view_module": "@jupyter-widgets/controls",
            "_view_module_version": "1.5.0",
            "_view_name": "HBoxView",
            "box_style": "",
            "children": [
              "IPY_MODEL_4150b76eb1614201be88b8a7acba9872",
              "IPY_MODEL_16d1cc67a40c4dcea2d9dbe9419e558b",
              "IPY_MODEL_0423023db3c64fb997a5254ddaf91bbf"
            ],
            "layout": "IPY_MODEL_627d0e86dbee4f418f6cc3a07894cffe"
          }
        },
        "4150b76eb1614201be88b8a7acba9872": {
          "model_module": "@jupyter-widgets/controls",
          "model_name": "HTMLModel",
          "model_module_version": "1.5.0",
          "state": {
            "_dom_classes": [],
            "_model_module": "@jupyter-widgets/controls",
            "_model_module_version": "1.5.0",
            "_model_name": "HTMLModel",
            "_view_count": null,
            "_view_module": "@jupyter-widgets/controls",
            "_view_module_version": "1.5.0",
            "_view_name": "HTMLView",
            "description": "",
            "description_tooltip": null,
            "layout": "IPY_MODEL_d2d5bc07c304456190b7a04b5cad432f",
            "placeholder": "​",
            "style": "IPY_MODEL_9345c92b5b5c49d5a57d691e61cdb503",
            "value": "Downloading pytorch_model.bin: 100%"
          }
        },
        "16d1cc67a40c4dcea2d9dbe9419e558b": {
          "model_module": "@jupyter-widgets/controls",
          "model_name": "FloatProgressModel",
          "model_module_version": "1.5.0",
          "state": {
            "_dom_classes": [],
            "_model_module": "@jupyter-widgets/controls",
            "_model_module_version": "1.5.0",
            "_model_name": "FloatProgressModel",
            "_view_count": null,
            "_view_module": "@jupyter-widgets/controls",
            "_view_module_version": "1.5.0",
            "_view_name": "ProgressView",
            "bar_style": "success",
            "description": "",
            "description_tooltip": null,
            "layout": "IPY_MODEL_4b57e63d869e4dfcbe864e195b17739f",
            "max": 714314041,
            "min": 0,
            "orientation": "horizontal",
            "style": "IPY_MODEL_5794a5beb42145c49836c3abc13092d5",
            "value": 714314041
          }
        },
        "0423023db3c64fb997a5254ddaf91bbf": {
          "model_module": "@jupyter-widgets/controls",
          "model_name": "HTMLModel",
          "model_module_version": "1.5.0",
          "state": {
            "_dom_classes": [],
            "_model_module": "@jupyter-widgets/controls",
            "_model_module_version": "1.5.0",
            "_model_name": "HTMLModel",
            "_view_count": null,
            "_view_module": "@jupyter-widgets/controls",
            "_view_module_version": "1.5.0",
            "_view_name": "HTMLView",
            "description": "",
            "description_tooltip": null,
            "layout": "IPY_MODEL_9f700f77a18f4ae59eef69a741bc9f98",
            "placeholder": "​",
            "style": "IPY_MODEL_6392505e317a40939488b6a392992a3a",
            "value": " 714M/714M [00:09&lt;00:00, 87.6MB/s]"
          }
        },
        "627d0e86dbee4f418f6cc3a07894cffe": {
          "model_module": "@jupyter-widgets/base",
          "model_name": "LayoutModel",
          "model_module_version": "1.2.0",
          "state": {
            "_model_module": "@jupyter-widgets/base",
            "_model_module_version": "1.2.0",
            "_model_name": "LayoutModel",
            "_view_count": null,
            "_view_module": "@jupyter-widgets/base",
            "_view_module_version": "1.2.0",
            "_view_name": "LayoutView",
            "align_content": null,
            "align_items": null,
            "align_self": null,
            "border": null,
            "bottom": null,
            "display": null,
            "flex": null,
            "flex_flow": null,
            "grid_area": null,
            "grid_auto_columns": null,
            "grid_auto_flow": null,
            "grid_auto_rows": null,
            "grid_column": null,
            "grid_gap": null,
            "grid_row": null,
            "grid_template_areas": null,
            "grid_template_columns": null,
            "grid_template_rows": null,
            "height": null,
            "justify_content": null,
            "justify_items": null,
            "left": null,
            "margin": null,
            "max_height": null,
            "max_width": null,
            "min_height": null,
            "min_width": null,
            "object_fit": null,
            "object_position": null,
            "order": null,
            "overflow": null,
            "overflow_x": null,
            "overflow_y": null,
            "padding": null,
            "right": null,
            "top": null,
            "visibility": null,
            "width": null
          }
        },
        "d2d5bc07c304456190b7a04b5cad432f": {
          "model_module": "@jupyter-widgets/base",
          "model_name": "LayoutModel",
          "model_module_version": "1.2.0",
          "state": {
            "_model_module": "@jupyter-widgets/base",
            "_model_module_version": "1.2.0",
            "_model_name": "LayoutModel",
            "_view_count": null,
            "_view_module": "@jupyter-widgets/base",
            "_view_module_version": "1.2.0",
            "_view_name": "LayoutView",
            "align_content": null,
            "align_items": null,
            "align_self": null,
            "border": null,
            "bottom": null,
            "display": null,
            "flex": null,
            "flex_flow": null,
            "grid_area": null,
            "grid_auto_columns": null,
            "grid_auto_flow": null,
            "grid_auto_rows": null,
            "grid_column": null,
            "grid_gap": null,
            "grid_row": null,
            "grid_template_areas": null,
            "grid_template_columns": null,
            "grid_template_rows": null,
            "height": null,
            "justify_content": null,
            "justify_items": null,
            "left": null,
            "margin": null,
            "max_height": null,
            "max_width": null,
            "min_height": null,
            "min_width": null,
            "object_fit": null,
            "object_position": null,
            "order": null,
            "overflow": null,
            "overflow_x": null,
            "overflow_y": null,
            "padding": null,
            "right": null,
            "top": null,
            "visibility": null,
            "width": null
          }
        },
        "9345c92b5b5c49d5a57d691e61cdb503": {
          "model_module": "@jupyter-widgets/controls",
          "model_name": "DescriptionStyleModel",
          "model_module_version": "1.5.0",
          "state": {
            "_model_module": "@jupyter-widgets/controls",
            "_model_module_version": "1.5.0",
            "_model_name": "DescriptionStyleModel",
            "_view_count": null,
            "_view_module": "@jupyter-widgets/base",
            "_view_module_version": "1.2.0",
            "_view_name": "StyleView",
            "description_width": ""
          }
        },
        "4b57e63d869e4dfcbe864e195b17739f": {
          "model_module": "@jupyter-widgets/base",
          "model_name": "LayoutModel",
          "model_module_version": "1.2.0",
          "state": {
            "_model_module": "@jupyter-widgets/base",
            "_model_module_version": "1.2.0",
            "_model_name": "LayoutModel",
            "_view_count": null,
            "_view_module": "@jupyter-widgets/base",
            "_view_module_version": "1.2.0",
            "_view_name": "LayoutView",
            "align_content": null,
            "align_items": null,
            "align_self": null,
            "border": null,
            "bottom": null,
            "display": null,
            "flex": null,
            "flex_flow": null,
            "grid_area": null,
            "grid_auto_columns": null,
            "grid_auto_flow": null,
            "grid_auto_rows": null,
            "grid_column": null,
            "grid_gap": null,
            "grid_row": null,
            "grid_template_areas": null,
            "grid_template_columns": null,
            "grid_template_rows": null,
            "height": null,
            "justify_content": null,
            "justify_items": null,
            "left": null,
            "margin": null,
            "max_height": null,
            "max_width": null,
            "min_height": null,
            "min_width": null,
            "object_fit": null,
            "object_position": null,
            "order": null,
            "overflow": null,
            "overflow_x": null,
            "overflow_y": null,
            "padding": null,
            "right": null,
            "top": null,
            "visibility": null,
            "width": null
          }
        },
        "5794a5beb42145c49836c3abc13092d5": {
          "model_module": "@jupyter-widgets/controls",
          "model_name": "ProgressStyleModel",
          "model_module_version": "1.5.0",
          "state": {
            "_model_module": "@jupyter-widgets/controls",
            "_model_module_version": "1.5.0",
            "_model_name": "ProgressStyleModel",
            "_view_count": null,
            "_view_module": "@jupyter-widgets/base",
            "_view_module_version": "1.2.0",
            "_view_name": "StyleView",
            "bar_color": null,
            "description_width": ""
          }
        },
        "9f700f77a18f4ae59eef69a741bc9f98": {
          "model_module": "@jupyter-widgets/base",
          "model_name": "LayoutModel",
          "model_module_version": "1.2.0",
          "state": {
            "_model_module": "@jupyter-widgets/base",
            "_model_module_version": "1.2.0",
            "_model_name": "LayoutModel",
            "_view_count": null,
            "_view_module": "@jupyter-widgets/base",
            "_view_module_version": "1.2.0",
            "_view_name": "LayoutView",
            "align_content": null,
            "align_items": null,
            "align_self": null,
            "border": null,
            "bottom": null,
            "display": null,
            "flex": null,
            "flex_flow": null,
            "grid_area": null,
            "grid_auto_columns": null,
            "grid_auto_flow": null,
            "grid_auto_rows": null,
            "grid_column": null,
            "grid_gap": null,
            "grid_row": null,
            "grid_template_areas": null,
            "grid_template_columns": null,
            "grid_template_rows": null,
            "height": null,
            "justify_content": null,
            "justify_items": null,
            "left": null,
            "margin": null,
            "max_height": null,
            "max_width": null,
            "min_height": null,
            "min_width": null,
            "object_fit": null,
            "object_position": null,
            "order": null,
            "overflow": null,
            "overflow_x": null,
            "overflow_y": null,
            "padding": null,
            "right": null,
            "top": null,
            "visibility": null,
            "width": null
          }
        },
        "6392505e317a40939488b6a392992a3a": {
          "model_module": "@jupyter-widgets/controls",
          "model_name": "DescriptionStyleModel",
          "model_module_version": "1.5.0",
          "state": {
            "_model_module": "@jupyter-widgets/controls",
            "_model_module_version": "1.5.0",
            "_model_name": "DescriptionStyleModel",
            "_view_count": null,
            "_view_module": "@jupyter-widgets/base",
            "_view_module_version": "1.2.0",
            "_view_name": "StyleView",
            "description_width": ""
          }
        },
        "f97a7b80818b4c57b40463ce3786d65c": {
          "model_module": "@jupyter-widgets/controls",
          "model_name": "HBoxModel",
          "model_module_version": "1.5.0",
          "state": {
            "_dom_classes": [],
            "_model_module": "@jupyter-widgets/controls",
            "_model_module_version": "1.5.0",
            "_model_name": "HBoxModel",
            "_view_count": null,
            "_view_module": "@jupyter-widgets/controls",
            "_view_module_version": "1.5.0",
            "_view_name": "HBoxView",
            "box_style": "",
            "children": [
              "IPY_MODEL_1742ecbbe63844beb08ab560a3425097",
              "IPY_MODEL_05602a6eb9254824a9fd58c35eb385f2",
              "IPY_MODEL_038925f884814070b6510567efadddf0"
            ],
            "layout": "IPY_MODEL_43483fcf017e4ce6b2a46a171bef70bd"
          }
        },
        "1742ecbbe63844beb08ab560a3425097": {
          "model_module": "@jupyter-widgets/controls",
          "model_name": "HTMLModel",
          "model_module_version": "1.5.0",
          "state": {
            "_dom_classes": [],
            "_model_module": "@jupyter-widgets/controls",
            "_model_module_version": "1.5.0",
            "_model_name": "HTMLModel",
            "_view_count": null,
            "_view_module": "@jupyter-widgets/controls",
            "_view_module_version": "1.5.0",
            "_view_name": "HTMLView",
            "description": "",
            "description_tooltip": null,
            "layout": "IPY_MODEL_decb3a65a89d4017a0584425df11141a",
            "placeholder": "​",
            "style": "IPY_MODEL_3f1f93c351594fc79589e31ec79ce1c7",
            "value": "Downloading (…)solve/main/vocab.txt: 100%"
          }
        },
        "05602a6eb9254824a9fd58c35eb385f2": {
          "model_module": "@jupyter-widgets/controls",
          "model_name": "FloatProgressModel",
          "model_module_version": "1.5.0",
          "state": {
            "_dom_classes": [],
            "_model_module": "@jupyter-widgets/controls",
            "_model_module_version": "1.5.0",
            "_model_name": "FloatProgressModel",
            "_view_count": null,
            "_view_module": "@jupyter-widgets/controls",
            "_view_module_version": "1.5.0",
            "_view_name": "ProgressView",
            "bar_style": "success",
            "description": "",
            "description_tooltip": null,
            "layout": "IPY_MODEL_a620f910facd4afd810fb48c30873c7c",
            "max": 231508,
            "min": 0,
            "orientation": "horizontal",
            "style": "IPY_MODEL_7b24f446ea4943efb205c3e4b7938718",
            "value": 231508
          }
        },
        "038925f884814070b6510567efadddf0": {
          "model_module": "@jupyter-widgets/controls",
          "model_name": "HTMLModel",
          "model_module_version": "1.5.0",
          "state": {
            "_dom_classes": [],
            "_model_module": "@jupyter-widgets/controls",
            "_model_module_version": "1.5.0",
            "_model_name": "HTMLModel",
            "_view_count": null,
            "_view_module": "@jupyter-widgets/controls",
            "_view_module_version": "1.5.0",
            "_view_name": "HTMLView",
            "description": "",
            "description_tooltip": null,
            "layout": "IPY_MODEL_6c831fe11c854b639fc4a0e6ed439c79",
            "placeholder": "​",
            "style": "IPY_MODEL_c3a762e63fe84da693f281d3899f0c14",
            "value": " 232k/232k [00:00&lt;00:00, 811kB/s]"
          }
        },
        "43483fcf017e4ce6b2a46a171bef70bd": {
          "model_module": "@jupyter-widgets/base",
          "model_name": "LayoutModel",
          "model_module_version": "1.2.0",
          "state": {
            "_model_module": "@jupyter-widgets/base",
            "_model_module_version": "1.2.0",
            "_model_name": "LayoutModel",
            "_view_count": null,
            "_view_module": "@jupyter-widgets/base",
            "_view_module_version": "1.2.0",
            "_view_name": "LayoutView",
            "align_content": null,
            "align_items": null,
            "align_self": null,
            "border": null,
            "bottom": null,
            "display": null,
            "flex": null,
            "flex_flow": null,
            "grid_area": null,
            "grid_auto_columns": null,
            "grid_auto_flow": null,
            "grid_auto_rows": null,
            "grid_column": null,
            "grid_gap": null,
            "grid_row": null,
            "grid_template_areas": null,
            "grid_template_columns": null,
            "grid_template_rows": null,
            "height": null,
            "justify_content": null,
            "justify_items": null,
            "left": null,
            "margin": null,
            "max_height": null,
            "max_width": null,
            "min_height": null,
            "min_width": null,
            "object_fit": null,
            "object_position": null,
            "order": null,
            "overflow": null,
            "overflow_x": null,
            "overflow_y": null,
            "padding": null,
            "right": null,
            "top": null,
            "visibility": null,
            "width": null
          }
        },
        "decb3a65a89d4017a0584425df11141a": {
          "model_module": "@jupyter-widgets/base",
          "model_name": "LayoutModel",
          "model_module_version": "1.2.0",
          "state": {
            "_model_module": "@jupyter-widgets/base",
            "_model_module_version": "1.2.0",
            "_model_name": "LayoutModel",
            "_view_count": null,
            "_view_module": "@jupyter-widgets/base",
            "_view_module_version": "1.2.0",
            "_view_name": "LayoutView",
            "align_content": null,
            "align_items": null,
            "align_self": null,
            "border": null,
            "bottom": null,
            "display": null,
            "flex": null,
            "flex_flow": null,
            "grid_area": null,
            "grid_auto_columns": null,
            "grid_auto_flow": null,
            "grid_auto_rows": null,
            "grid_column": null,
            "grid_gap": null,
            "grid_row": null,
            "grid_template_areas": null,
            "grid_template_columns": null,
            "grid_template_rows": null,
            "height": null,
            "justify_content": null,
            "justify_items": null,
            "left": null,
            "margin": null,
            "max_height": null,
            "max_width": null,
            "min_height": null,
            "min_width": null,
            "object_fit": null,
            "object_position": null,
            "order": null,
            "overflow": null,
            "overflow_x": null,
            "overflow_y": null,
            "padding": null,
            "right": null,
            "top": null,
            "visibility": null,
            "width": null
          }
        },
        "3f1f93c351594fc79589e31ec79ce1c7": {
          "model_module": "@jupyter-widgets/controls",
          "model_name": "DescriptionStyleModel",
          "model_module_version": "1.5.0",
          "state": {
            "_model_module": "@jupyter-widgets/controls",
            "_model_module_version": "1.5.0",
            "_model_name": "DescriptionStyleModel",
            "_view_count": null,
            "_view_module": "@jupyter-widgets/base",
            "_view_module_version": "1.2.0",
            "_view_name": "StyleView",
            "description_width": ""
          }
        },
        "a620f910facd4afd810fb48c30873c7c": {
          "model_module": "@jupyter-widgets/base",
          "model_name": "LayoutModel",
          "model_module_version": "1.2.0",
          "state": {
            "_model_module": "@jupyter-widgets/base",
            "_model_module_version": "1.2.0",
            "_model_name": "LayoutModel",
            "_view_count": null,
            "_view_module": "@jupyter-widgets/base",
            "_view_module_version": "1.2.0",
            "_view_name": "LayoutView",
            "align_content": null,
            "align_items": null,
            "align_self": null,
            "border": null,
            "bottom": null,
            "display": null,
            "flex": null,
            "flex_flow": null,
            "grid_area": null,
            "grid_auto_columns": null,
            "grid_auto_flow": null,
            "grid_auto_rows": null,
            "grid_column": null,
            "grid_gap": null,
            "grid_row": null,
            "grid_template_areas": null,
            "grid_template_columns": null,
            "grid_template_rows": null,
            "height": null,
            "justify_content": null,
            "justify_items": null,
            "left": null,
            "margin": null,
            "max_height": null,
            "max_width": null,
            "min_height": null,
            "min_width": null,
            "object_fit": null,
            "object_position": null,
            "order": null,
            "overflow": null,
            "overflow_x": null,
            "overflow_y": null,
            "padding": null,
            "right": null,
            "top": null,
            "visibility": null,
            "width": null
          }
        },
        "7b24f446ea4943efb205c3e4b7938718": {
          "model_module": "@jupyter-widgets/controls",
          "model_name": "ProgressStyleModel",
          "model_module_version": "1.5.0",
          "state": {
            "_model_module": "@jupyter-widgets/controls",
            "_model_module_version": "1.5.0",
            "_model_name": "ProgressStyleModel",
            "_view_count": null,
            "_view_module": "@jupyter-widgets/base",
            "_view_module_version": "1.2.0",
            "_view_name": "StyleView",
            "bar_color": null,
            "description_width": ""
          }
        },
        "6c831fe11c854b639fc4a0e6ed439c79": {
          "model_module": "@jupyter-widgets/base",
          "model_name": "LayoutModel",
          "model_module_version": "1.2.0",
          "state": {
            "_model_module": "@jupyter-widgets/base",
            "_model_module_version": "1.2.0",
            "_model_name": "LayoutModel",
            "_view_count": null,
            "_view_module": "@jupyter-widgets/base",
            "_view_module_version": "1.2.0",
            "_view_name": "LayoutView",
            "align_content": null,
            "align_items": null,
            "align_self": null,
            "border": null,
            "bottom": null,
            "display": null,
            "flex": null,
            "flex_flow": null,
            "grid_area": null,
            "grid_auto_columns": null,
            "grid_auto_flow": null,
            "grid_auto_rows": null,
            "grid_column": null,
            "grid_gap": null,
            "grid_row": null,
            "grid_template_areas": null,
            "grid_template_columns": null,
            "grid_template_rows": null,
            "height": null,
            "justify_content": null,
            "justify_items": null,
            "left": null,
            "margin": null,
            "max_height": null,
            "max_width": null,
            "min_height": null,
            "min_width": null,
            "object_fit": null,
            "object_position": null,
            "order": null,
            "overflow": null,
            "overflow_x": null,
            "overflow_y": null,
            "padding": null,
            "right": null,
            "top": null,
            "visibility": null,
            "width": null
          }
        },
        "c3a762e63fe84da693f281d3899f0c14": {
          "model_module": "@jupyter-widgets/controls",
          "model_name": "DescriptionStyleModel",
          "model_module_version": "1.5.0",
          "state": {
            "_model_module": "@jupyter-widgets/controls",
            "_model_module_version": "1.5.0",
            "_model_name": "DescriptionStyleModel",
            "_view_count": null,
            "_view_module": "@jupyter-widgets/base",
            "_view_module_version": "1.2.0",
            "_view_name": "StyleView",
            "description_width": ""
          }
        },
        "4f970d5d35a0442784e71b2fc8310ff1": {
          "model_module": "@jupyter-widgets/controls",
          "model_name": "HBoxModel",
          "model_module_version": "1.5.0",
          "state": {
            "_dom_classes": [],
            "_model_module": "@jupyter-widgets/controls",
            "_model_module_version": "1.5.0",
            "_model_name": "HBoxModel",
            "_view_count": null,
            "_view_module": "@jupyter-widgets/controls",
            "_view_module_version": "1.5.0",
            "_view_name": "HBoxView",
            "box_style": "",
            "children": [
              "IPY_MODEL_53c5a6a7df2e4a18a9bde6f3d171162f",
              "IPY_MODEL_c8fea4a0921849a9b8cb631458ca3849",
              "IPY_MODEL_30f260ac7c5e4d35bb30249f7c814528"
            ],
            "layout": "IPY_MODEL_8778bf3779024c28a6b635b0042ad859"
          }
        },
        "53c5a6a7df2e4a18a9bde6f3d171162f": {
          "model_module": "@jupyter-widgets/controls",
          "model_name": "HTMLModel",
          "model_module_version": "1.5.0",
          "state": {
            "_dom_classes": [],
            "_model_module": "@jupyter-widgets/controls",
            "_model_module_version": "1.5.0",
            "_model_name": "HTMLModel",
            "_view_count": null,
            "_view_module": "@jupyter-widgets/controls",
            "_view_module_version": "1.5.0",
            "_view_name": "HTMLView",
            "description": "",
            "description_tooltip": null,
            "layout": "IPY_MODEL_3bba258785914387b907f474bcd5cd65",
            "placeholder": "​",
            "style": "IPY_MODEL_1f4ccbf3dfc84b358e3ea0ac95c16d37",
            "value": "Downloading (…)okenizer_config.json: 100%"
          }
        },
        "c8fea4a0921849a9b8cb631458ca3849": {
          "model_module": "@jupyter-widgets/controls",
          "model_name": "FloatProgressModel",
          "model_module_version": "1.5.0",
          "state": {
            "_dom_classes": [],
            "_model_module": "@jupyter-widgets/controls",
            "_model_module_version": "1.5.0",
            "_model_name": "FloatProgressModel",
            "_view_count": null,
            "_view_module": "@jupyter-widgets/controls",
            "_view_module_version": "1.5.0",
            "_view_name": "ProgressView",
            "bar_style": "success",
            "description": "",
            "description_tooltip": null,
            "layout": "IPY_MODEL_cdd91c253d1f4b5f872ca73add0574a8",
            "max": 160,
            "min": 0,
            "orientation": "horizontal",
            "style": "IPY_MODEL_abab2d10fe734adfb71180eafb700daf",
            "value": 160
          }
        },
        "30f260ac7c5e4d35bb30249f7c814528": {
          "model_module": "@jupyter-widgets/controls",
          "model_name": "HTMLModel",
          "model_module_version": "1.5.0",
          "state": {
            "_dom_classes": [],
            "_model_module": "@jupyter-widgets/controls",
            "_model_module_version": "1.5.0",
            "_model_name": "HTMLModel",
            "_view_count": null,
            "_view_module": "@jupyter-widgets/controls",
            "_view_module_version": "1.5.0",
            "_view_name": "HTMLView",
            "description": "",
            "description_tooltip": null,
            "layout": "IPY_MODEL_ead1868470554c0299fabda9b8716c7b",
            "placeholder": "​",
            "style": "IPY_MODEL_38c743cb282a434ab2733e35d8d4ac3d",
            "value": " 160/160 [00:00&lt;00:00, 4.95kB/s]"
          }
        },
        "8778bf3779024c28a6b635b0042ad859": {
          "model_module": "@jupyter-widgets/base",
          "model_name": "LayoutModel",
          "model_module_version": "1.2.0",
          "state": {
            "_model_module": "@jupyter-widgets/base",
            "_model_module_version": "1.2.0",
            "_model_name": "LayoutModel",
            "_view_count": null,
            "_view_module": "@jupyter-widgets/base",
            "_view_module_version": "1.2.0",
            "_view_name": "LayoutView",
            "align_content": null,
            "align_items": null,
            "align_self": null,
            "border": null,
            "bottom": null,
            "display": null,
            "flex": null,
            "flex_flow": null,
            "grid_area": null,
            "grid_auto_columns": null,
            "grid_auto_flow": null,
            "grid_auto_rows": null,
            "grid_column": null,
            "grid_gap": null,
            "grid_row": null,
            "grid_template_areas": null,
            "grid_template_columns": null,
            "grid_template_rows": null,
            "height": null,
            "justify_content": null,
            "justify_items": null,
            "left": null,
            "margin": null,
            "max_height": null,
            "max_width": null,
            "min_height": null,
            "min_width": null,
            "object_fit": null,
            "object_position": null,
            "order": null,
            "overflow": null,
            "overflow_x": null,
            "overflow_y": null,
            "padding": null,
            "right": null,
            "top": null,
            "visibility": null,
            "width": null
          }
        },
        "3bba258785914387b907f474bcd5cd65": {
          "model_module": "@jupyter-widgets/base",
          "model_name": "LayoutModel",
          "model_module_version": "1.2.0",
          "state": {
            "_model_module": "@jupyter-widgets/base",
            "_model_module_version": "1.2.0",
            "_model_name": "LayoutModel",
            "_view_count": null,
            "_view_module": "@jupyter-widgets/base",
            "_view_module_version": "1.2.0",
            "_view_name": "LayoutView",
            "align_content": null,
            "align_items": null,
            "align_self": null,
            "border": null,
            "bottom": null,
            "display": null,
            "flex": null,
            "flex_flow": null,
            "grid_area": null,
            "grid_auto_columns": null,
            "grid_auto_flow": null,
            "grid_auto_rows": null,
            "grid_column": null,
            "grid_gap": null,
            "grid_row": null,
            "grid_template_areas": null,
            "grid_template_columns": null,
            "grid_template_rows": null,
            "height": null,
            "justify_content": null,
            "justify_items": null,
            "left": null,
            "margin": null,
            "max_height": null,
            "max_width": null,
            "min_height": null,
            "min_width": null,
            "object_fit": null,
            "object_position": null,
            "order": null,
            "overflow": null,
            "overflow_x": null,
            "overflow_y": null,
            "padding": null,
            "right": null,
            "top": null,
            "visibility": null,
            "width": null
          }
        },
        "1f4ccbf3dfc84b358e3ea0ac95c16d37": {
          "model_module": "@jupyter-widgets/controls",
          "model_name": "DescriptionStyleModel",
          "model_module_version": "1.5.0",
          "state": {
            "_model_module": "@jupyter-widgets/controls",
            "_model_module_version": "1.5.0",
            "_model_name": "DescriptionStyleModel",
            "_view_count": null,
            "_view_module": "@jupyter-widgets/base",
            "_view_module_version": "1.2.0",
            "_view_name": "StyleView",
            "description_width": ""
          }
        },
        "cdd91c253d1f4b5f872ca73add0574a8": {
          "model_module": "@jupyter-widgets/base",
          "model_name": "LayoutModel",
          "model_module_version": "1.2.0",
          "state": {
            "_model_module": "@jupyter-widgets/base",
            "_model_module_version": "1.2.0",
            "_model_name": "LayoutModel",
            "_view_count": null,
            "_view_module": "@jupyter-widgets/base",
            "_view_module_version": "1.2.0",
            "_view_name": "LayoutView",
            "align_content": null,
            "align_items": null,
            "align_self": null,
            "border": null,
            "bottom": null,
            "display": null,
            "flex": null,
            "flex_flow": null,
            "grid_area": null,
            "grid_auto_columns": null,
            "grid_auto_flow": null,
            "grid_auto_rows": null,
            "grid_column": null,
            "grid_gap": null,
            "grid_row": null,
            "grid_template_areas": null,
            "grid_template_columns": null,
            "grid_template_rows": null,
            "height": null,
            "justify_content": null,
            "justify_items": null,
            "left": null,
            "margin": null,
            "max_height": null,
            "max_width": null,
            "min_height": null,
            "min_width": null,
            "object_fit": null,
            "object_position": null,
            "order": null,
            "overflow": null,
            "overflow_x": null,
            "overflow_y": null,
            "padding": null,
            "right": null,
            "top": null,
            "visibility": null,
            "width": null
          }
        },
        "abab2d10fe734adfb71180eafb700daf": {
          "model_module": "@jupyter-widgets/controls",
          "model_name": "ProgressStyleModel",
          "model_module_version": "1.5.0",
          "state": {
            "_model_module": "@jupyter-widgets/controls",
            "_model_module_version": "1.5.0",
            "_model_name": "ProgressStyleModel",
            "_view_count": null,
            "_view_module": "@jupyter-widgets/base",
            "_view_module_version": "1.2.0",
            "_view_name": "StyleView",
            "bar_color": null,
            "description_width": ""
          }
        },
        "ead1868470554c0299fabda9b8716c7b": {
          "model_module": "@jupyter-widgets/base",
          "model_name": "LayoutModel",
          "model_module_version": "1.2.0",
          "state": {
            "_model_module": "@jupyter-widgets/base",
            "_model_module_version": "1.2.0",
            "_model_name": "LayoutModel",
            "_view_count": null,
            "_view_module": "@jupyter-widgets/base",
            "_view_module_version": "1.2.0",
            "_view_name": "LayoutView",
            "align_content": null,
            "align_items": null,
            "align_self": null,
            "border": null,
            "bottom": null,
            "display": null,
            "flex": null,
            "flex_flow": null,
            "grid_area": null,
            "grid_auto_columns": null,
            "grid_auto_flow": null,
            "grid_auto_rows": null,
            "grid_column": null,
            "grid_gap": null,
            "grid_row": null,
            "grid_template_areas": null,
            "grid_template_columns": null,
            "grid_template_rows": null,
            "height": null,
            "justify_content": null,
            "justify_items": null,
            "left": null,
            "margin": null,
            "max_height": null,
            "max_width": null,
            "min_height": null,
            "min_width": null,
            "object_fit": null,
            "object_position": null,
            "order": null,
            "overflow": null,
            "overflow_x": null,
            "overflow_y": null,
            "padding": null,
            "right": null,
            "top": null,
            "visibility": null,
            "width": null
          }
        },
        "38c743cb282a434ab2733e35d8d4ac3d": {
          "model_module": "@jupyter-widgets/controls",
          "model_name": "DescriptionStyleModel",
          "model_module_version": "1.5.0",
          "state": {
            "_model_module": "@jupyter-widgets/controls",
            "_model_module_version": "1.5.0",
            "_model_name": "DescriptionStyleModel",
            "_view_count": null,
            "_view_module": "@jupyter-widgets/base",
            "_view_module_version": "1.2.0",
            "_view_name": "StyleView",
            "description_width": ""
          }
        },
        "3edb072b55004bd1863d076ecf986f63": {
          "model_module": "@jupyter-widgets/controls",
          "model_name": "HBoxModel",
          "model_module_version": "1.5.0",
          "state": {
            "_dom_classes": [],
            "_model_module": "@jupyter-widgets/controls",
            "_model_module_version": "1.5.0",
            "_model_name": "HBoxModel",
            "_view_count": null,
            "_view_module": "@jupyter-widgets/controls",
            "_view_module_version": "1.5.0",
            "_view_name": "HBoxView",
            "box_style": "",
            "children": [
              "IPY_MODEL_c2687a9c6d384b38a32f4bacb90b4015",
              "IPY_MODEL_1386e942055448bda0de822ceb025f96",
              "IPY_MODEL_ff070725a4434db2b00cb1cf765f7d82"
            ],
            "layout": "IPY_MODEL_79639e21ba294c37819dba39d3ae853c"
          }
        },
        "c2687a9c6d384b38a32f4bacb90b4015": {
          "model_module": "@jupyter-widgets/controls",
          "model_name": "HTMLModel",
          "model_module_version": "1.5.0",
          "state": {
            "_dom_classes": [],
            "_model_module": "@jupyter-widgets/controls",
            "_model_module_version": "1.5.0",
            "_model_name": "HTMLModel",
            "_view_count": null,
            "_view_module": "@jupyter-widgets/controls",
            "_view_module_version": "1.5.0",
            "_view_name": "HTMLView",
            "description": "",
            "description_tooltip": null,
            "layout": "IPY_MODEL_d7d77ab433774c1fb72047534539e532",
            "placeholder": "​",
            "style": "IPY_MODEL_257399c2df2d4c3dafdc0b8233461be7",
            "value": "Downloading (…)lve/main/config.json: 100%"
          }
        },
        "1386e942055448bda0de822ceb025f96": {
          "model_module": "@jupyter-widgets/controls",
          "model_name": "FloatProgressModel",
          "model_module_version": "1.5.0",
          "state": {
            "_dom_classes": [],
            "_model_module": "@jupyter-widgets/controls",
            "_model_module_version": "1.5.0",
            "_model_name": "FloatProgressModel",
            "_view_count": null,
            "_view_module": "@jupyter-widgets/controls",
            "_view_module_version": "1.5.0",
            "_view_name": "ProgressView",
            "bar_style": "success",
            "description": "",
            "description_tooltip": null,
            "layout": "IPY_MODEL_faa17654a8524d20ae5e61ccfc61e7fd",
            "max": 833,
            "min": 0,
            "orientation": "horizontal",
            "style": "IPY_MODEL_90ea909e125a49f6a60946385f8f3e80",
            "value": 833
          }
        },
        "ff070725a4434db2b00cb1cf765f7d82": {
          "model_module": "@jupyter-widgets/controls",
          "model_name": "HTMLModel",
          "model_module_version": "1.5.0",
          "state": {
            "_dom_classes": [],
            "_model_module": "@jupyter-widgets/controls",
            "_model_module_version": "1.5.0",
            "_model_name": "HTMLModel",
            "_view_count": null,
            "_view_module": "@jupyter-widgets/controls",
            "_view_module_version": "1.5.0",
            "_view_name": "HTMLView",
            "description": "",
            "description_tooltip": null,
            "layout": "IPY_MODEL_ea288d02d152489cab152579fe1b8d3d",
            "placeholder": "​",
            "style": "IPY_MODEL_cddf928e92ab48bfa410a6c2988c1449",
            "value": " 833/833 [00:00&lt;00:00, 22.6kB/s]"
          }
        },
        "79639e21ba294c37819dba39d3ae853c": {
          "model_module": "@jupyter-widgets/base",
          "model_name": "LayoutModel",
          "model_module_version": "1.2.0",
          "state": {
            "_model_module": "@jupyter-widgets/base",
            "_model_module_version": "1.2.0",
            "_model_name": "LayoutModel",
            "_view_count": null,
            "_view_module": "@jupyter-widgets/base",
            "_view_module_version": "1.2.0",
            "_view_name": "LayoutView",
            "align_content": null,
            "align_items": null,
            "align_self": null,
            "border": null,
            "bottom": null,
            "display": null,
            "flex": null,
            "flex_flow": null,
            "grid_area": null,
            "grid_auto_columns": null,
            "grid_auto_flow": null,
            "grid_auto_rows": null,
            "grid_column": null,
            "grid_gap": null,
            "grid_row": null,
            "grid_template_areas": null,
            "grid_template_columns": null,
            "grid_template_rows": null,
            "height": null,
            "justify_content": null,
            "justify_items": null,
            "left": null,
            "margin": null,
            "max_height": null,
            "max_width": null,
            "min_height": null,
            "min_width": null,
            "object_fit": null,
            "object_position": null,
            "order": null,
            "overflow": null,
            "overflow_x": null,
            "overflow_y": null,
            "padding": null,
            "right": null,
            "top": null,
            "visibility": null,
            "width": null
          }
        },
        "d7d77ab433774c1fb72047534539e532": {
          "model_module": "@jupyter-widgets/base",
          "model_name": "LayoutModel",
          "model_module_version": "1.2.0",
          "state": {
            "_model_module": "@jupyter-widgets/base",
            "_model_module_version": "1.2.0",
            "_model_name": "LayoutModel",
            "_view_count": null,
            "_view_module": "@jupyter-widgets/base",
            "_view_module_version": "1.2.0",
            "_view_name": "LayoutView",
            "align_content": null,
            "align_items": null,
            "align_self": null,
            "border": null,
            "bottom": null,
            "display": null,
            "flex": null,
            "flex_flow": null,
            "grid_area": null,
            "grid_auto_columns": null,
            "grid_auto_flow": null,
            "grid_auto_rows": null,
            "grid_column": null,
            "grid_gap": null,
            "grid_row": null,
            "grid_template_areas": null,
            "grid_template_columns": null,
            "grid_template_rows": null,
            "height": null,
            "justify_content": null,
            "justify_items": null,
            "left": null,
            "margin": null,
            "max_height": null,
            "max_width": null,
            "min_height": null,
            "min_width": null,
            "object_fit": null,
            "object_position": null,
            "order": null,
            "overflow": null,
            "overflow_x": null,
            "overflow_y": null,
            "padding": null,
            "right": null,
            "top": null,
            "visibility": null,
            "width": null
          }
        },
        "257399c2df2d4c3dafdc0b8233461be7": {
          "model_module": "@jupyter-widgets/controls",
          "model_name": "DescriptionStyleModel",
          "model_module_version": "1.5.0",
          "state": {
            "_model_module": "@jupyter-widgets/controls",
            "_model_module_version": "1.5.0",
            "_model_name": "DescriptionStyleModel",
            "_view_count": null,
            "_view_module": "@jupyter-widgets/base",
            "_view_module_version": "1.2.0",
            "_view_name": "StyleView",
            "description_width": ""
          }
        },
        "faa17654a8524d20ae5e61ccfc61e7fd": {
          "model_module": "@jupyter-widgets/base",
          "model_name": "LayoutModel",
          "model_module_version": "1.2.0",
          "state": {
            "_model_module": "@jupyter-widgets/base",
            "_model_module_version": "1.2.0",
            "_model_name": "LayoutModel",
            "_view_count": null,
            "_view_module": "@jupyter-widgets/base",
            "_view_module_version": "1.2.0",
            "_view_name": "LayoutView",
            "align_content": null,
            "align_items": null,
            "align_self": null,
            "border": null,
            "bottom": null,
            "display": null,
            "flex": null,
            "flex_flow": null,
            "grid_area": null,
            "grid_auto_columns": null,
            "grid_auto_flow": null,
            "grid_auto_rows": null,
            "grid_column": null,
            "grid_gap": null,
            "grid_row": null,
            "grid_template_areas": null,
            "grid_template_columns": null,
            "grid_template_rows": null,
            "height": null,
            "justify_content": null,
            "justify_items": null,
            "left": null,
            "margin": null,
            "max_height": null,
            "max_width": null,
            "min_height": null,
            "min_width": null,
            "object_fit": null,
            "object_position": null,
            "order": null,
            "overflow": null,
            "overflow_x": null,
            "overflow_y": null,
            "padding": null,
            "right": null,
            "top": null,
            "visibility": null,
            "width": null
          }
        },
        "90ea909e125a49f6a60946385f8f3e80": {
          "model_module": "@jupyter-widgets/controls",
          "model_name": "ProgressStyleModel",
          "model_module_version": "1.5.0",
          "state": {
            "_model_module": "@jupyter-widgets/controls",
            "_model_module_version": "1.5.0",
            "_model_name": "ProgressStyleModel",
            "_view_count": null,
            "_view_module": "@jupyter-widgets/base",
            "_view_module_version": "1.2.0",
            "_view_name": "StyleView",
            "bar_color": null,
            "description_width": ""
          }
        },
        "ea288d02d152489cab152579fe1b8d3d": {
          "model_module": "@jupyter-widgets/base",
          "model_name": "LayoutModel",
          "model_module_version": "1.2.0",
          "state": {
            "_model_module": "@jupyter-widgets/base",
            "_model_module_version": "1.2.0",
            "_model_name": "LayoutModel",
            "_view_count": null,
            "_view_module": "@jupyter-widgets/base",
            "_view_module_version": "1.2.0",
            "_view_name": "LayoutView",
            "align_content": null,
            "align_items": null,
            "align_self": null,
            "border": null,
            "bottom": null,
            "display": null,
            "flex": null,
            "flex_flow": null,
            "grid_area": null,
            "grid_auto_columns": null,
            "grid_auto_flow": null,
            "grid_auto_rows": null,
            "grid_column": null,
            "grid_gap": null,
            "grid_row": null,
            "grid_template_areas": null,
            "grid_template_columns": null,
            "grid_template_rows": null,
            "height": null,
            "justify_content": null,
            "justify_items": null,
            "left": null,
            "margin": null,
            "max_height": null,
            "max_width": null,
            "min_height": null,
            "min_width": null,
            "object_fit": null,
            "object_position": null,
            "order": null,
            "overflow": null,
            "overflow_x": null,
            "overflow_y": null,
            "padding": null,
            "right": null,
            "top": null,
            "visibility": null,
            "width": null
          }
        },
        "cddf928e92ab48bfa410a6c2988c1449": {
          "model_module": "@jupyter-widgets/controls",
          "model_name": "DescriptionStyleModel",
          "model_module_version": "1.5.0",
          "state": {
            "_model_module": "@jupyter-widgets/controls",
            "_model_module_version": "1.5.0",
            "_model_name": "DescriptionStyleModel",
            "_view_count": null,
            "_view_module": "@jupyter-widgets/base",
            "_view_module_version": "1.2.0",
            "_view_name": "StyleView",
            "description_width": ""
          }
        },
        "a0e1f7c17eca4f29b1afe9a86e01b4df": {
          "model_module": "@jupyter-widgets/controls",
          "model_name": "HBoxModel",
          "model_module_version": "1.5.0",
          "state": {
            "_dom_classes": [],
            "_model_module": "@jupyter-widgets/controls",
            "_model_module_version": "1.5.0",
            "_model_name": "HBoxModel",
            "_view_count": null,
            "_view_module": "@jupyter-widgets/controls",
            "_view_module_version": "1.5.0",
            "_view_name": "HBoxView",
            "box_style": "",
            "children": [
              "IPY_MODEL_358127796db242f88647afd568787445",
              "IPY_MODEL_fd6a3ea4e0364e59a7b1278b561f8e7e",
              "IPY_MODEL_742f164fd776493bb19e4e3ffc8d4722"
            ],
            "layout": "IPY_MODEL_97777b34bcaa45149b1449b5fb35622e"
          }
        },
        "358127796db242f88647afd568787445": {
          "model_module": "@jupyter-widgets/controls",
          "model_name": "HTMLModel",
          "model_module_version": "1.5.0",
          "state": {
            "_dom_classes": [],
            "_model_module": "@jupyter-widgets/controls",
            "_model_module_version": "1.5.0",
            "_model_name": "HTMLModel",
            "_view_count": null,
            "_view_module": "@jupyter-widgets/controls",
            "_view_module_version": "1.5.0",
            "_view_name": "HTMLView",
            "description": "",
            "description_tooltip": null,
            "layout": "IPY_MODEL_d41ae0477ea0414b8a641f652a44cde9",
            "placeholder": "​",
            "style": "IPY_MODEL_c7c4ed68e63e4ae7bf2103f09f800abe",
            "value": "Downloading pytorch_model.bin: 100%"
          }
        },
        "fd6a3ea4e0364e59a7b1278b561f8e7e": {
          "model_module": "@jupyter-widgets/controls",
          "model_name": "FloatProgressModel",
          "model_module_version": "1.5.0",
          "state": {
            "_dom_classes": [],
            "_model_module": "@jupyter-widgets/controls",
            "_model_module_version": "1.5.0",
            "_model_name": "FloatProgressModel",
            "_view_count": null,
            "_view_module": "@jupyter-widgets/controls",
            "_view_module_version": "1.5.0",
            "_view_name": "ProgressView",
            "bar_style": "success",
            "description": "",
            "description_tooltip": null,
            "layout": "IPY_MODEL_89b429174c614441a7899d166e5f19d4",
            "max": 438019245,
            "min": 0,
            "orientation": "horizontal",
            "style": "IPY_MODEL_993e39db224e4cbdbe962d8f6c64f13e",
            "value": 438019245
          }
        },
        "742f164fd776493bb19e4e3ffc8d4722": {
          "model_module": "@jupyter-widgets/controls",
          "model_name": "HTMLModel",
          "model_module_version": "1.5.0",
          "state": {
            "_dom_classes": [],
            "_model_module": "@jupyter-widgets/controls",
            "_model_module_version": "1.5.0",
            "_model_name": "HTMLModel",
            "_view_count": null,
            "_view_module": "@jupyter-widgets/controls",
            "_view_module_version": "1.5.0",
            "_view_name": "HTMLView",
            "description": "",
            "description_tooltip": null,
            "layout": "IPY_MODEL_e8a0537c129d4a8bb566678eb9d9062e",
            "placeholder": "​",
            "style": "IPY_MODEL_40a4290652fb453b9632c363639d9d0c",
            "value": " 438M/438M [00:07&lt;00:00, 60.7MB/s]"
          }
        },
        "97777b34bcaa45149b1449b5fb35622e": {
          "model_module": "@jupyter-widgets/base",
          "model_name": "LayoutModel",
          "model_module_version": "1.2.0",
          "state": {
            "_model_module": "@jupyter-widgets/base",
            "_model_module_version": "1.2.0",
            "_model_name": "LayoutModel",
            "_view_count": null,
            "_view_module": "@jupyter-widgets/base",
            "_view_module_version": "1.2.0",
            "_view_name": "LayoutView",
            "align_content": null,
            "align_items": null,
            "align_self": null,
            "border": null,
            "bottom": null,
            "display": null,
            "flex": null,
            "flex_flow": null,
            "grid_area": null,
            "grid_auto_columns": null,
            "grid_auto_flow": null,
            "grid_auto_rows": null,
            "grid_column": null,
            "grid_gap": null,
            "grid_row": null,
            "grid_template_areas": null,
            "grid_template_columns": null,
            "grid_template_rows": null,
            "height": null,
            "justify_content": null,
            "justify_items": null,
            "left": null,
            "margin": null,
            "max_height": null,
            "max_width": null,
            "min_height": null,
            "min_width": null,
            "object_fit": null,
            "object_position": null,
            "order": null,
            "overflow": null,
            "overflow_x": null,
            "overflow_y": null,
            "padding": null,
            "right": null,
            "top": null,
            "visibility": null,
            "width": null
          }
        },
        "d41ae0477ea0414b8a641f652a44cde9": {
          "model_module": "@jupyter-widgets/base",
          "model_name": "LayoutModel",
          "model_module_version": "1.2.0",
          "state": {
            "_model_module": "@jupyter-widgets/base",
            "_model_module_version": "1.2.0",
            "_model_name": "LayoutModel",
            "_view_count": null,
            "_view_module": "@jupyter-widgets/base",
            "_view_module_version": "1.2.0",
            "_view_name": "LayoutView",
            "align_content": null,
            "align_items": null,
            "align_self": null,
            "border": null,
            "bottom": null,
            "display": null,
            "flex": null,
            "flex_flow": null,
            "grid_area": null,
            "grid_auto_columns": null,
            "grid_auto_flow": null,
            "grid_auto_rows": null,
            "grid_column": null,
            "grid_gap": null,
            "grid_row": null,
            "grid_template_areas": null,
            "grid_template_columns": null,
            "grid_template_rows": null,
            "height": null,
            "justify_content": null,
            "justify_items": null,
            "left": null,
            "margin": null,
            "max_height": null,
            "max_width": null,
            "min_height": null,
            "min_width": null,
            "object_fit": null,
            "object_position": null,
            "order": null,
            "overflow": null,
            "overflow_x": null,
            "overflow_y": null,
            "padding": null,
            "right": null,
            "top": null,
            "visibility": null,
            "width": null
          }
        },
        "c7c4ed68e63e4ae7bf2103f09f800abe": {
          "model_module": "@jupyter-widgets/controls",
          "model_name": "DescriptionStyleModel",
          "model_module_version": "1.5.0",
          "state": {
            "_model_module": "@jupyter-widgets/controls",
            "_model_module_version": "1.5.0",
            "_model_name": "DescriptionStyleModel",
            "_view_count": null,
            "_view_module": "@jupyter-widgets/base",
            "_view_module_version": "1.2.0",
            "_view_name": "StyleView",
            "description_width": ""
          }
        },
        "89b429174c614441a7899d166e5f19d4": {
          "model_module": "@jupyter-widgets/base",
          "model_name": "LayoutModel",
          "model_module_version": "1.2.0",
          "state": {
            "_model_module": "@jupyter-widgets/base",
            "_model_module_version": "1.2.0",
            "_model_name": "LayoutModel",
            "_view_count": null,
            "_view_module": "@jupyter-widgets/base",
            "_view_module_version": "1.2.0",
            "_view_name": "LayoutView",
            "align_content": null,
            "align_items": null,
            "align_self": null,
            "border": null,
            "bottom": null,
            "display": null,
            "flex": null,
            "flex_flow": null,
            "grid_area": null,
            "grid_auto_columns": null,
            "grid_auto_flow": null,
            "grid_auto_rows": null,
            "grid_column": null,
            "grid_gap": null,
            "grid_row": null,
            "grid_template_areas": null,
            "grid_template_columns": null,
            "grid_template_rows": null,
            "height": null,
            "justify_content": null,
            "justify_items": null,
            "left": null,
            "margin": null,
            "max_height": null,
            "max_width": null,
            "min_height": null,
            "min_width": null,
            "object_fit": null,
            "object_position": null,
            "order": null,
            "overflow": null,
            "overflow_x": null,
            "overflow_y": null,
            "padding": null,
            "right": null,
            "top": null,
            "visibility": null,
            "width": null
          }
        },
        "993e39db224e4cbdbe962d8f6c64f13e": {
          "model_module": "@jupyter-widgets/controls",
          "model_name": "ProgressStyleModel",
          "model_module_version": "1.5.0",
          "state": {
            "_model_module": "@jupyter-widgets/controls",
            "_model_module_version": "1.5.0",
            "_model_name": "ProgressStyleModel",
            "_view_count": null,
            "_view_module": "@jupyter-widgets/base",
            "_view_module_version": "1.2.0",
            "_view_name": "StyleView",
            "bar_color": null,
            "description_width": ""
          }
        },
        "e8a0537c129d4a8bb566678eb9d9062e": {
          "model_module": "@jupyter-widgets/base",
          "model_name": "LayoutModel",
          "model_module_version": "1.2.0",
          "state": {
            "_model_module": "@jupyter-widgets/base",
            "_model_module_version": "1.2.0",
            "_model_name": "LayoutModel",
            "_view_count": null,
            "_view_module": "@jupyter-widgets/base",
            "_view_module_version": "1.2.0",
            "_view_name": "LayoutView",
            "align_content": null,
            "align_items": null,
            "align_self": null,
            "border": null,
            "bottom": null,
            "display": null,
            "flex": null,
            "flex_flow": null,
            "grid_area": null,
            "grid_auto_columns": null,
            "grid_auto_flow": null,
            "grid_auto_rows": null,
            "grid_column": null,
            "grid_gap": null,
            "grid_row": null,
            "grid_template_areas": null,
            "grid_template_columns": null,
            "grid_template_rows": null,
            "height": null,
            "justify_content": null,
            "justify_items": null,
            "left": null,
            "margin": null,
            "max_height": null,
            "max_width": null,
            "min_height": null,
            "min_width": null,
            "object_fit": null,
            "object_position": null,
            "order": null,
            "overflow": null,
            "overflow_x": null,
            "overflow_y": null,
            "padding": null,
            "right": null,
            "top": null,
            "visibility": null,
            "width": null
          }
        },
        "40a4290652fb453b9632c363639d9d0c": {
          "model_module": "@jupyter-widgets/controls",
          "model_name": "DescriptionStyleModel",
          "model_module_version": "1.5.0",
          "state": {
            "_model_module": "@jupyter-widgets/controls",
            "_model_module_version": "1.5.0",
            "_model_name": "DescriptionStyleModel",
            "_view_count": null,
            "_view_module": "@jupyter-widgets/base",
            "_view_module_version": "1.2.0",
            "_view_name": "StyleView",
            "description_width": ""
          }
        }
      }
    }
  },
  "nbformat": 4,
  "nbformat_minor": 5
}