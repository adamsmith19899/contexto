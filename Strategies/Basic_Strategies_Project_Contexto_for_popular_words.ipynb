{
  "cells": [
    {
      "cell_type": "markdown",
      "id": "a3bdae8a",
      "metadata": {
        "id": "a3bdae8a"
      },
      "source": [
        "# Project. Contexto for popular words. Basic strategies\n",
        "\n",
        "Prepared by Grigoriy Kryukov"
      ]
    },
    {
      "cell_type": "code",
      "execution_count": null,
      "id": "dfe3f311",
      "metadata": {
        "id": "dfe3f311"
      },
      "outputs": [],
      "source": [
        "import numpy as np\n",
        "import pandas as pd\n",
        "from gensim.test.utils import common_texts\n",
        "from gensim.models import Word2Vec\n",
        "import gensim.downloader\n",
        "from nltk import pos_tag\n",
        "from nltk.corpus import wordnet as wn\n",
        "from time import sleep\n",
        "from tqdm import tqdm\n",
        "import matplotlib.pyplot as plt"
      ]
    },
    {
      "cell_type": "code",
      "execution_count": null,
      "id": "6531842c",
      "metadata": {
        "id": "6531842c"
      },
      "outputs": [],
      "source": [
        "# model\n",
        "model = gensim.downloader.load('glove-wiki-gigaword-100')"
      ]
    },
    {
      "cell_type": "markdown",
      "id": "786fd5c7",
      "metadata": {
        "id": "786fd5c7"
      },
      "source": [
        "## Building a game\n",
        "\n",
        "Anwar Ibrahim helped to select the most popular nouns in English.\n",
        "\n",
        "We will create a game in which only these 1522 words will be used.\n",
        "\n",
        "The purpose of this laptop is to analyze the game and strategies, and not to make a user-friendly interface. Therefore, we will assume that all 1522 words are numbered and the game takes place by entering a number."
      ]
    },
    {
      "cell_type": "code",
      "execution_count": null,
      "id": "021666c6",
      "metadata": {
        "id": "021666c6",
        "outputId": "c9c7538c-13b0-4fd2-8560-8196eadd2930"
      },
      "outputs": [
        {
          "data": {
            "text/plain": [
              "1522"
            ]
          },
          "execution_count": 3,
          "metadata": {},
          "output_type": "execute_result"
        }
      ],
      "source": [
        "f = open(\"nouns.txt\")\n",
        "lines = f.readlines()\n",
        "f.close()\n",
        "nouns = [line[:-1] for line in lines]\n",
        "N = len(nouns)\n",
        "nouns[N-1] = 'history'\n",
        "\n",
        "N"
      ]
    },
    {
      "cell_type": "markdown",
      "id": "cf493a18",
      "metadata": {
        "id": "cf493a18"
      },
      "source": [
        "Let's construct the sim matrix so that $sim[i][j]$ will show the cosine distance between words with numbers i and j."
      ]
    },
    {
      "cell_type": "code",
      "execution_count": null,
      "id": "c0cb5d23",
      "metadata": {
        "id": "c0cb5d23",
        "outputId": "340aec59-91ae-4c8a-a8ab-2fa6ed7ea5d4"
      },
      "outputs": [
        {
          "name": "stderr",
          "output_type": "stream",
          "text": [
            "100%|██████████| 1522/1522 [00:34<00:00, 44.41it/s]\n"
          ]
        },
        {
          "data": {
            "text/plain": [
              "array([[ 1.        , -0.12505347,  0.38884488, ...,  0.05184943,\n",
              "         0.21734823,  0.12177172],\n",
              "       [-0.12505347,  1.        ,  0.2068052 , ...,  0.29121757,\n",
              "         0.37107006,  0.29006228],\n",
              "       [ 0.38884488,  0.2068052 ,  1.        , ...,  0.33986238,\n",
              "         0.39261425,  0.54904616],\n",
              "       ...,\n",
              "       [ 0.05184943,  0.29121757,  0.33986238, ...,  0.99999994,\n",
              "         0.44234431,  0.36657053],\n",
              "       [ 0.21734823,  0.37107006,  0.39261425, ...,  0.44234431,\n",
              "         1.        ,  0.33748925],\n",
              "       [ 0.12177172,  0.29006228,  0.54904616, ...,  0.36657053,\n",
              "         0.33748925,  1.        ]])"
            ]
          },
          "execution_count": 4,
          "metadata": {},
          "output_type": "execute_result"
        }
      ],
      "source": [
        "N = len(nouns)\n",
        "sim = np.zeros((N, N))\n",
        "for i in tqdm(range(N)):\n",
        "    for j in range(N):\n",
        "        sim[i][j] = model.similarity(nouns[i], nouns[j])\n",
        "\n",
        "sim"
      ]
    },
    {
      "cell_type": "code",
      "execution_count": null,
      "id": "8913baca",
      "metadata": {
        "id": "8913baca",
        "outputId": "11f78925-5dc3-4aa0-9bf9-6d54a2a97114"
      },
      "outputs": [
        {
          "data": {
            "text/plain": [
              "array([   0,  123, 1008, ...,  446,  445, 1298], dtype=int64)"
            ]
          },
          "execution_count": 5,
          "metadata": {},
          "output_type": "execute_result"
        }
      ],
      "source": [
        "# argsort in descending order\n",
        "np.argsort(sim[0])[::-1]"
      ]
    },
    {
      "cell_type": "code",
      "execution_count": null,
      "id": "2b58dd99",
      "metadata": {
        "id": "2b58dd99",
        "outputId": "2d81651e-6516-4bfa-cae2-bfa5bf855dd8"
      },
      "outputs": [
        {
          "data": {
            "text/plain": [
              "array([   0, 1517,  109, ..., 1328,  609, 1061], dtype=int64)"
            ]
          },
          "execution_count": 6,
          "metadata": {},
          "output_type": "execute_result"
        }
      ],
      "source": [
        "np.argsort(np.argsort(sim[0])[::-1])"
      ]
    },
    {
      "cell_type": "markdown",
      "id": "c4b7e4ca",
      "metadata": {
        "id": "c4b7e4ca"
      },
      "source": [
        "For each word i, we can rank all the words from the closest (0, the word itself) to the farthest (1521). Let $game_rank[i][j]$ be the rank of the word $j$ in the rating for the word $i$."
      ]
    },
    {
      "cell_type": "code",
      "execution_count": null,
      "id": "781e3efb",
      "metadata": {
        "id": "781e3efb",
        "outputId": "cc814b78-3cf3-40cf-d878-fdba2c4cbbe7"
      },
      "outputs": [
        {
          "name": "stderr",
          "output_type": "stream",
          "text": [
            "100%|██████████| 1522/1522 [00:00<00:00, 6057.49it/s]\n"
          ]
        }
      ],
      "source": [
        "game_rank = np.zeros((N, N))\n",
        "for i in tqdm(range(N)):\n",
        "    game_rank[i] = np.argsort(np.argsort(sim[i])[::-1])"
      ]
    },
    {
      "cell_type": "code",
      "execution_count": null,
      "id": "30594d26",
      "metadata": {
        "id": "30594d26",
        "outputId": "55e02a2c-00a0-4183-b2b2-b398bd7468a1"
      },
      "outputs": [
        {
          "data": {
            "text/plain": [
              "array([[   0., 1517.,  109., ..., 1328.,  609., 1061.],\n",
              "       [1519.,    0.,  904., ...,  549.,  247.,  559.],\n",
              "       [ 691., 1437.,    0., ...,  960.,  670.,  131.],\n",
              "       ...,\n",
              "       [1501.,  610.,  403., ...,    0.,  133.,  303.],\n",
              "       [1356.,  681.,  567., ...,  348.,    0.,  847.],\n",
              "       [1466., 1020.,   90., ...,  700.,  824.,    0.]])"
            ]
          },
          "execution_count": 8,
          "metadata": {},
          "output_type": "execute_result"
        }
      ],
      "source": [
        "assert np.diag(game_rank).sum() == 0\n",
        "game_rank"
      ]
    },
    {
      "cell_type": "markdown",
      "id": "8c0ecd92",
      "metadata": {
        "id": "8c0ecd92"
      },
      "source": [
        "Using this table, we can build a minimally viable game."
      ]
    },
    {
      "cell_type": "code",
      "execution_count": null,
      "id": "fc618764",
      "metadata": {
        "id": "fc618764"
      },
      "outputs": [],
      "source": [
        "def simple_game():\n",
        "    target = np.random.randint(N)\n",
        "    win_flag = False\n",
        "    attempts = 0\n",
        "    while True:\n",
        "        print(\"Input the number\")\n",
        "        attempt = int(input())\n",
        "        rank = int(game_rank[target][attempt])\n",
        "        if attempt == -1:\n",
        "            break\n",
        "        print(\"The rank of your word is \" + str(rank))\n",
        "        attempts += 1\n",
        "        if rank == 0:\n",
        "            win_flag = True\n",
        "            break\n",
        "    print(\"Number of attempts is \" + str(attempts))\n",
        "    print(\"answer is \" + str(target))"
      ]
    },
    {
      "cell_type": "code",
      "execution_count": null,
      "id": "b2de90ff",
      "metadata": {
        "id": "b2de90ff",
        "outputId": "0368c237-5667-48d8-b379-458e431767aa"
      },
      "outputs": [
        {
          "name": "stdout",
          "output_type": "stream",
          "text": [
            "Input the number\n",
            "1\n",
            "The rank of your word is 1212\n",
            "Input the number\n",
            "22\n",
            "The rank of your word is 1054\n",
            "Input the number\n",
            "345\n",
            "The rank of your word is 373\n",
            "Input the number\n",
            "-1\n",
            "Number of attempts is 3\n",
            "answer is 1336\n"
          ]
        }
      ],
      "source": [
        "simple_game()"
      ]
    },
    {
      "cell_type": "markdown",
      "id": "22a151b3",
      "metadata": {
        "id": "22a151b3"
      },
      "source": [
        "Let's randomly call the words in some order (without repetition). Then at least on the nth attempt we will guess. It is not difficult to calculate that the expectation of the number of attempts is equal to\n",
        "$$E[attempts] = \\frac{1+2+...+N}{N} = \\frac{N(N+1)}{2N} = \\frac{N+1}{2} = 761.5$$\n",
        "\n",
        "Can a meaningful strategy reduce for us the expectation of the number of attempts to win?\n",
        "\n",
        "First of all, let's assume that we have some idea of our own about the proximity of words. For simplicity, let's use another model as a \"player's view of the world\". Similarly, we will rank all the words $j$ for the player relative to the proximity to the word $i$."
      ]
    },
    {
      "cell_type": "markdown",
      "id": "b5c6ea36",
      "metadata": {
        "id": "b5c6ea36"
      },
      "source": [
        "## Adding a player with own believes about the closeness of words"
      ]
    },
    {
      "cell_type": "code",
      "execution_count": null,
      "id": "899326f8",
      "metadata": {
        "id": "899326f8"
      },
      "outputs": [],
      "source": [
        "# model\n",
        "model2 = gensim.downloader.load('glove-twitter-100')"
      ]
    },
    {
      "cell_type": "code",
      "execution_count": null,
      "id": "4b6079d1",
      "metadata": {
        "id": "4b6079d1",
        "outputId": "483d2075-70a9-4a8e-ef3a-243529139fe5"
      },
      "outputs": [
        {
          "name": "stderr",
          "output_type": "stream",
          "text": [
            "100%|██████████| 1522/1522 [00:35<00:00, 42.48it/s]\n"
          ]
        },
        {
          "data": {
            "text/plain": [
              "array([[ 1.        , -0.0395495 ,  0.43833685, ...,  0.24595915,\n",
              "         0.44524622,  0.2986683 ],\n",
              "       [-0.0395495 ,  1.        ,  0.16166672, ...,  0.27183193,\n",
              "         0.30649003,  0.26748785],\n",
              "       [ 0.43833685,  0.16166672,  0.99999994, ...,  0.44572791,\n",
              "         0.51124144,  0.49220371],\n",
              "       ...,\n",
              "       [ 0.24595915,  0.27183193,  0.44572791, ...,  1.        ,\n",
              "         0.34110683,  0.48637831],\n",
              "       [ 0.44524622,  0.30649003,  0.51124144, ...,  0.34110683,\n",
              "         1.        ,  0.53777546],\n",
              "       [ 0.2986683 ,  0.26748785,  0.49220371, ...,  0.48637831,\n",
              "         0.53777546,  1.        ]])"
            ]
          },
          "execution_count": 12,
          "metadata": {},
          "output_type": "execute_result"
        }
      ],
      "source": [
        "N = len(nouns)\n",
        "sim_player = np.zeros((N, N))\n",
        "for i in tqdm(range(N)):\n",
        "    for j in range(N):\n",
        "        sim_player[i][j] = model2.similarity(nouns[i], nouns[j])\n",
        "\n",
        "sim_player"
      ]
    },
    {
      "cell_type": "code",
      "execution_count": null,
      "id": "b54a8c16",
      "metadata": {
        "id": "b54a8c16",
        "outputId": "80838bbf-8096-42a9-f147-4a610a00e49e"
      },
      "outputs": [
        {
          "name": "stderr",
          "output_type": "stream",
          "text": [
            "100%|██████████| 1522/1522 [00:00<00:00, 5909.22it/s]\n"
          ]
        }
      ],
      "source": [
        "player_rank = np.zeros((N, N))\n",
        "for i in tqdm(range(N)):\n",
        "    player_rank[i] = np.argsort(np.argsort(sim_player[i])[::-1])"
      ]
    },
    {
      "cell_type": "markdown",
      "id": "b234f606",
      "metadata": {
        "id": "b234f606"
      },
      "source": [
        "Note that on average, the difference between the ranks of the player model and the game model is $284$. This suggests that the representations of different models about the proximity of words can be quite different."
      ]
    },
    {
      "cell_type": "code",
      "execution_count": null,
      "id": "053fb940",
      "metadata": {
        "id": "053fb940",
        "outputId": "7cb8dead-a410-4676-fe97-eada086b8210"
      },
      "outputs": [
        {
          "data": {
            "text/plain": [
              "284.3549292807548"
            ]
          },
          "execution_count": 14,
          "metadata": {},
          "output_type": "execute_result"
        }
      ],
      "source": [
        "np.abs(game_rank - player_rank).mean()"
      ]
    },
    {
      "cell_type": "code",
      "execution_count": null,
      "id": "99db1af6",
      "metadata": {
        "id": "99db1af6",
        "outputId": "7cfc96e1-8bbc-45fc-e3f0-d84392db2dbf"
      },
      "outputs": [
        {
          "data": {
            "text/plain": [
              "0.0"
            ]
          },
          "execution_count": 15,
          "metadata": {},
          "output_type": "execute_result"
        }
      ],
      "source": [
        "(game_rank - player_rank).mean()"
      ]
    },
    {
      "cell_type": "code",
      "execution_count": null,
      "id": "d8775edb",
      "metadata": {
        "id": "d8775edb",
        "outputId": "7c125bda-dec0-4d15-f50c-d0a89769d5ac"
      },
      "outputs": [
        {
          "data": {
            "text/plain": [
              "array([[   0., 1513.,  375., ..., 1043.,  355.,  852.],\n",
              "       [1519.,    0., 1264., ...,  765.,  630.,  780.],\n",
              "       [ 504., 1467.,    0., ...,  470.,  240.,  305.],\n",
              "       ...,\n",
              "       [1326., 1216.,  251., ...,    0.,  817.,  128.],\n",
              "       [ 768., 1312.,  456., ..., 1202.,    0.,  368.],\n",
              "       [1275., 1363.,  407., ...,  438.,  238.,    0.]])"
            ]
          },
          "execution_count": 16,
          "metadata": {},
          "output_type": "execute_result"
        }
      ],
      "source": [
        "player_rank"
      ]
    },
    {
      "cell_type": "code",
      "execution_count": null,
      "id": "8fa9e263",
      "metadata": {
        "id": "8fa9e263",
        "outputId": "b484f9a1-16c7-4a03-d72f-d42299eb48a8"
      },
      "outputs": [
        {
          "data": {
            "text/plain": [
              "array([[   0., 1517.,  109., ..., 1328.,  609., 1061.],\n",
              "       [1519.,    0.,  904., ...,  549.,  247.,  559.],\n",
              "       [ 691., 1437.,    0., ...,  960.,  670.,  131.],\n",
              "       ...,\n",
              "       [1501.,  610.,  403., ...,    0.,  133.,  303.],\n",
              "       [1356.,  681.,  567., ...,  348.,    0.,  847.],\n",
              "       [1466., 1020.,   90., ...,  700.,  824.,    0.]])"
            ]
          },
          "execution_count": 17,
          "metadata": {},
          "output_type": "execute_result"
        }
      ],
      "source": [
        "game_rank"
      ]
    },
    {
      "cell_type": "markdown",
      "id": "49e460ab",
      "metadata": {
        "id": "49e460ab"
      },
      "source": [
        "Now let's look at the difference in ranks in more detail. Let's fix the rank of $k$ from the \"game\" model and calculate what the average deviation from $k$ is shown by the ranks of the \"player\" model."
      ]
    },
    {
      "cell_type": "code",
      "execution_count": null,
      "id": "46ba928f",
      "metadata": {
        "id": "46ba928f",
        "outputId": "c342a8ef-b625-4df2-ff72-8dd548d15ad5"
      },
      "outputs": [
        {
          "name": "stderr",
          "output_type": "stream",
          "text": [
            "100%|██████████| 1522/1522 [00:07<00:00, 214.52it/s]\n"
          ]
        }
      ],
      "source": [
        "rank_difference = np.zeros(N)\n",
        "for i in tqdm(range(N)):\n",
        "    for j in range(N):\n",
        "        r = game_rank[i][j]\n",
        "        rank_difference[int(r)] += np.abs(game_rank[i][j] - player_rank[i][j])\n",
        "rank_difference /= N"
      ]
    },
    {
      "cell_type": "code",
      "execution_count": null,
      "id": "137bef8a",
      "metadata": {
        "id": "137bef8a",
        "outputId": "b0b2d7ab-699e-4e24-8776-159539d5bc48"
      },
      "outputs": [
        {
          "data": {
            "text/plain": [
              "array([  0.        ,  69.36399474,  75.0847569 , ..., 192.45269382,\n",
              "       193.14388962, 204.82785808])"
            ]
          },
          "execution_count": 19,
          "metadata": {},
          "output_type": "execute_result"
        }
      ],
      "source": [
        "rank_difference"
      ]
    },
    {
      "cell_type": "code",
      "execution_count": null,
      "id": "caf6868b",
      "metadata": {
        "id": "caf6868b",
        "outputId": "d922a3dd-8add-4674-9c08-ba255b27407c"
      },
      "outputs": [
        {
          "data": {
            "text/plain": [
              "284.3549292807548"
            ]
          },
          "execution_count": 20,
          "metadata": {},
          "output_type": "execute_result"
        }
      ],
      "source": [
        "rank_difference.mean()"
      ]
    },
    {
      "cell_type": "code",
      "execution_count": null,
      "id": "b13cb54f",
      "metadata": {
        "id": "b13cb54f",
        "outputId": "3c619d8d-3d75-4bac-fbc0-b43dba7805d8"
      },
      "outputs": [
        {
          "data": {
            "image/png": "[encoded data removed]",
            "text/plain": [
              "<Figure size 432x288 with 1 Axes>"
            ]
          },
          "metadata": {
            "needs_background": "light"
          },
          "output_type": "display_data"
        }
      ],
      "source": [
        "plt.scatter(np.arange(N), rank_difference, s=1)\n",
        "plt.xlabel('rank by game')\n",
        "plt.ylabel('abs diff between player and game ranks')\n",
        "plt.show()"
      ]
    },
    {
      "cell_type": "markdown",
      "id": "f40375c6",
      "metadata": {
        "id": "f40375c6"
      },
      "source": [
        "We can see that the differences in the forecast of close words are much smaller than in the forecast of distant ones. This seems logical: all models will say that the word \"mother\" is close to the word \"father\". However, the models may differ in what is closer to the word \"mother\": \"guitar\" or \"basketball\"."
      ]
    },
    {
      "cell_type": "markdown",
      "id": "a20489ef",
      "metadata": {
        "id": "a20489ef"
      },
      "source": [
        "## Player rank using Algorithm\n",
        "\n",
        "Let's implement the following algorithm.\n",
        "The word for the first move is chosen randomly. The game returns how close this word is to the target word (rank $k$). The player looks at his matrix, which word is at the position $k$ from the hidden one and uses this word for the next move. Etc. If the player at some point previously called a word that is at the position $k$ from the hidden one, then he calls the word at the position $k-1$ ($k+1$, $k-2$, $k+2$ e.t.c.).\n",
        "This happens until the player guesses the target word."
      ]
    },
    {
      "cell_type": "code",
      "execution_count": null,
      "id": "07c5a94b",
      "metadata": {
        "id": "07c5a94b"
      },
      "outputs": [],
      "source": [
        "# Auxiliary function. Determining the closest number to the number num that has not been used before\n",
        "\n",
        "def get_nearest_num(num, used, num_set=np.arange(N)):\n",
        "    if num not in used:\n",
        "        return num\n",
        "    min_diff = np.inf\n",
        "    nearest = np.nan\n",
        "    for i in num_set:\n",
        "        if i not in used:\n",
        "            diff = np.abs(num - i)\n",
        "            if diff < min_diff:\n",
        "                min_diff = diff\n",
        "                nearest = i\n",
        "    return nearest"
      ]
    },
    {
      "cell_type": "code",
      "execution_count": null,
      "id": "62c09e92",
      "metadata": {
        "id": "62c09e92",
        "outputId": "a96ef0d9-4761-4988-bc43-a54b72a8ed9c"
      },
      "outputs": [
        {
          "data": {
            "text/plain": [
              "7"
            ]
          },
          "execution_count": 28,
          "metadata": {},
          "output_type": "execute_result"
        }
      ],
      "source": [
        "get_nearest_num(5, [3,4,5,6,111])"
      ]
    },
    {
      "cell_type": "code",
      "execution_count": null,
      "id": "f913de3f",
      "metadata": {
        "id": "f913de3f"
      },
      "outputs": [],
      "source": [
        "def player_rank_using(target, first_move):\n",
        "    attempts = 1\n",
        "    move = first_move\n",
        "    used = []\n",
        "    while target != move:\n",
        "        attempts += 1\n",
        "        game_output = int(game_rank[target][move])\n",
        "        used.append(move)\n",
        "        next_move = -1\n",
        "        curr_used = []\n",
        "        while next_move == -1:\n",
        "            output = get_nearest_num(game_output, curr_used)\n",
        "            for k in range(N):\n",
        "                if player_rank[move][k] == output:\n",
        "                    next_move = k\n",
        "            if next_move in used:\n",
        "                curr_used.append(output)\n",
        "                next_move = -1\n",
        "        move = next_move\n",
        "    return attempts"
      ]
    },
    {
      "cell_type": "markdown",
      "id": "d80bcb1b",
      "metadata": {
        "id": "d80bcb1b"
      },
      "source": [
        "Let's run 1000 simulations of games where the player uses this algorithm.\n",
        "Let's look at the various parameters."
      ]
    },
    {
      "cell_type": "code",
      "execution_count": null,
      "id": "ea7eec71",
      "metadata": {
        "id": "ea7eec71",
        "outputId": "f28a5b0f-79ac-4846-b26f-59472ef394ec"
      },
      "outputs": [
        {
          "name": "stderr",
          "output_type": "stream",
          "text": [
            "100%|██████████| 1000/1000 [1:00:02<00:00,  3.60s/it] \n"
          ]
        }
      ],
      "source": [
        "np.random.seed()\n",
        "M = 1000\n",
        "PRU_num_moves_to_win = np.zeros(M)\n",
        "for k in tqdm(range(M)):\n",
        "    i = np.random.choice(N)\n",
        "    j = np.random.choice(N)\n",
        "    PRU_num_moves_to_win[k] = player_rank_using(i, j)"
      ]
    },
    {
      "cell_type": "code",
      "execution_count": null,
      "id": "633eaec7",
      "metadata": {
        "id": "633eaec7",
        "outputId": "84662fd2-94d6-4be3-85f3-0bbe7c1fe7ad"
      },
      "outputs": [
        {
          "data": {
            "text/plain": [
              "461.133"
            ]
          },
          "execution_count": 55,
          "metadata": {},
          "output_type": "execute_result"
        }
      ],
      "source": [
        "PRU_num_moves_to_win.mean()"
      ]
    },
    {
      "cell_type": "code",
      "execution_count": null,
      "id": "cd3dd1b9",
      "metadata": {
        "id": "cd3dd1b9",
        "outputId": "a5ae1aa9-c7fa-47bf-8188-d7f13af7d496"
      },
      "outputs": [
        {
          "data": {
            "text/plain": [
              "356.5782232708554"
            ]
          },
          "execution_count": 66,
          "metadata": {},
          "output_type": "execute_result"
        }
      ],
      "source": [
        "PRU_num_moves_to_win.std()"
      ]
    },
    {
      "cell_type": "code",
      "execution_count": null,
      "id": "6e00e52f",
      "metadata": {
        "id": "6e00e52f",
        "outputId": "77e62b8b-1024-4020-a880-44f52a12a2a1"
      },
      "outputs": [
        {
          "data": {
            "text/plain": [
              "386.0"
            ]
          },
          "execution_count": 80,
          "metadata": {},
          "output_type": "execute_result"
        }
      ],
      "source": [
        "np.median(PRU_num_moves_to_win)"
      ]
    },
    {
      "cell_type": "code",
      "execution_count": null,
      "id": "46b5dd29",
      "metadata": {
        "id": "46b5dd29",
        "outputId": "135daf6b-eff4-44f1-c8b1-3afaab724663"
      },
      "outputs": [
        {
          "data": {
            "text/plain": [
              "0.295"
            ]
          },
          "execution_count": 78,
          "metadata": {},
          "output_type": "execute_result"
        }
      ],
      "source": [
        "(PRU_num_moves_to_win < 200).mean()"
      ]
    },
    {
      "cell_type": "code",
      "execution_count": null,
      "id": "79cba95f",
      "metadata": {
        "id": "79cba95f",
        "outputId": "c5fb603d-7ada-45b7-d44d-c1d4ff00d9cc"
      },
      "outputs": [
        {
          "data": {
            "image/png": "[encoded data removed]",
            "text/plain": [
              "<Figure size 432x288 with 1 Axes>"
            ]
          },
          "metadata": {
            "needs_background": "light"
          },
          "output_type": "display_data"
        }
      ],
      "source": [
        "plt.hist(PRU_num_moves_to_win, bins=25)\n",
        "plt.xlabel('attempts for win')\n",
        "plt.show()"
      ]
    },
    {
      "cell_type": "markdown",
      "id": "72732aa7",
      "metadata": {
        "id": "72732aa7"
      },
      "source": [
        "The estimated expectation of the number of moves is $461$. This is significantly less than $761$ with a random choice of words.\n",
        "\n",
        "The standard deviation for random word selection is approximately equal to $\\sqrt{\\frac{(N-1)^2}{12}} \\approx 439$.\n",
        "\n",
        "The estimated standard deviation when using the PRU algorithm is $365$. That's less than $439$.\n",
        "\n",
        "Finally, let's look at the empirical distribution function of the number of attempts. We see that it is decreasing. In almost 30% of cases, 200 attempts are enough to guess the word."
      ]
    },
    {
      "cell_type": "markdown",
      "id": "3a372cea",
      "metadata": {
        "id": "3a372cea"
      },
      "source": [
        "## Further ideas\n",
        "\n",
        "You can try another model as a player's faith and study how the proximity of the player and game matrices affects the average number of moves to guess the target word.\n",
        "\n",
        "You can improve the algorithm by teaching it to take into account all the information, not just the previous move."
      ]
    }
  ],
  "metadata": {
    "kernelspec": {
      "display_name": "Python 3",
      "language": "python",
      "name": "python3"
    },
    "language_info": {
      "codemirror_mode": {
        "name": "ipython",
        "version": 3
      },
      "file_extension": ".py",
      "mimetype": "text/x-python",
      "name": "python",
      "nbconvert_exporter": "python",
      "pygments_lexer": "ipython3",
      "version": "3.8.8"
    },
    "colab": {
      "provenance": []
    }
  },
  "nbformat": 4,
  "nbformat_minor": 5
}